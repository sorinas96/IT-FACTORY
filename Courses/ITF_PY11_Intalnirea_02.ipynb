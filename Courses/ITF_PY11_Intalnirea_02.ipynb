{
 "cells": [
  {
   "cell_type": "markdown",
   "id": "a0a7119c",
   "metadata": {},
   "source": [
    "# Discutii Tema 01 "
   ]
  },
  {
   "cell_type": "code",
   "execution_count": 13,
   "id": "8feca55b",
   "metadata": {},
   "outputs": [
    {
     "name": "stdout",
     "output_type": "stream",
     "text": [
      "alabala portocala\n",
      "lAbAlA portocAl\n",
      "alAbAlA portocAla\n"
     ]
    }
   ],
   "source": [
    "# 12.citeste un string de la tastatura (eg: alabala portocala)\n",
    "# salveaza primul caracter intr-o variabila (indiferent care este el, incearca cu 2 stringuri diferite) \n",
    "# capitalizeaza acest caracter peste tot, mai putin pentru primul si ultimul caracter\n",
    "# => alAbAlA portocAla\n",
    "\n",
    "# my_string = input(\"Introduceti un string: \")\n",
    "my_string = 'alabala portocala'\n",
    "first_character = my_string[0]\n",
    "\n",
    "replaced_string = my_string[1:-1].replace(first_character, first_character.upper())  # str e imutabil (o variabila str odata creata nu mai poate fi modificata, doar reasignata)\n",
    "\n",
    "final_string = my_string[0] + replaced_string + my_string[-1]\n",
    "print(my_string)\n",
    "print(replaced_string)\n",
    "print(final_string)\n",
    "# my_string.upper()"
   ]
  },
  {
   "cell_type": "code",
   "execution_count": 10,
   "id": "486212e7",
   "metadata": {},
   "outputs": [
    {
     "name": "stdout",
     "output_type": "stream",
     "text": [
      "DaciaDuster\n"
     ]
    }
   ],
   "source": [
    "marca = 'Dacia'\n",
    "model = 'Duster'\n",
    "\n",
    "# Vrem sa printam 'DaciaDuster'\n",
    "\n",
    "# concatenare\n",
    "print(marca+model)"
   ]
  },
  {
   "cell_type": "code",
   "execution_count": 14,
   "id": "bbff9412",
   "metadata": {},
   "outputs": [
    {
     "name": "stdout",
     "output_type": "stream",
     "text": [
      "Introduceti user`ul: User1\n",
      "Introduceti parola: parola1.\n",
      "Parola pt user User1 este ******** si are 8 caractere\n"
     ]
    }
   ],
   "source": [
    "# 13. citeste un user de la tastatura\n",
    "# citeste o parola\n",
    "# afiseaza: 'Parola pt user x este ***** si are x caractere'\n",
    "# ***** se va calcula dinamic, indiferent de dimensiunea parolei, trebuie sa afiseze corect\n",
    "# eg: parola abc => ***\n",
    "# parola abcd => ****\n",
    "user = input(\"Introduceti user`ul: \")\n",
    "password = input(\"Introduceti parola: \")\n",
    "\n",
    "print(f'Parola pt user {user} este {\"*\" * len(password)} si are {len(password)} caractere', )\n",
    "\n"
   ]
  },
  {
   "cell_type": "code",
   "execution_count": 43,
   "id": "e6710c1b",
   "metadata": {},
   "outputs": [
    {
     "name": "stdout",
     "output_type": "stream",
     "text": [
      " the coral is either the stupidest animal or the smartest rock, love it or loathe it, therefore something something...\n",
      "3\n",
      "3\n"
     ]
    }
   ],
   "source": [
    "# 9. acelasi string\n",
    "# inlocuieste the cu THE peste tot\n",
    "# printeaza rezultatul\n",
    "my_string = 'Coral is either the stupidest animal or the smartest rock'\n",
    "\n",
    "my_string = my_string.replace(\"the\", \"THE\")\n",
    "# print(my_string)\n",
    "\n",
    "\n",
    "# ex9_2\n",
    "my_string2 = 'The coral is either the stupidest animal or the smartest rock, love it or loathe it, therefore something something...'\n",
    "# Vrem sa calculam de cate ori apare cuvantul 'the' (nu conteaza case) si nu insiruirea de caractere 'the'\n",
    "# => 3\n",
    "\n",
    "my_string2 = my_string2.lower()\n",
    "my_string2 = \" \" + my_string2\n",
    "print(my_string2)\n",
    "\n",
    "print(my_string2.count(' the '))\n",
    "\n",
    "# v2 \n",
    "print(my_string2.lower().split(' ').count(\"the\"))\n",
    "\n",
    "\n"
   ]
  },
  {
   "cell_type": "code",
   "execution_count": 46,
   "id": "f942b666",
   "metadata": {},
   "outputs": [
    {
     "data": {
      "text/plain": [
       "['the', 'coral', 'is', 'something']"
      ]
     },
     "execution_count": 46,
     "metadata": {},
     "output_type": "execute_result"
    }
   ],
   "source": [
    "s = 'The coral is something.'\n",
    "s.lower().strip('!?.').split()"
   ]
  },
  {
   "cell_type": "code",
   "execution_count": null,
   "id": "e74beb02",
   "metadata": {},
   "outputs": [],
   "source": []
  },
  {
   "cell_type": "code",
   "execution_count": 55,
   "id": "b8d56e75",
   "metadata": {},
   "outputs": [
    {
     "name": "stdout",
     "output_type": "stream",
     "text": [
      "Introduceti un string de dim impara: abcd\n",
      "c\n"
     ]
    }
   ],
   "source": [
    "# 10. citeste de la tastatura un string de dimensiune impara\n",
    "# afiseaza caracterul din mijloc\n",
    "\n",
    "# Conventia exercitiului e sa introducem un string de dimensiune impara\n",
    "my_string = input(\"Introduceti un string de dim impara: \")\n",
    "\n",
    "# my_string = \"carte\" \n",
    "#indecsi       01234  \n",
    "\n",
    "# len = 5 / 2 = 2.5\n",
    "\n",
    "middle_index = int(len(my_string) / 2)\n",
    "# print(middle_index)\n",
    "\n",
    "print(my_string[middle_index])"
   ]
  },
  {
   "cell_type": "code",
   "execution_count": 66,
   "id": "a9bd41fa",
   "metadata": {},
   "outputs": [
    {
     "name": "stdout",
     "output_type": "stream",
     "text": [
      "r\n"
     ]
    }
   ],
   "source": [
    "my_string = \"carte\" \n",
    "print(my_string[len(my_string) // 2]) "
   ]
  },
  {
   "cell_type": "code",
   "execution_count": null,
   "id": "997f2cfc",
   "metadata": {},
   "outputs": [],
   "source": []
  },
  {
   "cell_type": "code",
   "execution_count": 48,
   "id": "b87877e2",
   "metadata": {},
   "outputs": [
    {
     "name": "stdout",
     "output_type": "stream",
     "text": [
      "2\n"
     ]
    }
   ],
   "source": [
    "x = 2.5\n",
    "# Cum pot sa il scot pe 2 din 2.5?\n",
    "\n",
    "x = int(x)\n",
    "print(x)"
   ]
  },
  {
   "cell_type": "code",
   "execution_count": 56,
   "id": "dc6d419c",
   "metadata": {},
   "outputs": [],
   "source": [
    "# C02_EX01 (HOMEWORK): Modificati exercitiul de mai sus, astfel incat sa nu accepte stringuri de dimensiune para. Daca cumva primim\n",
    "# un string de dimensiune para, sa se afiseze: \"Ati introdus un string de dimensiune para!!\""
   ]
  },
  {
   "cell_type": "code",
   "execution_count": null,
   "id": "f3cc227c",
   "metadata": {},
   "outputs": [],
   "source": []
  },
  {
   "cell_type": "markdown",
   "id": "0d641ac2",
   "metadata": {},
   "source": [
    "# Intalnirea 2"
   ]
  },
  {
   "cell_type": "code",
   "execution_count": 57,
   "id": "9b132868",
   "metadata": {},
   "outputs": [],
   "source": [
    "# Operatori de atribuire (asignare):  =, +=, -=, *=, /="
   ]
  },
  {
   "cell_type": "code",
   "execution_count": 58,
   "id": "0fde1965",
   "metadata": {},
   "outputs": [
    {
     "name": "stdout",
     "output_type": "stream",
     "text": [
      "50\n"
     ]
    }
   ],
   "source": [
    "n = 10\n",
    "# Vreau sa il maresc pe n de 5 ori\n",
    "n *= 5   # echivalent cu: n = n * 5\n",
    "print(n)"
   ]
  },
  {
   "cell_type": "code",
   "execution_count": 60,
   "id": "373a2ed0",
   "metadata": {},
   "outputs": [
    {
     "name": "stdout",
     "output_type": "stream",
     "text": [
      "5.0\n",
      "<class 'float'>\n"
     ]
    }
   ],
   "source": [
    "n = 15\n",
    "n /= 3 \n",
    "print(n)\n",
    "print(type(n))"
   ]
  },
  {
   "cell_type": "code",
   "execution_count": 61,
   "id": "5758b0bd",
   "metadata": {},
   "outputs": [],
   "source": [
    "# Operatori aritmetici: +, -, *, /, //, %, **"
   ]
  },
  {
   "cell_type": "code",
   "execution_count": 64,
   "id": "62f5be96",
   "metadata": {},
   "outputs": [
    {
     "name": "stdout",
     "output_type": "stream",
     "text": [
      "3.6666666666666665\n",
      "3\n"
     ]
    }
   ],
   "source": [
    "n = 11\n",
    "print(n/3)    # 3.xxxxx, un float, impartire exacta\n",
    "print(n//3)   # 3, un int, partea intreaga a impartirii"
   ]
  },
  {
   "cell_type": "code",
   "execution_count": 65,
   "id": "8ea40fc7",
   "metadata": {},
   "outputs": [
    {
     "name": "stdout",
     "output_type": "stream",
     "text": [
      "<class 'float'>\n",
      "<class 'int'>\n"
     ]
    }
   ],
   "source": [
    "e = n / 3\n",
    "i = n // 3\n",
    "\n",
    "print(type(e))  # float\n",
    "print(type(i))  # int"
   ]
  },
  {
   "cell_type": "code",
   "execution_count": 67,
   "id": "b484bf68",
   "metadata": {},
   "outputs": [
    {
     "name": "stdout",
     "output_type": "stream",
     "text": [
      "2\n"
     ]
    }
   ],
   "source": [
    "n = 11\n",
    "print(n % 3)   # restul impartirii lui n la 3"
   ]
  },
  {
   "cell_type": "code",
   "execution_count": 71,
   "id": "52cfcc9e",
   "metadata": {},
   "outputs": [
    {
     "name": "stdout",
     "output_type": "stream",
     "text": [
      "16\n"
     ]
    }
   ],
   "source": [
    "n = 4\n",
    "print(n**2)   # n la puterea a 2-a"
   ]
  },
  {
   "cell_type": "code",
   "execution_count": 72,
   "id": "d119874a",
   "metadata": {},
   "outputs": [
    {
     "ename": "ZeroDivisionError",
     "evalue": "division by zero",
     "output_type": "error",
     "traceback": [
      "\u001b[1;31m---------------------------------------------------------------------------\u001b[0m",
      "\u001b[1;31mZeroDivisionError\u001b[0m                         Traceback (most recent call last)",
      "\u001b[1;32m<ipython-input-72-13f09d622c74>\u001b[0m in \u001b[0;36m<module>\u001b[1;34m\u001b[0m\n\u001b[0;32m      1\u001b[0m \u001b[0mn\u001b[0m \u001b[1;33m=\u001b[0m \u001b[1;36m4\u001b[0m\u001b[1;33m\u001b[0m\u001b[1;33m\u001b[0m\u001b[0m\n\u001b[1;32m----> 2\u001b[1;33m \u001b[0mprint\u001b[0m\u001b[1;33m(\u001b[0m\u001b[0mn\u001b[0m\u001b[1;33m/\u001b[0m\u001b[1;36m0\u001b[0m\u001b[1;33m)\u001b[0m\u001b[1;33m\u001b[0m\u001b[1;33m\u001b[0m\u001b[0m\n\u001b[0m",
      "\u001b[1;31mZeroDivisionError\u001b[0m: division by zero"
     ]
    }
   ],
   "source": [
    "n = 4 \n",
    "print(n/0)"
   ]
  },
  {
   "cell_type": "code",
   "execution_count": 74,
   "id": "6ad325d3",
   "metadata": {},
   "outputs": [
    {
     "name": "stdout",
     "output_type": "stream",
     "text": [
      "1.0\n"
     ]
    }
   ],
   "source": [
    "x, y, z = 2, 4, 8\n",
    "\n",
    "print(z / y / x)"
   ]
  },
  {
   "cell_type": "code",
   "execution_count": 75,
   "id": "c91cb775",
   "metadata": {},
   "outputs": [
    {
     "name": "stdout",
     "output_type": "stream",
     "text": [
      "11\n"
     ]
    }
   ],
   "source": [
    "print(1 + 2 * 5 + 2 - 2)"
   ]
  },
  {
   "cell_type": "code",
   "execution_count": 76,
   "id": "fe2fd1e7",
   "metadata": {},
   "outputs": [
    {
     "name": "stdout",
     "output_type": "stream",
     "text": [
      "13\n"
     ]
    }
   ],
   "source": [
    "print(1 + 2 * (5 + 2) - 2)   # !atentie la ordinea efectuarii operatiilor"
   ]
  },
  {
   "cell_type": "code",
   "execution_count": 77,
   "id": "e0db7154",
   "metadata": {},
   "outputs": [
    {
     "data": {
      "text/plain": [
       "True"
      ]
     },
     "execution_count": 77,
     "metadata": {},
     "output_type": "execute_result"
    }
   ],
   "source": [
    "n = 22\n",
    "# Vrem sa determinam daca n e par sau impar\n",
    "\n",
    "n % 2 == 0  \n",
    "\n"
   ]
  },
  {
   "cell_type": "code",
   "execution_count": null,
   "id": "ce1eb2b2",
   "metadata": {},
   "outputs": [],
   "source": []
  },
  {
   "cell_type": "code",
   "execution_count": 78,
   "id": "9c50d3a1",
   "metadata": {},
   "outputs": [],
   "source": [
    "# Operatori de comparare: ==, !=, <, >, <=, >="
   ]
  },
  {
   "cell_type": "code",
   "execution_count": 81,
   "id": "06fcd89b",
   "metadata": {},
   "outputs": [
    {
     "name": "stdout",
     "output_type": "stream",
     "text": [
      "False\n",
      "True\n",
      "True\n"
     ]
    }
   ],
   "source": [
    "x = 6\n",
    "y = 5\n",
    "print(x == y)  # egalitate \n",
    "print(x != y)  # diferit\n",
    "print(x > y)   # mai mare"
   ]
  },
  {
   "cell_type": "code",
   "execution_count": 88,
   "id": "f332fc92",
   "metadata": {},
   "outputs": [
    {
     "name": "stdout",
     "output_type": "stream",
     "text": [
      "True\n"
     ]
    }
   ],
   "source": [
    "s1 = 'abcd'\n",
    "s2 = 'bcd'\n",
    "\n",
    "print(s1 < s2)  # compararea se face alfanumeric, \n",
    "# merge pe fiecare poztie si compara caracterele"
   ]
  },
  {
   "cell_type": "code",
   "execution_count": 89,
   "id": "18e1bfa4",
   "metadata": {},
   "outputs": [
    {
     "data": {
      "text/plain": [
       "97"
      ]
     },
     "execution_count": 89,
     "metadata": {},
     "output_type": "execute_result"
    }
   ],
   "source": [
    "ord('a')  # 97 e codul ASCII a lui 'a'"
   ]
  },
  {
   "cell_type": "code",
   "execution_count": 90,
   "id": "6343d1c3",
   "metadata": {},
   "outputs": [
    {
     "data": {
      "text/plain": [
       "98"
      ]
     },
     "execution_count": 90,
     "metadata": {},
     "output_type": "execute_result"
    }
   ],
   "source": [
    "ord('b')"
   ]
  },
  {
   "cell_type": "code",
   "execution_count": 91,
   "id": "0919dbe0",
   "metadata": {},
   "outputs": [
    {
     "data": {
      "text/plain": [
       "True"
      ]
     },
     "execution_count": 91,
     "metadata": {},
     "output_type": "execute_result"
    }
   ],
   "source": [
    "97 < 98  "
   ]
  },
  {
   "cell_type": "code",
   "execution_count": 93,
   "id": "88959d95",
   "metadata": {},
   "outputs": [
    {
     "data": {
      "text/plain": [
       "10"
      ]
     },
     "execution_count": 93,
     "metadata": {},
     "output_type": "execute_result"
    }
   ],
   "source": [
    "ord('\\n')"
   ]
  },
  {
   "cell_type": "code",
   "execution_count": 95,
   "id": "a7c34bfa",
   "metadata": {},
   "outputs": [
    {
     "data": {
      "text/plain": [
       "65"
      ]
     },
     "execution_count": 95,
     "metadata": {},
     "output_type": "execute_result"
    }
   ],
   "source": [
    "ord('A')"
   ]
  },
  {
   "cell_type": "code",
   "execution_count": 97,
   "id": "4dedeabe",
   "metadata": {},
   "outputs": [
    {
     "name": "stdout",
     "output_type": "stream",
     "text": [
      "True\n"
     ]
    }
   ],
   "source": [
    "s1 = 'abcd'\n",
    "s2 = 'abc'\n",
    "\n",
    "print(s1 > s2)"
   ]
  },
  {
   "cell_type": "code",
   "execution_count": 98,
   "id": "cdbe491e",
   "metadata": {},
   "outputs": [],
   "source": [
    "# Operatori logici: and, or, not"
   ]
  },
  {
   "cell_type": "code",
   "execution_count": 100,
   "id": "69ae2096",
   "metadata": {},
   "outputs": [],
   "source": [
    "# folositi de obicei pe valori de adevar, nu pe numere"
   ]
  },
  {
   "cell_type": "code",
   "execution_count": 101,
   "id": "7ab37683",
   "metadata": {},
   "outputs": [
    {
     "data": {
      "text/plain": [
       "True"
      ]
     },
     "execution_count": 101,
     "metadata": {},
     "output_type": "execute_result"
    }
   ],
   "source": [
    "True and True\n"
   ]
  },
  {
   "cell_type": "code",
   "execution_count": 102,
   "id": "f19b5d90",
   "metadata": {},
   "outputs": [
    {
     "data": {
      "text/plain": [
       "False"
      ]
     },
     "execution_count": 102,
     "metadata": {},
     "output_type": "execute_result"
    }
   ],
   "source": [
    "True and False"
   ]
  },
  {
   "cell_type": "code",
   "execution_count": 103,
   "id": "9ed4a74e",
   "metadata": {},
   "outputs": [
    {
     "data": {
      "text/plain": [
       "False"
      ]
     },
     "execution_count": 103,
     "metadata": {},
     "output_type": "execute_result"
    }
   ],
   "source": [
    "False and True\n",
    "# A        B"
   ]
  },
  {
   "cell_type": "code",
   "execution_count": 104,
   "id": "bc9666cc",
   "metadata": {},
   "outputs": [],
   "source": [
    "#    A    |    B    |    and   |    or   |   not A\n",
    "#  True   |  True   |   True   |  True   |  False\n",
    "#  True   |  False  |   False  |  True   |  False\n",
    "#  False  |  True   |   False  |  True   |  True\n",
    "#  False  |  False  |   False  |  False  |  True"
   ]
  },
  {
   "cell_type": "code",
   "execution_count": 105,
   "id": "fbaa9681",
   "metadata": {},
   "outputs": [
    {
     "name": "stdout",
     "output_type": "stream",
     "text": [
      "True\n"
     ]
    }
   ],
   "source": [
    "print(False or not False and True)\n",
    "#     False or True       and True\n",
    "#          True          and True\n",
    "#                  True"
   ]
  },
  {
   "cell_type": "code",
   "execution_count": 106,
   "id": "abe9c924",
   "metadata": {},
   "outputs": [
    {
     "name": "stdout",
     "output_type": "stream",
     "text": [
      "True\n"
     ]
    }
   ],
   "source": [
    "print(False and False or True and True)"
   ]
  },
  {
   "cell_type": "code",
   "execution_count": 108,
   "id": "26be9d6c",
   "metadata": {},
   "outputs": [
    {
     "name": "stdout",
     "output_type": "stream",
     "text": [
      "False\n"
     ]
    }
   ],
   "source": [
    "print(True and (False or True) and False)\n",
    "#     True and     True     and False\n",
    "#      True                 and False\n",
    "#                 False"
   ]
  },
  {
   "cell_type": "code",
   "execution_count": 109,
   "id": "574166a2",
   "metadata": {},
   "outputs": [
    {
     "name": "stdout",
     "output_type": "stream",
     "text": [
      "True\n"
     ]
    }
   ],
   "source": [
    "print(not(5 > 7))"
   ]
  },
  {
   "cell_type": "code",
   "execution_count": 112,
   "id": "3c405508",
   "metadata": {},
   "outputs": [
    {
     "name": "stdout",
     "output_type": "stream",
     "text": [
      "True\n",
      "False\n"
     ]
    }
   ],
   "source": [
    "x = 10 \n",
    "y = 8\n",
    "z = 9\n",
    "# Vrem sa verificam daca x e mai mare si decat y si decat z\n",
    "print(x > y and x > z)\n",
    "\n",
    "# print(x > y > z)   # Atentie la cerinta..."
   ]
  },
  {
   "cell_type": "code",
   "execution_count": 113,
   "id": "f1cfb009",
   "metadata": {},
   "outputs": [],
   "source": [
    "# Operatori de identitate: is, is not"
   ]
  },
  {
   "cell_type": "code",
   "execution_count": 133,
   "id": "6b99757d",
   "metadata": {},
   "outputs": [
    {
     "name": "stdout",
     "output_type": "stream",
     "text": [
      "True\n",
      "True\n"
     ]
    }
   ],
   "source": [
    "a = 2\n",
    "b = 2 \n",
    "c = a\n",
    "print(b is a)    # in memoria Python avem un singur obiect 2 care are mai multe referinte (pe a, b, c)\n",
    "print(c is b)"
   ]
  },
  {
   "cell_type": "code",
   "execution_count": 116,
   "id": "5bbe7493",
   "metadata": {},
   "outputs": [
    {
     "data": {
      "text/plain": [
       "140736959162192"
      ]
     },
     "execution_count": 116,
     "metadata": {},
     "output_type": "execute_result"
    }
   ],
   "source": [
    "id(a)"
   ]
  },
  {
   "cell_type": "code",
   "execution_count": 117,
   "id": "2522c29d",
   "metadata": {},
   "outputs": [
    {
     "data": {
      "text/plain": [
       "140736959162192"
      ]
     },
     "execution_count": 117,
     "metadata": {},
     "output_type": "execute_result"
    }
   ],
   "source": [
    "id(b)"
   ]
  },
  {
   "cell_type": "code",
   "execution_count": 119,
   "id": "5fc7f78e",
   "metadata": {},
   "outputs": [
    {
     "data": {
      "text/plain": [
       "140736959162192"
      ]
     },
     "execution_count": 119,
     "metadata": {},
     "output_type": "execute_result"
    }
   ],
   "source": [
    "id(c)"
   ]
  },
  {
   "cell_type": "code",
   "execution_count": null,
   "id": "783cc6ae",
   "metadata": {},
   "outputs": [],
   "source": []
  },
  {
   "cell_type": "code",
   "execution_count": 120,
   "id": "3020c583",
   "metadata": {},
   "outputs": [
    {
     "name": "stdout",
     "output_type": "stream",
     "text": [
      "True\n",
      "True\n"
     ]
    }
   ],
   "source": [
    "s1 = 'abc'\n",
    "s2 = 'abc'\n",
    "s3 = s1     # toate 3 pointeaza in memorie catre acelasi obiect 'abc'\n",
    "\n",
    "print(s2 is s1)\n",
    "print(s3 is s1)"
   ]
  },
  {
   "cell_type": "code",
   "execution_count": 121,
   "id": "d5c82412",
   "metadata": {},
   "outputs": [
    {
     "data": {
      "text/plain": [
       "1530586641904"
      ]
     },
     "execution_count": 121,
     "metadata": {},
     "output_type": "execute_result"
    }
   ],
   "source": [
    "id(s1)"
   ]
  },
  {
   "cell_type": "code",
   "execution_count": 122,
   "id": "b5f72198",
   "metadata": {},
   "outputs": [
    {
     "data": {
      "text/plain": [
       "1530586641904"
      ]
     },
     "execution_count": 122,
     "metadata": {},
     "output_type": "execute_result"
    }
   ],
   "source": [
    "id(s2)"
   ]
  },
  {
   "cell_type": "code",
   "execution_count": 123,
   "id": "d0b2cc06",
   "metadata": {},
   "outputs": [
    {
     "data": {
      "text/plain": [
       "1530586641904"
      ]
     },
     "execution_count": 123,
     "metadata": {},
     "output_type": "execute_result"
    }
   ],
   "source": [
    "id(s3)"
   ]
  },
  {
   "cell_type": "code",
   "execution_count": 125,
   "id": "abae8261",
   "metadata": {},
   "outputs": [
    {
     "name": "stdout",
     "output_type": "stream",
     "text": [
      "False\n",
      "True\n"
     ]
    }
   ],
   "source": [
    "lst1 = [1,2,3]  # listele nu sunt imutabile\n",
    "lst2 = [1,2,3]  # se instantiaza in memorie un nou obiect [1,2,3]\n",
    "lst3 = lst1     # lst3 doar pointeaza catre aceeasi locati ca si lst1, deasta sunt egale cu is\n",
    "\n",
    "print(lst2 is lst1)\n",
    "print(lst3 is lst1)"
   ]
  },
  {
   "cell_type": "code",
   "execution_count": null,
   "id": "83c5e6de",
   "metadata": {},
   "outputs": [],
   "source": []
  },
  {
   "cell_type": "code",
   "execution_count": 126,
   "id": "a3ae2804",
   "metadata": {},
   "outputs": [
    {
     "data": {
      "text/plain": [
       "1530674900608"
      ]
     },
     "execution_count": 126,
     "metadata": {},
     "output_type": "execute_result"
    }
   ],
   "source": [
    "id(lst1)"
   ]
  },
  {
   "cell_type": "code",
   "execution_count": 127,
   "id": "43c95f44",
   "metadata": {},
   "outputs": [
    {
     "data": {
      "text/plain": [
       "1530674780928"
      ]
     },
     "execution_count": 127,
     "metadata": {},
     "output_type": "execute_result"
    }
   ],
   "source": [
    "id(lst2)"
   ]
  },
  {
   "cell_type": "code",
   "execution_count": 128,
   "id": "9b391887",
   "metadata": {},
   "outputs": [
    {
     "data": {
      "text/plain": [
       "1530674900608"
      ]
     },
     "execution_count": 128,
     "metadata": {},
     "output_type": "execute_result"
    }
   ],
   "source": [
    "id(lst3)"
   ]
  },
  {
   "cell_type": "code",
   "execution_count": null,
   "id": "6957b65a",
   "metadata": {},
   "outputs": [],
   "source": []
  },
  {
   "cell_type": "code",
   "execution_count": 134,
   "id": "16c014dc",
   "metadata": {},
   "outputs": [],
   "source": [
    "# Operatori de membru: in, not in"
   ]
  },
  {
   "cell_type": "code",
   "execution_count": 135,
   "id": "f6ef616d",
   "metadata": {},
   "outputs": [
    {
     "data": {
      "text/plain": [
       "True"
      ]
     },
     "execution_count": 135,
     "metadata": {},
     "output_type": "execute_result"
    }
   ],
   "source": [
    "'m' in 'membru'"
   ]
  },
  {
   "cell_type": "code",
   "execution_count": 140,
   "id": "a0b2c591",
   "metadata": {},
   "outputs": [
    {
     "data": {
      "text/plain": [
       "False"
      ]
     },
     "execution_count": 140,
     "metadata": {},
     "output_type": "execute_result"
    }
   ],
   "source": [
    "'membru' in 'mem123brul'"
   ]
  },
  {
   "cell_type": "code",
   "execution_count": 141,
   "id": "d45e8022",
   "metadata": {},
   "outputs": [
    {
     "data": {
      "text/plain": [
       "True"
      ]
     },
     "execution_count": 141,
     "metadata": {},
     "output_type": "execute_result"
    }
   ],
   "source": [
    "'membru' in 'mem123brulmembru'"
   ]
  },
  {
   "cell_type": "code",
   "execution_count": 143,
   "id": "d1ecee2a",
   "metadata": {},
   "outputs": [
    {
     "name": "stdout",
     "output_type": "stream",
     "text": [
      "True\n"
     ]
    }
   ],
   "source": [
    "print('fox' in 'dog, cat, foxy, cow')"
   ]
  },
  {
   "cell_type": "code",
   "execution_count": 149,
   "id": "aae45687",
   "metadata": {},
   "outputs": [
    {
     "name": "stdout",
     "output_type": "stream",
     "text": [
      "['dog', 'cat', 'foxy', 'cow']\n",
      "False\n"
     ]
    }
   ],
   "source": [
    "s = 'dog, cat, foxy, cow'\n",
    "lst = s.split(', ')\n",
    "\n",
    "# Bonus.. \n",
    "print(lst)\n",
    "print('fox' in lst)"
   ]
  },
  {
   "cell_type": "code",
   "execution_count": null,
   "id": "8db8fa95",
   "metadata": {},
   "outputs": [],
   "source": []
  },
  {
   "cell_type": "code",
   "execution_count": 152,
   "id": "f46031b6",
   "metadata": {},
   "outputs": [
    {
     "data": {
      "text/plain": [
       "False"
      ]
     },
     "execution_count": 152,
     "metadata": {},
     "output_type": "execute_result"
    }
   ],
   "source": [
    "l = [1,23,3,5]\n",
    "\n",
    "2 in l"
   ]
  },
  {
   "cell_type": "code",
   "execution_count": null,
   "id": "84fb9fab",
   "metadata": {},
   "outputs": [],
   "source": []
  },
  {
   "cell_type": "code",
   "execution_count": 153,
   "id": "2347d4bd",
   "metadata": {},
   "outputs": [],
   "source": [
    "# if"
   ]
  },
  {
   "cell_type": "code",
   "execution_count": null,
   "id": "44c81c24",
   "metadata": {},
   "outputs": [],
   "source": [
    "# sintaxa if\n",
    "\n",
    "# if cond:\n",
    "#     do something when cond is True\n",
    "# elif another_cond:\n",
    "#    dom  something when cond is False but another_cond is True\n",
    "# else:\n",
    "#    do something when niether cond nor another_cond is True (default case)\n",
    "\n",
    "# elif & else are optional"
   ]
  },
  {
   "cell_type": "code",
   "execution_count": 157,
   "id": "5625b04b",
   "metadata": {},
   "outputs": [],
   "source": [
    "x = 5\n",
    "y = 6\n",
    "# Vrem sa verificam daca x e mai mare decat y si sa printam \"x e mai mare ca y\"\n",
    "if x > y:     # (conditia trebuie sa fie intotdeauna ceva True sau False)\n",
    "    print(\"x e mai mare decat y\")"
   ]
  },
  {
   "cell_type": "code",
   "execution_count": 158,
   "id": "426c76d8",
   "metadata": {},
   "outputs": [
    {
     "ename": "SyntaxError",
     "evalue": "invalid syntax (<ipython-input-158-86e7b82e4c6c>, line 1)",
     "output_type": "error",
     "traceback": [
      "\u001b[1;36m  File \u001b[1;32m\"<ipython-input-158-86e7b82e4c6c>\"\u001b[1;36m, line \u001b[1;32m1\u001b[0m\n\u001b[1;33m    if x = 5:\u001b[0m\n\u001b[1;37m         ^\u001b[0m\n\u001b[1;31mSyntaxError\u001b[0m\u001b[1;31m:\u001b[0m invalid syntax\n"
     ]
    }
   ],
   "source": [
    "if x = 5:    # eroare, nu e condtiei valida \n",
    "    print(\"Somethin\")"
   ]
  },
  {
   "cell_type": "code",
   "execution_count": 160,
   "id": "b5411462",
   "metadata": {},
   "outputs": [
    {
     "name": "stdout",
     "output_type": "stream",
     "text": [
      "x nu e mai mare decat y\n"
     ]
    }
   ],
   "source": [
    "# Vrem sa printam 'x e mai mare ca y' daca x>y, altfel vrem sa printam 'x nu e mai mare ca y'\n",
    "x = 1\n",
    "y = 2\n",
    "if x > y:     \n",
    "    print(\"x e mai mare decat y\")     # ramura conditiei True\n",
    "else:\n",
    "    print('x nu e mai mare decat y')  # ramura conditiei False"
   ]
  },
  {
   "cell_type": "code",
   "execution_count": 162,
   "id": "9cfc36b8",
   "metadata": {},
   "outputs": [
    {
     "name": "stdout",
     "output_type": "stream",
     "text": [
      "x e egal cu y\n"
     ]
    }
   ],
   "source": [
    "# Vrem sa printam 'x e mai mare ca y' daca x>y, daca x<y printam 'y e mai mare ca x' sau daca sunt egale printam 'x e egal cu y'\n",
    "x = 3\n",
    "y = 3\n",
    "if x > y:\n",
    "    print(\"x e mai mare decat y\")     # ramura conditiei True\n",
    "elif x < y:\n",
    "    print(\"y e mai mare decat x\")\n",
    "else:\n",
    "    print('x e egal cu y')"
   ]
  },
  {
   "cell_type": "code",
   "execution_count": 164,
   "id": "33f669dd",
   "metadata": {},
   "outputs": [
    {
     "name": "stdout",
     "output_type": "stream",
     "text": [
      "x e egal cu y\n"
     ]
    }
   ],
   "source": [
    "x = 3\n",
    "y = 3\n",
    "if x > y:\n",
    "    print(\"x e mai mare decat y\") \n",
    "elif x < y:\n",
    "    print(\"y e mai mare decat x\")\n",
    "elif x == 3 and y == 3:\n",
    "    print('x e 3 y e 3')\n",
    "else:\n",
    "    print('x e egal cu y')"
   ]
  },
  {
   "cell_type": "code",
   "execution_count": 167,
   "id": "217f2848",
   "metadata": {},
   "outputs": [
    {
     "name": "stdout",
     "output_type": "stream",
     "text": [
      "Introduceti nota: 4.9\n",
      "Felicitari, ai trecut exam-ul\n"
     ]
    }
   ],
   "source": [
    "# Vrem sa afisam \"Ai trecut examenul\" in cazul in care nota e mai mare de nota de trecere sau 'Nu ai trecut' daca e mai mica\n",
    "nota_de_trecere = 4.5\n",
    "nota = input(\"Introduceti nota: \")\n",
    "nota = float(nota)\n",
    "if nota > nota_de_trecere:\n",
    "    print(\"Felicitari, ai trecut exam-ul\")\n",
    "else:\n",
    "    print(\"Nu ai trecut, mai incearca\")"
   ]
  },
  {
   "cell_type": "code",
   "execution_count": 169,
   "id": "dacc4fe6",
   "metadata": {},
   "outputs": [
    {
     "data": {
      "text/plain": [
       "5"
      ]
     },
     "execution_count": 169,
     "metadata": {},
     "output_type": "execute_result"
    }
   ],
   "source": [
    "n = 5.7\n",
    "int(n)"
   ]
  },
  {
   "cell_type": "code",
   "execution_count": 170,
   "id": "ce367513",
   "metadata": {},
   "outputs": [
    {
     "data": {
      "text/plain": [
       "6"
      ]
     },
     "execution_count": 170,
     "metadata": {},
     "output_type": "execute_result"
    }
   ],
   "source": [
    "round(n)"
   ]
  },
  {
   "cell_type": "code",
   "execution_count": null,
   "id": "5cd21d54",
   "metadata": {},
   "outputs": [],
   "source": [
    "# C02_EX02 (HOMEWORK): Given a string s1, append another string s2 in the middle of s1\n",
    "# e.g.:  s1 = 'Legendary', s2 = 'wait'  => 'Legewaitndary'\n",
    "#        s1 = 'mama', s2 = 'MIA'  =>  'maMIAma'\n"
   ]
  }
 ],
 "metadata": {
  "kernelspec": {
   "display_name": "Python 3",
   "language": "python",
   "name": "python3"
  },
  "language_info": {
   "codemirror_mode": {
    "name": "ipython",
    "version": 3
   },
   "file_extension": ".py",
   "mimetype": "text/x-python",
   "name": "python",
   "nbconvert_exporter": "python",
   "pygments_lexer": "ipython3",
   "version": "3.8.8"
  }
 },
 "nbformat": 4,
 "nbformat_minor": 5
}
