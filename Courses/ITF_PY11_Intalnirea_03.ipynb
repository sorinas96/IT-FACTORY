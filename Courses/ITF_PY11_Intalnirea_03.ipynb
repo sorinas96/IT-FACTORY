{
 "cells": [
  {
   "cell_type": "markdown",
   "id": "05d38cf4",
   "metadata": {},
   "source": [
    "# Discutii Tema02"
   ]
  },
  {
   "cell_type": "code",
   "execution_count": 3,
   "id": "96b90033",
   "metadata": {},
   "outputs": [],
   "source": [
    "# ex2. Verificati si afisati daca x este numar natural sau nu"
   ]
  },
  {
   "cell_type": "code",
   "execution_count": 4,
   "id": "419ad030",
   "metadata": {},
   "outputs": [],
   "source": [
    "# ex4. Verificati si afisati daca x este intre -2 si 13"
   ]
  },
  {
   "cell_type": "code",
   "execution_count": 5,
   "id": "7acac715",
   "metadata": {},
   "outputs": [],
   "source": [
    "# ex5. Verificati si afisati daca diferenta dintre x si y este mai mica de 5"
   ]
  },
  {
   "cell_type": "code",
   "execution_count": 6,
   "id": "40e67563",
   "metadata": {},
   "outputs": [],
   "source": [
    "# ex9: Citeste o litera de la tastatura. Verifica daca e vocala"
   ]
  },
  {
   "cell_type": "code",
   "execution_count": 7,
   "id": "feb3a15c",
   "metadata": {},
   "outputs": [],
   "source": [
    "# ex12: Verifica daca un numar introdus de la tastatura x are exact 6 cifre"
   ]
  },
  {
   "cell_type": "code",
   "execution_count": 10,
   "id": "ec026e51",
   "metadata": {},
   "outputs": [
    {
     "ename": "AssertionError",
     "evalue": "",
     "output_type": "error",
     "traceback": [
      "\u001b[1;31m---------------------------------------------------------------------------\u001b[0m",
      "\u001b[1;31mAssertionError\u001b[0m                            Traceback (most recent call last)",
      "\u001b[1;32m~\\AppData\\Local\\Temp/ipykernel_21268/3059410505.py\u001b[0m in \u001b[0;36m<module>\u001b[1;34m\u001b[0m\n\u001b[0;32m      1\u001b[0m \u001b[0mv\u001b[0m \u001b[1;33m=\u001b[0m \u001b[1;36m12\u001b[0m\u001b[1;33m\u001b[0m\u001b[1;33m\u001b[0m\u001b[0m\n\u001b[1;32m----> 2\u001b[1;33m \u001b[1;32massert\u001b[0m \u001b[0mv\u001b[0m \u001b[1;33m==\u001b[0m \u001b[1;36m13\u001b[0m  \u001b[1;31m# assert e folosit la testing sa te asiguri ca o variabila are o anumita valoaare/tip de date/ etc...\u001b[0m\u001b[1;33m\u001b[0m\u001b[1;33m\u001b[0m\u001b[0m\n\u001b[0m\u001b[0;32m      3\u001b[0m \u001b[1;31m# o sa il invatam mai tarziu :)\u001b[0m\u001b[1;33m\u001b[0m\u001b[1;33m\u001b[0m\u001b[1;33m\u001b[0m\u001b[0m\n",
      "\u001b[1;31mAssertionError\u001b[0m: "
     ]
    }
   ],
   "source": [
    "v = 12 \n",
    "assert v == 13  # assert e folosit la testing sa te asiguri ca o variabila are o anumita valoaare/tip de date/ etc...\n",
    "# o sa il invatam mai tarziu :)"
   ]
  },
  {
   "cell_type": "code",
   "execution_count": null,
   "id": "738141e1",
   "metadata": {},
   "outputs": [],
   "source": []
  },
  {
   "cell_type": "markdown",
   "id": "85ff71d5",
   "metadata": {},
   "source": [
    "# Intalnirea 3"
   ]
  },
  {
   "cell_type": "code",
   "execution_count": 11,
   "id": "3c97cd3d",
   "metadata": {},
   "outputs": [],
   "source": [
    "# LIST"
   ]
  },
  {
   "cell_type": "code",
   "execution_count": 12,
   "id": "726f0980",
   "metadata": {},
   "outputs": [],
   "source": [
    "# listele sunt un tip de date / structuri care pastreaza valori de diferite tipuri inauntrul ei"
   ]
  },
  {
   "cell_type": "code",
   "execution_count": 40,
   "id": "be0d95db",
   "metadata": {},
   "outputs": [],
   "source": [
    "my_list = [1,2,'trei', 4.5, ['a', 'b', 'c'], (1,2,3), {'key': 'value'}, None, 123456   ,     'qwerty' ]\n",
    "#          0 1    2     3          4             5            6           7      8              9"
   ]
  },
  {
   "cell_type": "code",
   "execution_count": 41,
   "id": "4ea69c57",
   "metadata": {},
   "outputs": [
    {
     "data": {
      "text/plain": [
       "[1,\n",
       " 2,\n",
       " 'trei',\n",
       " 4.5,\n",
       " ['a', 'b', 'c'],\n",
       " (1, 2, 3),\n",
       " {'key': 'value'},\n",
       " None,\n",
       " 123456,\n",
       " 'qwerty']"
      ]
     },
     "execution_count": 41,
     "metadata": {},
     "output_type": "execute_result"
    }
   ],
   "source": [
    "my_list"
   ]
  },
  {
   "cell_type": "code",
   "execution_count": 42,
   "id": "a85ad0a1",
   "metadata": {},
   "outputs": [],
   "source": [
    "# Caracteristici liste:"
   ]
  },
  {
   "cell_type": "code",
   "execution_count": 43,
   "id": "7be55284",
   "metadata": {},
   "outputs": [
    {
     "data": {
      "text/plain": [
       "1"
      ]
     },
     "execution_count": 43,
     "metadata": {},
     "output_type": "execute_result"
    }
   ],
   "source": [
    "my_list[0]   #  => listele sunt indexate"
   ]
  },
  {
   "cell_type": "code",
   "execution_count": 44,
   "id": "267e3db6",
   "metadata": {},
   "outputs": [
    {
     "data": {
      "text/plain": [
       "'h'"
      ]
     },
     "execution_count": 44,
     "metadata": {},
     "output_type": "execute_result"
    }
   ],
   "source": [
    "s = 'hello'\n",
    "s[0]"
   ]
  },
  {
   "cell_type": "code",
   "execution_count": 45,
   "id": "4c7362b4",
   "metadata": {},
   "outputs": [
    {
     "data": {
      "text/plain": [
       "[1,\n",
       " 2,\n",
       " 'trei',\n",
       " 4.5,\n",
       " ['a', 'b', 'c'],\n",
       " (1, 2, 3),\n",
       " {'key': 'value'},\n",
       " None,\n",
       " 123456,\n",
       " 'qwerty']"
      ]
     },
     "execution_count": 45,
     "metadata": {},
     "output_type": "execute_result"
    }
   ],
   "source": [
    "my_list"
   ]
  },
  {
   "cell_type": "code",
   "execution_count": 46,
   "id": "5c59059f",
   "metadata": {},
   "outputs": [
    {
     "data": {
      "text/plain": [
       "'qwerty'"
      ]
     },
     "execution_count": 46,
     "metadata": {},
     "output_type": "execute_result"
    }
   ],
   "source": [
    "my_list[9]"
   ]
  },
  {
   "cell_type": "code",
   "execution_count": 47,
   "id": "da83e760",
   "metadata": {},
   "outputs": [
    {
     "data": {
      "text/plain": [
       "'qwerty'"
      ]
     },
     "execution_count": 47,
     "metadata": {},
     "output_type": "execute_result"
    }
   ],
   "source": [
    "my_list[-1]"
   ]
  },
  {
   "cell_type": "code",
   "execution_count": 48,
   "id": "716986b7",
   "metadata": {},
   "outputs": [
    {
     "data": {
      "text/plain": [
       "2"
      ]
     },
     "execution_count": 48,
     "metadata": {},
     "output_type": "execute_result"
    }
   ],
   "source": [
    "my_list[1]"
   ]
  },
  {
   "cell_type": "code",
   "execution_count": 49,
   "id": "64860788",
   "metadata": {},
   "outputs": [
    {
     "data": {
      "text/plain": [
       "[1,\n",
       " 222,\n",
       " 'trei',\n",
       " 4.5,\n",
       " ['a', 'b', 'c'],\n",
       " (1, 2, 3),\n",
       " {'key': 'value'},\n",
       " None,\n",
       " 123456,\n",
       " 'qwerty']"
      ]
     },
     "execution_count": 49,
     "metadata": {},
     "output_type": "execute_result"
    }
   ],
   "source": [
    "# cu ajutorul indecsilor, ii putem modifica valorile listei\n",
    "my_list[1] = 222\n",
    "my_list"
   ]
  },
  {
   "cell_type": "code",
   "execution_count": 50,
   "id": "d6fcd86f",
   "metadata": {},
   "outputs": [
    {
     "data": {
      "text/plain": [
       "[1,\n",
       " 222,\n",
       " 'trei',\n",
       " 4.5,\n",
       " ['a', 'b', 'c'],\n",
       " (1, 2, 3),\n",
       " {'key': 'value'},\n",
       " None,\n",
       " 123456,\n",
       " 'qwerty',\n",
       " 'noul_final']"
      ]
     },
     "execution_count": 50,
     "metadata": {},
     "output_type": "execute_result"
    }
   ],
   "source": [
    "# putem adauga si un element nou la finalul listei\n",
    "my_list.append('noul_final')\n",
    "my_list"
   ]
  },
  {
   "cell_type": "code",
   "execution_count": 52,
   "id": "1d033cf2",
   "metadata": {},
   "outputs": [
    {
     "data": {
      "text/plain": [
       "[1,\n",
       " 222,\n",
       " 'trei',\n",
       " 100,\n",
       " 4.5,\n",
       " ['a', 'b', 'c'],\n",
       " (1, 2, 3),\n",
       " {'key': 'value'},\n",
       " None,\n",
       " 123456,\n",
       " 'qwerty',\n",
       " 'noul_final']"
      ]
     },
     "execution_count": 52,
     "metadata": {},
     "output_type": "execute_result"
    }
   ],
   "source": [
    "# putem adauga si la o anumita pozitie (index)\n",
    "my_list.insert(3, 100)\n",
    "my_list"
   ]
  },
  {
   "cell_type": "code",
   "execution_count": 53,
   "id": "dcfee7fb",
   "metadata": {},
   "outputs": [],
   "source": [
    "# fiindca putem adauga elemente in lista sau chiar sa le modificam pe cele actuale => lista e mutabila (odata creata se poate modifica fara suprascriere, fara reatribuire)"
   ]
  },
  {
   "cell_type": "code",
   "execution_count": 57,
   "id": "0a351c08",
   "metadata": {},
   "outputs": [
    {
     "name": "stdout",
     "output_type": "stream",
     "text": [
      "abcd\n"
     ]
    }
   ],
   "source": [
    "s = 'abc'\n",
    "# vreau ca la s sa adaug 'd'\n",
    "s = s + 'd'\n",
    "# print(s + 'd')\n",
    "print(s)"
   ]
  },
  {
   "cell_type": "code",
   "execution_count": 58,
   "id": "143db55b",
   "metadata": {},
   "outputs": [
    {
     "name": "stdout",
     "output_type": "stream",
     "text": [
      "[1, 2, 3, 3, 5, 10, 11]\n"
     ]
    }
   ],
   "source": [
    "l = [1,2,3,3,5,10]\n",
    "# vreau sa adaug la l valoarea 11\n",
    "l.append(11)\n",
    "print(l)"
   ]
  },
  {
   "cell_type": "code",
   "execution_count": 59,
   "id": "81b12961",
   "metadata": {},
   "outputs": [
    {
     "name": "stdout",
     "output_type": "stream",
     "text": [
      "[1, 2, 3, 3, 5, 11]\n"
     ]
    }
   ],
   "source": [
    "# putem sterge elemente din lista\n",
    "l.remove(10)\n",
    "print(l)"
   ]
  },
  {
   "cell_type": "code",
   "execution_count": 62,
   "id": "499ae423",
   "metadata": {},
   "outputs": [
    {
     "data": {
      "text/plain": [
       "1"
      ]
     },
     "execution_count": 62,
     "metadata": {},
     "output_type": "execute_result"
    }
   ],
   "source": [
    "l.count(5) "
   ]
  },
  {
   "cell_type": "code",
   "execution_count": 65,
   "id": "d461f53f",
   "metadata": {},
   "outputs": [
    {
     "data": {
      "text/plain": [
       "0"
      ]
     },
     "execution_count": 65,
     "metadata": {},
     "output_type": "execute_result"
    }
   ],
   "source": [
    "l.count(100)   # nr de cate ori apare 100"
   ]
  },
  {
   "cell_type": "code",
   "execution_count": 63,
   "id": "7494c711",
   "metadata": {},
   "outputs": [
    {
     "data": {
      "text/plain": [
       "4"
      ]
     },
     "execution_count": 63,
     "metadata": {},
     "output_type": "execute_result"
    }
   ],
   "source": [
    "l.index(5)  # returneaza indexul pe care se gaseste 5"
   ]
  },
  {
   "cell_type": "code",
   "execution_count": 64,
   "id": "a1ab0480",
   "metadata": {},
   "outputs": [
    {
     "ename": "ValueError",
     "evalue": "100 is not in list",
     "output_type": "error",
     "traceback": [
      "\u001b[1;31m---------------------------------------------------------------------------\u001b[0m",
      "\u001b[1;31mValueError\u001b[0m                                Traceback (most recent call last)",
      "\u001b[1;32m~\\AppData\\Local\\Temp/ipykernel_21268/1071002792.py\u001b[0m in \u001b[0;36m<module>\u001b[1;34m\u001b[0m\n\u001b[1;32m----> 1\u001b[1;33m \u001b[0ml\u001b[0m\u001b[1;33m.\u001b[0m\u001b[0mindex\u001b[0m\u001b[1;33m(\u001b[0m\u001b[1;36m100\u001b[0m\u001b[1;33m)\u001b[0m\u001b[1;33m\u001b[0m\u001b[1;33m\u001b[0m\u001b[0m\n\u001b[0m",
      "\u001b[1;31mValueError\u001b[0m: 100 is not in list"
     ]
    }
   ],
   "source": [
    "l.index(100)   # eroare, 100 nu e in lista"
   ]
  },
  {
   "cell_type": "code",
   "execution_count": 66,
   "id": "137b8ab8",
   "metadata": {},
   "outputs": [
    {
     "data": {
      "text/plain": [
       "True"
      ]
     },
     "execution_count": 66,
     "metadata": {},
     "output_type": "execute_result"
    }
   ],
   "source": [
    "5 in l"
   ]
  },
  {
   "cell_type": "code",
   "execution_count": 67,
   "id": "90477acf",
   "metadata": {},
   "outputs": [
    {
     "data": {
      "text/plain": [
       "False"
      ]
     },
     "execution_count": 67,
     "metadata": {},
     "output_type": "execute_result"
    }
   ],
   "source": [
    "100 in l"
   ]
  },
  {
   "cell_type": "code",
   "execution_count": 88,
   "id": "50c69f49",
   "metadata": {},
   "outputs": [
    {
     "data": {
      "text/plain": [
       "4"
      ]
     },
     "execution_count": 88,
     "metadata": {},
     "output_type": "execute_result"
    }
   ],
   "source": [
    "# ca sa aflam cate elem are lista:\n",
    "l = [1,2,3,4]\n",
    "len(l)"
   ]
  },
  {
   "cell_type": "code",
   "execution_count": 68,
   "id": "f0de0592",
   "metadata": {},
   "outputs": [
    {
     "data": {
      "text/plain": [
       "False"
      ]
     },
     "execution_count": 68,
     "metadata": {},
     "output_type": "execute_result"
    }
   ],
   "source": [
    "l1 = [1,2,3]\n",
    "l2 = [2,1,3]\n",
    "l1 == l2  # False, ordinea conteaza!!  => listele sunt ordonate"
   ]
  },
  {
   "cell_type": "code",
   "execution_count": 71,
   "id": "f2421be8",
   "metadata": {},
   "outputs": [
    {
     "name": "stdout",
     "output_type": "stream",
     "text": [
      "a\n",
      "c\n",
      "False\n",
      "True\n",
      "['aa', 'b', 'c', 'd']\n"
     ]
    }
   ],
   "source": [
    "# Proprietati lista:\n",
    "# 1) e indexata\n",
    "lst = ['a', 'b', 'c']\n",
    "print(lst[0])\n",
    "print(lst[-1])\n",
    "\n",
    "\n",
    "# 2) e ordonata\n",
    "l1 = [1,2,3]\n",
    "l2 = [2,1,3]\n",
    "print(l1 == l2)    # False\n",
    "print([1,2,3]==[1,2,3])  # True\n",
    "\n",
    "# 3) e mutabila\n",
    "lst = ['a', 'b', 'c']\n",
    "lst.append('d')\n",
    "lst[0] = 'aa'\n",
    "print(lst)"
   ]
  },
  {
   "cell_type": "code",
   "execution_count": null,
   "id": "4dee3a74",
   "metadata": {},
   "outputs": [],
   "source": []
  },
  {
   "cell_type": "code",
   "execution_count": 72,
   "id": "da96f1d2",
   "metadata": {},
   "outputs": [],
   "source": [
    "# TUPLE"
   ]
  },
  {
   "cell_type": "code",
   "execution_count": 73,
   "id": "5c47a3f8",
   "metadata": {},
   "outputs": [],
   "source": [
    "# tuplele sunt colectii similare cu listele, cu exceptia ca sunt imutabile (odata create nu mai pot fi modificate)"
   ]
  },
  {
   "cell_type": "code",
   "execution_count": 83,
   "id": "468dd341",
   "metadata": {},
   "outputs": [],
   "source": [
    "my_tuple = (1, 'doi', 3, 4, 4, 5.2, True, None, 1000)\n",
    "#           0    1    2  3  4   5\n"
   ]
  },
  {
   "cell_type": "code",
   "execution_count": 76,
   "id": "7ddb355c",
   "metadata": {},
   "outputs": [
    {
     "data": {
      "text/plain": [
       "(1, 'doi', 3, 4, 4, 5.2, True, None, 1000)"
      ]
     },
     "execution_count": 76,
     "metadata": {},
     "output_type": "execute_result"
    }
   ],
   "source": [
    "my_tuple"
   ]
  },
  {
   "cell_type": "code",
   "execution_count": 77,
   "id": "390bc04e",
   "metadata": {},
   "outputs": [
    {
     "data": {
      "text/plain": [
       "1"
      ]
     },
     "execution_count": 77,
     "metadata": {},
     "output_type": "execute_result"
    }
   ],
   "source": [
    "my_tuple[0]  # => tuplele sunt indexate"
   ]
  },
  {
   "cell_type": "code",
   "execution_count": 78,
   "id": "19be04ac",
   "metadata": {},
   "outputs": [
    {
     "data": {
      "text/plain": [
       "1000"
      ]
     },
     "execution_count": 78,
     "metadata": {},
     "output_type": "execute_result"
    }
   ],
   "source": [
    "my_tuple[-1]"
   ]
  },
  {
   "cell_type": "code",
   "execution_count": 79,
   "id": "46876612",
   "metadata": {},
   "outputs": [
    {
     "data": {
      "text/plain": [
       "False"
      ]
     },
     "execution_count": 79,
     "metadata": {},
     "output_type": "execute_result"
    }
   ],
   "source": [
    "(1,2,3) == (2,1,3)  # => sunt ordonate"
   ]
  },
  {
   "cell_type": "code",
   "execution_count": 80,
   "id": "adf1826e",
   "metadata": {},
   "outputs": [
    {
     "ename": "TypeError",
     "evalue": "'tuple' object does not support item assignment",
     "output_type": "error",
     "traceback": [
      "\u001b[1;31m---------------------------------------------------------------------------\u001b[0m",
      "\u001b[1;31mTypeError\u001b[0m                                 Traceback (most recent call last)",
      "\u001b[1;32m~\\AppData\\Local\\Temp/ipykernel_21268/1817182922.py\u001b[0m in \u001b[0;36m<module>\u001b[1;34m\u001b[0m\n\u001b[1;32m----> 1\u001b[1;33m \u001b[0mmy_tuple\u001b[0m\u001b[1;33m[\u001b[0m\u001b[1;36m0\u001b[0m\u001b[1;33m]\u001b[0m \u001b[1;33m=\u001b[0m \u001b[1;36m111\u001b[0m   \u001b[1;31m#\u001b[0m\u001b[1;33m\u001b[0m\u001b[1;33m\u001b[0m\u001b[0m\n\u001b[0m",
      "\u001b[1;31mTypeError\u001b[0m: 'tuple' object does not support item assignment"
     ]
    }
   ],
   "source": [
    "my_tuple[0] = 111   # eroare => sunt imutabile"
   ]
  },
  {
   "cell_type": "code",
   "execution_count": 81,
   "id": "a305d030",
   "metadata": {},
   "outputs": [
    {
     "data": {
      "text/plain": [
       "2"
      ]
     },
     "execution_count": 81,
     "metadata": {},
     "output_type": "execute_result"
    }
   ],
   "source": [
    "my_tuple.count(4)"
   ]
  },
  {
   "cell_type": "code",
   "execution_count": 85,
   "id": "5236b332",
   "metadata": {},
   "outputs": [
    {
     "data": {
      "text/plain": [
       "3"
      ]
     },
     "execution_count": 85,
     "metadata": {},
     "output_type": "execute_result"
    }
   ],
   "source": [
    "my_tuple.index(4)  # prima pe care o gaseste, adica indexul 3"
   ]
  },
  {
   "cell_type": "code",
   "execution_count": 86,
   "id": "aae8b71c",
   "metadata": {},
   "outputs": [
    {
     "data": {
      "text/plain": [
       "9"
      ]
     },
     "execution_count": 86,
     "metadata": {},
     "output_type": "execute_result"
    }
   ],
   "source": [
    "# ca sa aflam cate elemente are o tupla:\n",
    "len(my_tuple)"
   ]
  },
  {
   "cell_type": "code",
   "execution_count": 89,
   "id": "b1cffad4",
   "metadata": {},
   "outputs": [
    {
     "data": {
      "text/plain": [
       "tuple"
      ]
     },
     "execution_count": 89,
     "metadata": {},
     "output_type": "execute_result"
    }
   ],
   "source": [
    "# cum ii putem tipul de date al variabilei my_tuple??\n",
    "type(my_tuple)"
   ]
  },
  {
   "cell_type": "code",
   "execution_count": 93,
   "id": "e30ea1c6",
   "metadata": {},
   "outputs": [
    {
     "name": "stdout",
     "output_type": "stream",
     "text": [
      "123 9.87\n",
      "False\n"
     ]
    }
   ],
   "source": [
    "# Proprietati tupla:\n",
    "t = (123, False, 'abc', 9.87)\n",
    "\n",
    "# tuple e indexata\n",
    "print(t[0], t[-1])\n",
    "\n",
    "\n",
    "# tupla e ordonata\n",
    "print((1,2,3) == (2,1,3))  # False\n",
    "\n",
    "# tupla e imutabila\n",
    "# t[0] = 1111  # eroare\n",
    "# t.append(100)  # eroare, nu are append"
   ]
  },
  {
   "cell_type": "code",
   "execution_count": 96,
   "id": "7e07207e",
   "metadata": {},
   "outputs": [
    {
     "data": {
      "text/plain": [
       "('a', 2, 'b', 98, 100)"
      ]
     },
     "execution_count": 96,
     "metadata": {},
     "output_type": "execute_result"
    }
   ],
   "source": [
    "# Care ar fi solutia daca vrem sa adaugam valoarea 100 la tupla t = ('a', 2, 'b', 98) ?\n",
    "t = ('a', 2, 'b', 98)\n",
    "\n",
    "l = list(t)\n",
    "l.append(100)\n",
    "t = tuple(l)\n",
    "t      # daca vrem sa modificam valorile din interiorul tuplei, ar trebui sa lucram cu o lista si sa transformam inapoi in tupla"
   ]
  },
  {
   "cell_type": "code",
   "execution_count": null,
   "id": "918590f0",
   "metadata": {},
   "outputs": [],
   "source": []
  },
  {
   "cell_type": "code",
   "execution_count": 98,
   "id": "8dee0d33",
   "metadata": {},
   "outputs": [
    {
     "name": "stdout",
     "output_type": "stream",
     "text": [
      "10 5\n",
      "10 5\n"
     ]
    }
   ],
   "source": [
    "# Daca avem x = 5 si y = 10, cum facem sa le interschimbam valorile???\n",
    "x = 5 \n",
    "y = 10\n",
    "\n",
    "# varianta clasica (din mai toate limbajele de programare)\n",
    "aux = x\n",
    "x = y\n",
    "y = aux\n",
    "print(x, y)\n",
    "\n",
    "\n",
    "# varianta python mai smechera\n",
    "x = 5\n",
    "y = 10\n",
    "x, y = y, x     # se numeste tuple unpacking\n",
    "print(x,y)"
   ]
  },
  {
   "cell_type": "code",
   "execution_count": 103,
   "id": "7e802236",
   "metadata": {},
   "outputs": [
    {
     "name": "stdout",
     "output_type": "stream",
     "text": [
      "(1, 2)\n",
      "<class 'tuple'>\n",
      "1\n",
      "2\n"
     ]
    }
   ],
   "source": [
    "def func():\n",
    "    return 1, 2\n",
    "\n",
    "x = func()   # tuple unpacking\n",
    "print(x)\n",
    "print(type(x))\n",
    "\n",
    "x,y = func()\n",
    "print(x)\n",
    "print(y)"
   ]
  },
  {
   "cell_type": "code",
   "execution_count": null,
   "id": "a386f180",
   "metadata": {},
   "outputs": [],
   "source": []
  },
  {
   "cell_type": "code",
   "execution_count": 104,
   "id": "5f15185f",
   "metadata": {},
   "outputs": [],
   "source": [
    "# DICT "
   ]
  },
  {
   "cell_type": "code",
   "execution_count": 105,
   "id": "0594c094",
   "metadata": {},
   "outputs": [],
   "source": [
    "# dictionarele sunt colectii/structuri de date care salveaza elemente sub forma cheie:valoare"
   ]
  },
  {
   "cell_type": "code",
   "execution_count": 114,
   "id": "4496096f",
   "metadata": {},
   "outputs": [],
   "source": [
    "my_dict = {\n",
    "    \"country\": \"Romania\",\n",
    "    \"capital\": \"Bucharest\",\n",
    "    \"population\": 19_000_000,   # metoda de a scrie numere mari cu _ pentru a putea fi citite mai usor\n",
    "    5: 10,\n",
    "    2.1: \"two point one\",\n",
    "}"
   ]
  },
  {
   "cell_type": "code",
   "execution_count": 115,
   "id": "f9498bef",
   "metadata": {},
   "outputs": [
    {
     "data": {
      "text/plain": [
       "'Romania'"
      ]
     },
     "execution_count": 115,
     "metadata": {},
     "output_type": "execute_result"
    }
   ],
   "source": [
    "# ca sa returnam valoarea de la o anumita cheie\n",
    "my_dict[\"country\"]"
   ]
  },
  {
   "cell_type": "code",
   "execution_count": 116,
   "id": "5eec42a8",
   "metadata": {},
   "outputs": [
    {
     "ename": "KeyError",
     "evalue": "0",
     "output_type": "error",
     "traceback": [
      "\u001b[1;31m---------------------------------------------------------------------------\u001b[0m",
      "\u001b[1;31mKeyError\u001b[0m                                  Traceback (most recent call last)",
      "\u001b[1;32m~\\AppData\\Local\\Temp/ipykernel_21268/2539525754.py\u001b[0m in \u001b[0;36m<module>\u001b[1;34m\u001b[0m\n\u001b[0;32m      1\u001b[0m \u001b[1;31m# valorile se acceseaza prin intermediul cheilor, nu a indecsilor\u001b[0m\u001b[1;33m\u001b[0m\u001b[1;33m\u001b[0m\u001b[1;33m\u001b[0m\u001b[0m\n\u001b[1;32m----> 2\u001b[1;33m \u001b[0mmy_dict\u001b[0m\u001b[1;33m[\u001b[0m\u001b[1;36m0\u001b[0m\u001b[1;33m]\u001b[0m   \u001b[1;31m# eroare (KeyError) => dictul nu e indexat\u001b[0m\u001b[1;33m\u001b[0m\u001b[1;33m\u001b[0m\u001b[0m\n\u001b[0m",
      "\u001b[1;31mKeyError\u001b[0m: 0"
     ]
    }
   ],
   "source": [
    "# valorile se acceseaza prin intermediul cheilor, nu a indecsilor\n",
    "my_dict[0]   # eroare (KeyError) => dictul nu e indexat"
   ]
  },
  {
   "cell_type": "code",
   "execution_count": 117,
   "id": "71103bc1",
   "metadata": {},
   "outputs": [
    {
     "data": {
      "text/plain": [
       "{'country': 'Romania',\n",
       " 'capital': 'Bucharest',\n",
       " 'population': 19000000,\n",
       " 5: 10,\n",
       " 2.1: 'two point one',\n",
       " 'continent': 'Europa'}"
      ]
     },
     "execution_count": 117,
     "metadata": {},
     "output_type": "execute_result"
    }
   ],
   "source": [
    "my_dict[\"continent\"] = \"Europa\"   # => dict e mutabil\n",
    "my_dict"
   ]
  },
  {
   "cell_type": "code",
   "execution_count": 118,
   "id": "b5123418",
   "metadata": {},
   "outputs": [
    {
     "data": {
      "text/plain": [
       "19000000"
      ]
     },
     "execution_count": 118,
     "metadata": {},
     "output_type": "execute_result"
    }
   ],
   "source": [
    "my_dict['population']"
   ]
  },
  {
   "cell_type": "code",
   "execution_count": 120,
   "id": "1c227239",
   "metadata": {},
   "outputs": [
    {
     "data": {
      "text/plain": [
       "{'country': 'Romania',\n",
       " 'capital': 'Bucharest',\n",
       " 'population': 19500000,\n",
       " 5: 10,\n",
       " 2.1: 'two point one',\n",
       " 'continent': 'Europa'}"
      ]
     },
     "execution_count": 120,
     "metadata": {},
     "output_type": "execute_result"
    }
   ],
   "source": [
    "my_dict.update({'population': 19_500_000})\n",
    "my_dict"
   ]
  },
  {
   "cell_type": "code",
   "execution_count": 121,
   "id": "b48e0228",
   "metadata": {},
   "outputs": [
    {
     "data": {
      "text/plain": [
       "{'country': 'Romania',\n",
       " 'capital': 'Bucharest',\n",
       " 'population': 19500000,\n",
       " 5: 10,\n",
       " 2.1: 'two point one',\n",
       " 'continent': 'Europe'}"
      ]
     },
     "execution_count": 121,
     "metadata": {},
     "output_type": "execute_result"
    }
   ],
   "source": [
    "my_dict['continent'] = 'Europe'  # pt o singura cheie\n",
    "my_dict"
   ]
  },
  {
   "cell_type": "code",
   "execution_count": 123,
   "id": "8a3fe0de",
   "metadata": {},
   "outputs": [
    {
     "data": {
      "text/plain": [
       "{'country': 'Romania',\n",
       " 'capital': 'Bucharest',\n",
       " 'population': 20000000,\n",
       " 5: 10,\n",
       " 2.1: 'two point one',\n",
       " 'continent': 'Europe',\n",
       " 'area': 238000}"
      ]
     },
     "execution_count": 123,
     "metadata": {},
     "output_type": "execute_result"
    }
   ],
   "source": [
    "# update e folosit in general cand vrem sa updatam sau sa adaugam mai multe chei\n",
    "d = {'population': 20_000_000, 'area': 238_000}\n",
    "my_dict.update(d)\n",
    "my_dict"
   ]
  },
  {
   "cell_type": "code",
   "execution_count": 124,
   "id": "0fb120ba",
   "metadata": {},
   "outputs": [
    {
     "data": {
      "text/plain": [
       "{'country': 'Romania',\n",
       " 'capital': 'Bucharest',\n",
       " 'population': 20000000,\n",
       " 5: 10,\n",
       " 'continent': 'Europe',\n",
       " 'area': 238000}"
      ]
     },
     "execution_count": 124,
     "metadata": {},
     "output_type": "execute_result"
    }
   ],
   "source": [
    "# daca vrem sa stergem un element (cheie:valoare)\n",
    "del my_dict[2.1]\n",
    "my_dict"
   ]
  },
  {
   "cell_type": "code",
   "execution_count": 125,
   "id": "561109d5",
   "metadata": {},
   "outputs": [
    {
     "data": {
      "text/plain": [
       "10"
      ]
     },
     "execution_count": 125,
     "metadata": {},
     "output_type": "execute_result"
    }
   ],
   "source": [
    "# stergere si returnare\n",
    "my_dict.pop(5)"
   ]
  },
  {
   "cell_type": "code",
   "execution_count": 126,
   "id": "0e240da0",
   "metadata": {},
   "outputs": [
    {
     "data": {
      "text/plain": [
       "{'country': 'Romania',\n",
       " 'capital': 'Bucharest',\n",
       " 'population': 20000000,\n",
       " 'continent': 'Europe',\n",
       " 'area': 238000}"
      ]
     },
     "execution_count": 126,
     "metadata": {},
     "output_type": "execute_result"
    }
   ],
   "source": [
    "my_dict"
   ]
  },
  {
   "cell_type": "code",
   "execution_count": 127,
   "id": "8f07c335",
   "metadata": {
    "scrolled": true
   },
   "outputs": [
    {
     "data": {
      "text/plain": [
       "238000"
      ]
     },
     "execution_count": 127,
     "metadata": {},
     "output_type": "execute_result"
    }
   ],
   "source": [
    "romania_area = my_dict.pop('area')\n",
    "romania_area"
   ]
  },
  {
   "cell_type": "code",
   "execution_count": 128,
   "id": "00e76a91",
   "metadata": {},
   "outputs": [
    {
     "data": {
      "text/plain": [
       "{'country': 'Romania',\n",
       " 'capital': 'Bucharest',\n",
       " 'population': 20000000,\n",
       " 'continent': 'Europe'}"
      ]
     },
     "execution_count": 128,
     "metadata": {},
     "output_type": "execute_result"
    }
   ],
   "source": [
    "my_dict"
   ]
  },
  {
   "cell_type": "code",
   "execution_count": 135,
   "id": "758d8a6e",
   "metadata": {},
   "outputs": [
    {
     "data": {
      "text/plain": [
       "{'country': 'Romania',\n",
       " 'capital': 'Bucharest',\n",
       " 5: 10,\n",
       " 2.1: 'two point one',\n",
       " 'forme_de_relief': ['campie', 'munte', 'deal'],\n",
       " 'o_tupla??': (1, 2, 3),\n",
       " ('a', 'b', 'c'): 'tuple as key??'}"
      ]
     },
     "execution_count": 135,
     "metadata": {},
     "output_type": "execute_result"
    }
   ],
   "source": [
    "my_dict = {\n",
    "    \"country\": \"Romania\",\n",
    "    \"capital\": \"Bucharest\",\n",
    "    5: 10,\n",
    "    2.1: \"two point one\",\n",
    "    \"forme_de_relief\": [\"campie\", \"munte\", \"deal\"],\n",
    "    \"o_tupla??\": (1,2,3),\n",
    "#     ['a', 'b', 'c']: \"list as key???\"  # eroare, nu merge lista ca si cheie in dict\n",
    "    ('a', 'b', 'c'): \"tuple as key??\"    # merge, tupla merge ca si cheie in dict\n",
    "}\n",
    "my_dict\n",
    "\n",
    "# !! In dictionar, pe post de chei putem doar elemente imutabile!!\n",
    "# "
   ]
  },
  {
   "cell_type": "code",
   "execution_count": null,
   "id": "e041f0f3",
   "metadata": {},
   "outputs": [],
   "source": [
    "# \"o_tupla??\"  =>  \"eqweqczxcsadasda2313221dsadasd\"   # dictul in memorie transforma valorile cheilor intr-un hash (o formula de calcul pentru a crypta date)\n",
    "\n",
    "# si in functie de hash, la locatia respectiva se stocheaza valoarea,\n",
    "# daca hash-ul ar putea sa se modifice, nu ar mai gasi valoare (fiindca formula de hashing i-ar returna ceva diferit)"
   ]
  },
  {
   "cell_type": "code",
   "execution_count": 136,
   "id": "ca5784e6",
   "metadata": {},
   "outputs": [],
   "source": [
    "# ['a', 'b', 'c']  => \"qwe123\" \n",
    "# ['a', 'b', 'c', 'd'] => \"qwerty1234\""
   ]
  },
  {
   "cell_type": "code",
   "execution_count": 137,
   "id": "6940960f",
   "metadata": {},
   "outputs": [
    {
     "data": {
      "text/plain": [
       "True"
      ]
     },
     "execution_count": 137,
     "metadata": {},
     "output_type": "execute_result"
    }
   ],
   "source": [
    "{'a': 1, 'b': 2} == {'b': 2, 'a': 1}  # dict la comparare nu mai tine cont de ordine..."
   ]
  },
  {
   "cell_type": "code",
   "execution_count": 141,
   "id": "7f35508d",
   "metadata": {},
   "outputs": [
    {
     "data": {
      "text/plain": [
       "dict_keys(['language', 'country', 'capital', 'population'])"
      ]
     },
     "execution_count": 141,
     "metadata": {},
     "output_type": "execute_result"
    }
   ],
   "source": [
    "my_dict = {\n",
    "    \"language\": \"Romanian\",\n",
    "    \"country\": \"Romania\",\n",
    "    \"capital\": \"Bucharest\",\n",
    "    \"population\": 19_000_000\n",
    "}\n",
    "my_dict.keys()    # dar totusi afiseaza cheile in ordinea in care au fost introduse  => dict e ordonat (in py2 nu era ordonat)"
   ]
  },
  {
   "cell_type": "code",
   "execution_count": 143,
   "id": "bdb6c1f0",
   "metadata": {},
   "outputs": [
    {
     "data": {
      "text/plain": [
       "['Romanian', 'Romania', 'Bucharest', 19000000]"
      ]
     },
     "execution_count": 143,
     "metadata": {},
     "output_type": "execute_result"
    }
   ],
   "source": [
    "# lista cu valorile dict-ului\n",
    "list(my_dict.values())"
   ]
  },
  {
   "cell_type": "code",
   "execution_count": null,
   "id": "77455266",
   "metadata": {},
   "outputs": [],
   "source": []
  },
  {
   "cell_type": "code",
   "execution_count": 147,
   "id": "0c97bd80",
   "metadata": {},
   "outputs": [],
   "source": [
    "car = {\n",
    "    \"brand\": \"Dacia\",\n",
    "    \"model\": \"Duster\", \n",
    "    \"specs\": {\"top_speed\": \"240km/h\", \"seats\": 5}\n",
    "}"
   ]
  },
  {
   "cell_type": "code",
   "execution_count": 145,
   "id": "960df2b0",
   "metadata": {},
   "outputs": [
    {
     "data": {
      "text/plain": [
       "{'brand': 'Dacia',\n",
       " 'model': 'Duster',\n",
       " 'specs': {'top_speed': '240km/h', 'seats': 5}}"
      ]
     },
     "execution_count": 145,
     "metadata": {},
     "output_type": "execute_result"
    }
   ],
   "source": [
    "car"
   ]
  },
  {
   "cell_type": "code",
   "execution_count": 148,
   "id": "fc34a074",
   "metadata": {},
   "outputs": [
    {
     "data": {
      "text/plain": [
       "'Dacia'"
      ]
     },
     "execution_count": 148,
     "metadata": {},
     "output_type": "execute_result"
    }
   ],
   "source": [
    "car['brand']"
   ]
  },
  {
   "cell_type": "code",
   "execution_count": 153,
   "id": "01bb7bb2",
   "metadata": {},
   "outputs": [
    {
     "data": {
      "text/plain": [
       "{'top_speed': '240km/h', 'seats': 5}"
      ]
     },
     "execution_count": 153,
     "metadata": {},
     "output_type": "execute_result"
    }
   ],
   "source": [
    "new_dict = car['specs']\n",
    "new_dict"
   ]
  },
  {
   "cell_type": "code",
   "execution_count": 154,
   "id": "5fef8081",
   "metadata": {},
   "outputs": [
    {
     "data": {
      "text/plain": [
       "'240km/h'"
      ]
     },
     "execution_count": 154,
     "metadata": {},
     "output_type": "execute_result"
    }
   ],
   "source": [
    "new_dict[\"top_speed\"]"
   ]
  },
  {
   "cell_type": "code",
   "execution_count": 152,
   "id": "324506b1",
   "metadata": {},
   "outputs": [
    {
     "data": {
      "text/plain": [
       "{'top_speed': '240km/h', 'seats': 5}"
      ]
     },
     "execution_count": 152,
     "metadata": {},
     "output_type": "execute_result"
    }
   ],
   "source": [
    "car[\"specs\"][\"top_speed\"]"
   ]
  },
  {
   "cell_type": "code",
   "execution_count": 155,
   "id": "cf0a1f6d",
   "metadata": {},
   "outputs": [
    {
     "data": {
      "text/plain": [
       "'300km'"
      ]
     },
     "execution_count": 155,
     "metadata": {},
     "output_type": "execute_result"
    }
   ],
   "source": [
    "car = {\n",
    "    \"brand\": \"Dacia\",\n",
    "    \"model\": \"Duster\", \n",
    "    \"specs\": {\"top_speed\": \"240km/h\", \"seats\": 5, \"engine_range\": {\"3.0\": \"500km\", \"electric\": \"300km\"}}\n",
    "}\n",
    "# Vreau sa vad cat e range-ul motorului electric?\n",
    "\n",
    "car[\"specs\"][\"engine_range\"][\"electric\"]"
   ]
  },
  {
   "cell_type": "code",
   "execution_count": 164,
   "id": "7f152ef0",
   "metadata": {},
   "outputs": [
    {
     "name": "stdout",
     "output_type": "stream",
     "text": [
      "300km\n",
      "None\n"
     ]
    }
   ],
   "source": [
    "# Presupunem ca avem mai multe masini\n",
    "car1 = {\n",
    "    \"brand\": \"Dacia\",\n",
    "    \"model\": \"Duster\", \n",
    "    \"specs\": {\"top_speed\": \"240km/h\", \"seats\": 5, \"engine_range\": {\"3.0\": \"500km\", \"electric\": \"300km\"}}\n",
    "}\n",
    "car2 = {\n",
    "    \"brand\": \"Dacia\",\n",
    "    \"model\": \"Logan\", \n",
    "    \"specs\": {\"top_speed\": \"240km/h\", \"seats\": 5, \"engine_range\": {\"3.0\": \"500km\", \"2.0\": \"450km\"}}\n",
    "}\n",
    "\n",
    "# Vreau sa vad cat e range-ul motorului electric pentru toate masinile? \n",
    "print(car1[\"specs\"][\"engine_range\"][\"electric\"])\n",
    "# print(car2[\"specs\"][\"engine_range\"][\"electric\"])  # eroare\n",
    "print(car2[\"specs\"][\"engine_range\"].get(\"electric\"))  # eroare\n",
    "\n"
   ]
  },
  {
   "cell_type": "code",
   "execution_count": 159,
   "id": "1444e194",
   "metadata": {},
   "outputs": [],
   "source": [
    "d = {'a': 1, 'c': 3}\n"
   ]
  },
  {
   "cell_type": "code",
   "execution_count": 160,
   "id": "52f0b991",
   "metadata": {},
   "outputs": [
    {
     "ename": "KeyError",
     "evalue": "'b'",
     "output_type": "error",
     "traceback": [
      "\u001b[1;31m---------------------------------------------------------------------------\u001b[0m",
      "\u001b[1;31mKeyError\u001b[0m                                  Traceback (most recent call last)",
      "\u001b[1;32m~\\AppData\\Local\\Temp/ipykernel_21268/4280578593.py\u001b[0m in \u001b[0;36m<module>\u001b[1;34m\u001b[0m\n\u001b[1;32m----> 1\u001b[1;33m \u001b[0md\u001b[0m\u001b[1;33m[\u001b[0m\u001b[1;34m'b'\u001b[0m\u001b[1;33m]\u001b[0m\u001b[1;33m\u001b[0m\u001b[1;33m\u001b[0m\u001b[0m\n\u001b[0m",
      "\u001b[1;31mKeyError\u001b[0m: 'b'"
     ]
    }
   ],
   "source": [
    "d['b']"
   ]
  },
  {
   "cell_type": "code",
   "execution_count": 161,
   "id": "29cd0d89",
   "metadata": {},
   "outputs": [],
   "source": [
    "d.get('b')   # functia get nu da eroare daca nu exista cheia"
   ]
  },
  {
   "cell_type": "code",
   "execution_count": 163,
   "id": "47876f69",
   "metadata": {},
   "outputs": [
    {
     "data": {
      "text/plain": [
       "'Nu exista cheia'"
      ]
     },
     "execution_count": 163,
     "metadata": {},
     "output_type": "execute_result"
    }
   ],
   "source": [
    "d.get('b', \"Nu exista cheia\")  # asa putem da un mesaj in cazul in care nu exista cheia 'b'"
   ]
  },
  {
   "cell_type": "code",
   "execution_count": 190,
   "id": "06504967",
   "metadata": {},
   "outputs": [
    {
     "name": "stdout",
     "output_type": "stream",
     "text": [
      "12\n",
      "Cheia nu exista\n",
      "dict_keys(['a', 'c'])\n",
      "Cheia nu exista\n",
      "Cheia nu exista\n"
     ]
    }
   ],
   "source": [
    "my_d = {'a': {'aa': 11, 'ab': 12}, 'c': {'ca': 31}}\n",
    "# 1. Cum putem sa returnam valoarea cheii 'ab' din interiorul cheii 'a', iar in cazul in care 'ab' nu exista sa afisam \"Cheia nu exista\"\n",
    "print(my_d['a'].get('ab', 'Cheia nu exista'))\n",
    "# 2. Cum putem sa returnam valoarea cheii 'b', iar in cazul in care 'b' nu exista sa afisam \"Cheia nu exista\"\n",
    "print(my_d.get('b', \"Cheia nu exista\"))\n",
    "print(my_d.keys())\n",
    "# 3. Cum putem sa returnam valoarea cheii 'cb' din interiorul cheii 'c', iar in cazul in care 'cb' nu exista sa afisam \"Cheia nu exista\"\n",
    "print(my_d['c'].get('cb', 'Cheia nu exista'))\n",
    "# 4. Cum putem sa returnam valoarea cheii 'ba' din interiorul cheii 'b', iar in cazul in care 'ba' nu exista sa afisam \"Cheia nu exista\" \n",
    "# print(my_d['b'].get('ba', 'Cheia nu exista'))  # KeyError 'b'\n",
    "# print(my_d.get('b').get('ba', 'Cheia nu exista'))   # None\n",
    "# None.get('ba', 'Cheia nu exista')\n",
    " \n",
    "print(my_d.get('b', {}).get('ba', 'Cheia nu exista'))   # None\n",
    "    "
   ]
  },
  {
   "cell_type": "code",
   "execution_count": 188,
   "id": "642ba53a",
   "metadata": {},
   "outputs": [
    {
     "data": {
      "text/plain": [
       "'nope..'"
      ]
     },
     "execution_count": 188,
     "metadata": {},
     "output_type": "execute_result"
    }
   ],
   "source": [
    "{}.get(\"key\", 'nope..')"
   ]
  },
  {
   "cell_type": "code",
   "execution_count": 178,
   "id": "636cc985",
   "metadata": {},
   "outputs": [
    {
     "data": {
      "text/plain": [
       "1"
      ]
     },
     "execution_count": 178,
     "metadata": {},
     "output_type": "execute_result"
    }
   ],
   "source": [
    "{'a': 1}.get('a')"
   ]
  },
  {
   "cell_type": "code",
   "execution_count": 179,
   "id": "1ce6b8cd",
   "metadata": {},
   "outputs": [
    {
     "ename": "AttributeError",
     "evalue": "'list' object has no attribute 'get'",
     "output_type": "error",
     "traceback": [
      "\u001b[1;31m---------------------------------------------------------------------------\u001b[0m",
      "\u001b[1;31mAttributeError\u001b[0m                            Traceback (most recent call last)",
      "\u001b[1;32m~\\AppData\\Local\\Temp/ipykernel_21268/1491759486.py\u001b[0m in \u001b[0;36m<module>\u001b[1;34m\u001b[0m\n\u001b[1;32m----> 1\u001b[1;33m \u001b[1;33m[\u001b[0m\u001b[1;36m1\u001b[0m\u001b[1;33m,\u001b[0m\u001b[1;36m2\u001b[0m\u001b[1;33m,\u001b[0m\u001b[1;36m3\u001b[0m\u001b[1;33m]\u001b[0m\u001b[1;33m.\u001b[0m\u001b[0mget\u001b[0m\u001b[1;33m(\u001b[0m\u001b[1;36m1\u001b[0m\u001b[1;33m)\u001b[0m\u001b[1;33m\u001b[0m\u001b[1;33m\u001b[0m\u001b[0m\n\u001b[0m",
      "\u001b[1;31mAttributeError\u001b[0m: 'list' object has no attribute 'get'"
     ]
    }
   ],
   "source": [
    "[1,2,3].get(1)"
   ]
  },
  {
   "cell_type": "code",
   "execution_count": 180,
   "id": "1aa0563e",
   "metadata": {},
   "outputs": [
    {
     "ename": "AttributeError",
     "evalue": "'NoneType' object has no attribute 'get'",
     "output_type": "error",
     "traceback": [
      "\u001b[1;31m---------------------------------------------------------------------------\u001b[0m",
      "\u001b[1;31mAttributeError\u001b[0m                            Traceback (most recent call last)",
      "\u001b[1;32m~\\AppData\\Local\\Temp/ipykernel_21268/4158482111.py\u001b[0m in \u001b[0;36m<module>\u001b[1;34m\u001b[0m\n\u001b[1;32m----> 1\u001b[1;33m \u001b[1;32mNone\u001b[0m\u001b[1;33m.\u001b[0m\u001b[0mget\u001b[0m\u001b[1;33m(\u001b[0m\u001b[1;34m'a'\u001b[0m\u001b[1;33m)\u001b[0m\u001b[1;33m\u001b[0m\u001b[1;33m\u001b[0m\u001b[0m\n\u001b[0m",
      "\u001b[1;31mAttributeError\u001b[0m: 'NoneType' object has no attribute 'get'"
     ]
    }
   ],
   "source": [
    "None.get('a')"
   ]
  },
  {
   "cell_type": "code",
   "execution_count": 183,
   "id": "bbbeecd0",
   "metadata": {},
   "outputs": [
    {
     "data": {
      "text/plain": [
       "'Cheia nu exista'"
      ]
     },
     "execution_count": 183,
     "metadata": {},
     "output_type": "execute_result"
    }
   ],
   "source": [
    "d = {}\n",
    "d.get('key', \"Cheia nu exista\")"
   ]
  },
  {
   "cell_type": "code",
   "execution_count": 194,
   "id": "6798feea",
   "metadata": {},
   "outputs": [
    {
     "name": "stdout",
     "output_type": "stream",
     "text": [
      "dict_keys(['c', 'a', 'b'])\n",
      "{'c': 12345, 'a': 100, 'b': 200, 'd': 400}\n"
     ]
    }
   ],
   "source": [
    "# Proprietati dict:\n",
    "my_d = {'c': 12345, 'a': 100, 'b': 200}\n",
    "\n",
    "# 1) dict e neindexat\n",
    "# print(my_d[0])  # eroare\n",
    "\n",
    "# 2) dict e ordonat\n",
    "print(my_d.keys())  # sunt afisate in ordinea in care au fost introduse\n",
    "\n",
    "# 3) dict e mutabil \n",
    "my_d['d'] = 400\n",
    "print(my_d)"
   ]
  },
  {
   "cell_type": "code",
   "execution_count": null,
   "id": "19a430b7",
   "metadata": {},
   "outputs": [],
   "source": []
  },
  {
   "cell_type": "code",
   "execution_count": 195,
   "id": "a9ad0149",
   "metadata": {},
   "outputs": [],
   "source": [
    "# SET"
   ]
  },
  {
   "cell_type": "code",
   "execution_count": 196,
   "id": "4a3de39c",
   "metadata": {},
   "outputs": [],
   "source": [
    "# seturile sunt colectii mutabile care stocheaza date imutabile si nu contin duplicate"
   ]
  },
  {
   "cell_type": "code",
   "execution_count": 202,
   "id": "c75d8e20",
   "metadata": {},
   "outputs": [
    {
     "data": {
      "text/plain": [
       "{(1, 2, 3, 4), 1, 2, 3.33, False, 'alb', 'rosu'}"
      ]
     },
     "execution_count": 202,
     "metadata": {},
     "output_type": "execute_result"
    }
   ],
   "source": [
    "my_set = {'alb', 'rosu', 1, 2, False, 3.33, (1,2,3,4), 2, 2, 2}  # oricati de 2 introduc, stocheaza doar unu\n",
    "my_set"
   ]
  },
  {
   "cell_type": "code",
   "execution_count": 203,
   "id": "965b3223",
   "metadata": {},
   "outputs": [
    {
     "data": {
      "text/plain": [
       "{(1, 2, 3, 4), 1, 2, 3.33, 456, False, 'alb', 'rosu'}"
      ]
     },
     "execution_count": 203,
     "metadata": {},
     "output_type": "execute_result"
    }
   ],
   "source": [
    "my_set.add(456)   # => set e mutabil \n",
    "my_set"
   ]
  },
  {
   "cell_type": "code",
   "execution_count": 206,
   "id": "3fa0547f",
   "metadata": {},
   "outputs": [
    {
     "ename": "TypeError",
     "evalue": "'set' object is not subscriptable",
     "output_type": "error",
     "traceback": [
      "\u001b[1;31m---------------------------------------------------------------------------\u001b[0m",
      "\u001b[1;31mTypeError\u001b[0m                                 Traceback (most recent call last)",
      "\u001b[1;32m~\\AppData\\Local\\Temp/ipykernel_21268/3050368526.py\u001b[0m in \u001b[0;36m<module>\u001b[1;34m\u001b[0m\n\u001b[1;32m----> 1\u001b[1;33m \u001b[0mmy_set\u001b[0m\u001b[1;33m[\u001b[0m\u001b[1;36m0\u001b[0m\u001b[1;33m]\u001b[0m  \u001b[1;31m# eroare => set  e neindexat\u001b[0m\u001b[1;33m\u001b[0m\u001b[1;33m\u001b[0m\u001b[0m\n\u001b[0m",
      "\u001b[1;31mTypeError\u001b[0m: 'set' object is not subscriptable"
     ]
    }
   ],
   "source": [
    "my_set[0]  # eroare => set  e neindexat"
   ]
  },
  {
   "cell_type": "code",
   "execution_count": 208,
   "id": "75b92d2f",
   "metadata": {},
   "outputs": [
    {
     "data": {
      "text/plain": [
       "True"
      ]
     },
     "execution_count": 208,
     "metadata": {},
     "output_type": "execute_result"
    }
   ],
   "source": [
    "{'a', 'b', 'c'} == {'c', 'a', 'b'} # True => set e neordonat"
   ]
  },
  {
   "cell_type": "code",
   "execution_count": 210,
   "id": "cbbf705a",
   "metadata": {},
   "outputs": [
    {
     "name": "stdout",
     "output_type": "stream",
     "text": [
      "r\n",
      "e\n",
      "q\n",
      "w\n"
     ]
    }
   ],
   "source": [
    "# Ca sa accesam valorile din set, putem doar daca iteram peste el\n",
    "s = {'q', 'w', 'e', 'r'}\n",
    "for elem in s:\n",
    "    print(elem)"
   ]
  },
  {
   "cell_type": "code",
   "execution_count": 211,
   "id": "17b9fca0",
   "metadata": {},
   "outputs": [
    {
     "data": {
      "text/plain": [
       "['r', 'e', 'q', 'w']"
      ]
     },
     "execution_count": 211,
     "metadata": {},
     "output_type": "execute_result"
    }
   ],
   "source": [
    "list(s)"
   ]
  },
  {
   "cell_type": "code",
   "execution_count": 215,
   "id": "be010e66",
   "metadata": {},
   "outputs": [
    {
     "name": "stdout",
     "output_type": "stream",
     "text": [
      "{'r', 'e', 'q', 'w'}\n",
      "set()\n"
     ]
    }
   ],
   "source": [
    "# Putem sa il golim\n",
    "s = {'q', 'w', 'e', 'r'}\n",
    "print(s)\n",
    "s.clear()\n",
    "print(s)"
   ]
  },
  {
   "cell_type": "code",
   "execution_count": 217,
   "id": "17eb898f",
   "metadata": {},
   "outputs": [
    {
     "data": {
      "text/plain": [
       "'t'"
      ]
     },
     "execution_count": 217,
     "metadata": {},
     "output_type": "execute_result"
    }
   ],
   "source": [
    "# Putem returna un element random\n",
    "s = {'q', 'w', 'e', 'r', 't'}\n",
    "s.pop()"
   ]
  },
  {
   "cell_type": "code",
   "execution_count": 209,
   "id": "cd31be90",
   "metadata": {},
   "outputs": [
    {
     "name": "stdout",
     "output_type": "stream",
     "text": [
      "{1, 2, 3, 1000, 15}\n"
     ]
    }
   ],
   "source": [
    "# Proprietati set:\n",
    "# 1) set e neindexat\n",
    "s = {'q', 'w'}\n",
    "# print(s[0])  # eroare\n",
    "\n",
    "# 2) set e neordonat\n",
    "{'a', 'b', 'c'} == {'c', 'a', 'b'} # True \n",
    "\n",
    "# 3) set e mutabil\n",
    "s = {1,15,3,2}\n",
    "s.add(1000)\n",
    "print(s)"
   ]
  },
  {
   "cell_type": "code",
   "execution_count": null,
   "id": "ab1a2bb3",
   "metadata": {},
   "outputs": [],
   "source": []
  },
  {
   "cell_type": "code",
   "execution_count": 221,
   "id": "c3b25b1a",
   "metadata": {},
   "outputs": [],
   "source": [
    "# Set-urile sunt utile in calcule cu multimi matematice\n",
    "culori1 = {\"alb\", \"negru\", \"rosu\", \"albastru\", \"verde\"}\n",
    "culori2 = {\"rosu\", \"mov\", \"verde\", \"galben\", \"negru\"}"
   ]
  },
  {
   "cell_type": "code",
   "execution_count": 222,
   "id": "84dd397e",
   "metadata": {},
   "outputs": [
    {
     "name": "stdout",
     "output_type": "stream",
     "text": [
      "{'verde', 'rosu', 'negru'}\n",
      "{'verde', 'rosu', 'negru'}\n"
     ]
    }
   ],
   "source": [
    "# Daca vrem sa returnam doar elementele comune dintre cele 2 seturi\n",
    "print(culori1 & culori2)  # INTERSECTION\n",
    "print(culori1.intersection(culori2))"
   ]
  },
  {
   "cell_type": "code",
   "execution_count": 224,
   "id": "c2ffe7a1",
   "metadata": {},
   "outputs": [
    {
     "name": "stdout",
     "output_type": "stream",
     "text": [
      "{'negru', 'galben', 'alb', 'albastru', 'verde', 'mov', 'rosu'}\n",
      "{'negru', 'galben', 'alb', 'albastru', 'verde', 'mov', 'rosu'}\n"
     ]
    }
   ],
   "source": [
    "# Daca vrem elementele distincte dintre cele 2 seturi (practic toate culorile..)\n",
    "print(culori1 | culori2)     # UNION\n",
    "print(culori1.union(culori2))"
   ]
  },
  {
   "cell_type": "code",
   "execution_count": 226,
   "id": "df55d83a",
   "metadata": {},
   "outputs": [
    {
     "name": "stdout",
     "output_type": "stream",
     "text": [
      "{'mov', 'alb', 'galben', 'albastru'}\n",
      "{'mov', 'alb', 'galben', 'albastru'}\n"
     ]
    }
   ],
   "source": [
    "# Daca vrem toate elementele in afara de cele comune\n",
    "print(culori1 ^ culori2)    # SYMMETRIC DIFFERENCE\n",
    "print(culori1.symmetric_difference(culori2))"
   ]
  },
  {
   "cell_type": "code",
   "execution_count": 227,
   "id": "649be9da",
   "metadata": {},
   "outputs": [
    {
     "name": "stdout",
     "output_type": "stream",
     "text": [
      "{'alb', 'albastru'}\n"
     ]
    }
   ],
   "source": [
    "# Daca vrem elementele unice din primul set care nu se regasesc in cel de-al 2-lea\n",
    "print(culori1 - culori2)    # DIFFERENCE\n",
    "print(culori1.difference(culori2)) "
   ]
  },
  {
   "cell_type": "code",
   "execution_count": null,
   "id": "544d5d87",
   "metadata": {},
   "outputs": [],
   "source": [
    "# TODO (Easter egg): Avand lista l=[1,1,2,3,1,4,4,5,6,2], cum facem sa eliminam duplicatele?"
   ]
  }
 ],
 "metadata": {
  "kernelspec": {
   "display_name": "Python 3 (ipykernel)",
   "language": "python",
   "name": "python3"
  },
  "language_info": {
   "codemirror_mode": {
    "name": "ipython",
    "version": 3
   },
   "file_extension": ".py",
   "mimetype": "text/x-python",
   "name": "python",
   "nbconvert_exporter": "python",
   "pygments_lexer": "ipython3",
   "version": "3.8.12"
  }
 },
 "nbformat": 4,
 "nbformat_minor": 5
}
