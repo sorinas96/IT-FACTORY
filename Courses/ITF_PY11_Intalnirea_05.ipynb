{
 "cells": [
  {
   "cell_type": "markdown",
   "id": "9649953e",
   "metadata": {},
   "source": [
    "# Tema04"
   ]
  },
  {
   "cell_type": "code",
   "execution_count": null,
   "id": "650dca63",
   "metadata": {},
   "outputs": [],
   "source": [
    "# ex10\n",
    "numere = [5, 7, 3, 9, 3, 3, 1, 0, -4, 3]\n",
    "# Avand lista de mai sus, iterati prin ea\n",
    "# Daca numarul e pozitiv, inlocuiti-l cu valoarea lui negativa\n",
    "# Ex: daca e 3, sa devina -3\n",
    "# Afisati noua lista\n",
    "\n"
   ]
  },
  {
   "cell_type": "code",
   "execution_count": 1,
   "id": "dfb42406",
   "metadata": {},
   "outputs": [],
   "source": [
    "# ex 5\n",
    "masini = ['Audi', 'Volvo', 'BMW', 'Mercedes', 'Aston Martin', 'Lastun', 'Fiat', 'Trabant', 'Opel'] \n",
    "# Modernizati parcul de masini\n",
    "# Creati o lista goala, masini_vechi\n",
    "# Iterati prin masini\n",
    "# Cand gasiti Lastun sau Trabant:\n",
    "# Salvati aceste masini in masini_vechi\n",
    "# Suprascrieti-le cu ‘Tesla’ (in lista initiala de masini)\n",
    "# Printati Modele vechi: x\n",
    "# Modele noi: x\n"
   ]
  },
  {
   "cell_type": "code",
   "execution_count": 20,
   "id": "eb6b031d",
   "metadata": {},
   "outputs": [
    {
     "name": "stdout",
     "output_type": "stream",
     "text": [
      "['aUDi', 'vOLVo', 'bMw', 'mERCEDEs', 'aSTON MARTIn', 'lASTUn', 'fIAt', 'tRABANt', 'oPEl']\n",
      "['audi', 'VOLVO', 'BMW', 'MERCEDES', 'ASTON MARTIN', 'LASTUN', 'FIAT', 'TRABANT', 'opel']\n",
      "['aUDi', 'vOLVo', 'bMw', 'mERCEDEs', 'aSTON MARTIn', 'lASTUn', 'fIAt', 'tRABANt', 'oPEl']\n"
     ]
    }
   ],
   "source": [
    "# ex2.\n",
    "masini = ['Audi', 'Volvo', 'BMW', 'Mercedes', 'Aston Martin', 'Lastun', 'Fiat', 'Trabant', 'Opel'] \n",
    "\n",
    "# Vrem sa transformam lista sa arate asa:\n",
    "# v1 => ['aUDi', 'vOLVo', 'bMw', 'mERCEDEs', 'aSTON MARTIn', 'lASTUn', 'fIAt', 'tRABANt', 'oPEl']  \n",
    "# v2 => ['audi', 'VOLVO', 'BMW', 'MERCEDES', 'ASTON MARTIN', 'LASTUN', 'FIAT', 'TRABANT', 'opel']  \n",
    "\n",
    "# v1\n",
    "for i,m in enumerate(masini):\n",
    "    masini[i] = m[0].lower() + m[1:-1].upper() + m[-1].lower()\n",
    "print(masini)    \n",
    "\n",
    "# v2\n",
    "for i in range(len(masini)):\n",
    "    if i in (0, len(masini)-1):\n",
    "        masini[i] = masini[i].lower()\n",
    "    else:\n",
    "        masini[i] = masini[i].upper()\n",
    "        \n",
    "print(masini)\n",
    "\n",
    "\n",
    "# v1 - for in for\n",
    "for i in range(len(masini)):\n",
    "    masina_modif = ''\n",
    "    for j in range(len(masini[i])):\n",
    "        if j in (0, len(masini[i])-1):\n",
    "            masina_modif += masini[i][j].lower()\n",
    "        else:\n",
    "            masina_modif += masini[i][j].upper()\n",
    "    masini[i] = masina_modif        \n",
    "print(masini)\n",
    "\n",
    "# v2...try yourselves"
   ]
  },
  {
   "cell_type": "code",
   "execution_count": 3,
   "id": "84837796",
   "metadata": {},
   "outputs": [
    {
     "data": {
      "text/plain": [
       "'ERCEDE'"
      ]
     },
     "execution_count": 3,
     "metadata": {},
     "output_type": "execute_result"
    }
   ],
   "source": [
    "s = 'Mercedes'\n",
    "# => 'ercede'\n",
    "s[1:-1].upper()"
   ]
  },
  {
   "cell_type": "code",
   "execution_count": 4,
   "id": "7dbd6639",
   "metadata": {},
   "outputs": [
    {
     "name": "stdout",
     "output_type": "stream",
     "text": [
      "0 Audi\n",
      "1 Volvo\n",
      "2 BMW\n",
      "3 Mercedes\n",
      "4 Aston Martin\n",
      "5 Lastun\n",
      "6 Fiat\n",
      "7 Trabant\n",
      "8 Opel\n"
     ]
    }
   ],
   "source": [
    "masini = ['Audi', 'Volvo', 'BMW', 'Mercedes', 'Aston Martin', 'Lastun', 'Fiat', 'Trabant', 'Opel'] \n",
    "\n",
    "for i,m in enumerate(masini):\n",
    "    print(i,m)"
   ]
  },
  {
   "cell_type": "code",
   "execution_count": 14,
   "id": "0f9f5f3c",
   "metadata": {},
   "outputs": [
    {
     "name": "stdout",
     "output_type": "stream",
     "text": [
      "Audi\n",
      "Volvo\n",
      "BMW\n",
      "Mercedes\n",
      "Aston Martin\n",
      "Lastun\n",
      "Fiat\n",
      "Trabant\n",
      "Opel\n"
     ]
    }
   ],
   "source": [
    "masini = ['Audi', 'Volvo', 'BMW', 'Mercedes', 'Aston Martin', 'Lastun', 'Fiat', 'Trabant', 'Opel'] \n",
    "\n",
    "for m in masini:\n",
    "    print(m)"
   ]
  },
  {
   "cell_type": "code",
   "execution_count": 15,
   "id": "96a45635",
   "metadata": {},
   "outputs": [
    {
     "name": "stdout",
     "output_type": "stream",
     "text": [
      "0\n",
      "1\n",
      "2\n",
      "3\n",
      "4\n",
      "5\n",
      "6\n",
      "7\n",
      "8\n"
     ]
    }
   ],
   "source": [
    "masini = ['Audi', 'Volvo', 'BMW', 'Mercedes', 'Aston Martin', 'Lastun', 'Fiat', 'Trabant', 'Opel'] \n",
    "\n",
    "for i in range(len(masini)):\n",
    "    print(i)"
   ]
  },
  {
   "cell_type": "markdown",
   "id": "49f98d7b",
   "metadata": {},
   "source": [
    "# Functions"
   ]
  },
  {
   "cell_type": "code",
   "execution_count": 21,
   "id": "78027ec8",
   "metadata": {},
   "outputs": [],
   "source": [
    "# o functie e o zona independenta de cod, care poate fi refolosita de ori cate ori avem nevoie,\n",
    "# avand utilitatea principala de a evita scrierea de cod duplicat"
   ]
  },
  {
   "cell_type": "code",
   "execution_count": 22,
   "id": "cda4e40e",
   "metadata": {},
   "outputs": [],
   "source": [
    "# tipuri de functii: built-in (print(),max(),type(),...),  explicite (scrise de noi)"
   ]
  },
  {
   "cell_type": "code",
   "execution_count": 23,
   "id": "b9601fbe",
   "metadata": {},
   "outputs": [
    {
     "name": "stdout",
     "output_type": "stream",
     "text": [
      "Hello\n"
     ]
    }
   ],
   "source": [
    "# sintaxa functii\n",
    "def greeting():   # def urmat de numele functie (in paranteze evetuali parametrii/argumente)\n",
    "    print(\"Hello\")   # implementarea functiei/corpul functiei\n",
    "\n",
    "greeting()   # apelul functiei"
   ]
  },
  {
   "cell_type": "code",
   "execution_count": 24,
   "id": "a5fb9dac",
   "metadata": {},
   "outputs": [
    {
     "name": "stdout",
     "output_type": "stream",
     "text": [
      "Salut\n",
      "Hello\n"
     ]
    }
   ],
   "source": [
    "def greeting():\n",
    "    print(\"Hello\")\n",
    "print(\"Salut\")    \n",
    "\n",
    "greeting()    # codul se executa linie cu linie de sus in jos"
   ]
  },
  {
   "cell_type": "code",
   "execution_count": 26,
   "id": "26390d93",
   "metadata": {},
   "outputs": [
    {
     "name": "stdout",
     "output_type": "stream",
     "text": [
      "Hello, World\n",
      "Hello, Universe\n"
     ]
    }
   ],
   "source": [
    "# Daca vrem sa modificam functia noastra sa ne salute personalizat, cu numele nostru?\n",
    "\n",
    "def greeting(name):    # solutia e sa adaugam un parametru name\n",
    "    print(f\"Hello, {name}\")\n",
    "    \n",
    "\n",
    "greeting(\"World\")\n",
    "greeting(\"Universe\")     # practic parametrii sunt datele de intrare ale functiei "
   ]
  },
  {
   "cell_type": "code",
   "execution_count": 28,
   "id": "6eeeb8e8",
   "metadata": {},
   "outputs": [
    {
     "name": "stdout",
     "output_type": "stream",
     "text": [
      "11\n",
      "53\n"
     ]
    }
   ],
   "source": [
    "# Vrem sa scriem o functie care printeaza suma a 2 nr date ca argument/paramtru?\n",
    "def sum_2(nr1, nr2):\n",
    "    print(nr1 + nr2)\n",
    "    \n",
    "sum_2(5,6)\n",
    "sum_2(22,31)"
   ]
  },
  {
   "cell_type": "code",
   "execution_count": 34,
   "id": "9dae4e7a",
   "metadata": {},
   "outputs": [
    {
     "name": "stdout",
     "output_type": "stream",
     "text": [
      "Suma calulata este 11\n",
      "Suma 11 este impara\n"
     ]
    }
   ],
   "source": [
    "# Acum ce putem face daca in afara functiei (in main) vrem sa:\n",
    "# - afisam urmatorul mesaj: \"Suma calculata este <valoarea_sumei>\"\n",
    "# - folosim rezultatul sumei afisand mesaul \"Suma <valoarea_sumei> este para\" / \"Suma <valoarea_sumei> este impara\" dupa caz...\n",
    "def sum_2(nr1, nr2):\n",
    "    return nr1 + nr2   # practic return precedeaza datele de iesire\n",
    "  \n",
    "val_sum = sum_2(5, 6)\n",
    "print(f\"Suma calulata este {val_sum}\")\n",
    "if val_sum % 2 == 0:\n",
    "    print(f\"Suma {val_sum} este para\")\n",
    "else:\n",
    "    print(f\"Suma {val_sum} este impara\")"
   ]
  },
  {
   "cell_type": "code",
   "execution_count": 35,
   "id": "48dee583",
   "metadata": {},
   "outputs": [],
   "source": [
    "# Observa 2 tipuri de functii:\n",
    "# - care returneaza ceva\n",
    "# - care nu returneaza..."
   ]
  },
  {
   "cell_type": "code",
   "execution_count": 45,
   "id": "7f7a9e2d",
   "metadata": {},
   "outputs": [
    {
     "name": "stdout",
     "output_type": "stream",
     "text": [
      "[1, 2, 3, 4, 5]\n",
      "[1, 2, 3, 4, 5]\n",
      "[1, 2, 3, 4, 5]\n"
     ]
    }
   ],
   "source": [
    "lst = [5,1,4,2,3]\n",
    "\n",
    "sorted(lst)    # returneaza o noua lista\n",
    "print(lst)\n",
    "\n",
    "# ca sa mearga sorted:\n",
    "new_lst = sorted(lst)\n",
    "print(new_lst)\n",
    "\n",
    "lst.sort()     # nu returneaza, ci o modifica pe cea cu care am apelat (sortare in-place)\n",
    "print(lst)"
   ]
  },
  {
   "cell_type": "code",
   "execution_count": 41,
   "id": "f62957a9",
   "metadata": {},
   "outputs": [
    {
     "name": "stdout",
     "output_type": "stream",
     "text": [
      "abc\n"
     ]
    }
   ],
   "source": [
    "s = 'abc'\n",
    "s.upper()   # stringul e imutabil, nu se modifica in-place precum lista\n",
    "print(s)"
   ]
  },
  {
   "cell_type": "code",
   "execution_count": null,
   "id": "2117e643",
   "metadata": {},
   "outputs": [],
   "source": []
  },
  {
   "cell_type": "code",
   "execution_count": 46,
   "id": "2efefa7c",
   "metadata": {},
   "outputs": [],
   "source": [
    "def greeting(name):    \n",
    "    print(f\"Hello, {name}\")"
   ]
  },
  {
   "cell_type": "code",
   "execution_count": 50,
   "id": "6175b2b6",
   "metadata": {},
   "outputs": [
    {
     "name": "stdout",
     "output_type": "stream",
     "text": [
      "Hello, World!\n",
      "Hello, Pythonistas!\n"
     ]
    }
   ],
   "source": [
    "# Vrem sa putem chema functia si fara sa specificam neaparat un numa, caz in care functia sa afiseze \"Hello Pythonistas\"\n",
    "def greeting(name=\"Pythonistas\"):  # name e parametru optional cu valoare default  \n",
    "    print(f\"Hello, {name}!\")\n",
    "    \n",
    "greeting(\"World\")\n",
    "greeting()"
   ]
  },
  {
   "cell_type": "code",
   "execution_count": 54,
   "id": "e4600139",
   "metadata": {},
   "outputs": [
    {
     "name": "stdout",
     "output_type": "stream",
     "text": [
      "None\n",
      "Cheia nu exista\n",
      "10\n"
     ]
    }
   ],
   "source": [
    "# Unde am mai vazut noi un astfel de parametru cu valoare default?\n",
    "d = {'a': 1, 'c': 3} \n",
    "# Vrem sa returnam cheia 'b' din dictionar:\n",
    "print(d.get('b'))\n",
    "print(d.get('b', 'Cheia nu exista'))\n",
    "print(d.get('b', 10))"
   ]
  },
  {
   "cell_type": "code",
   "execution_count": 59,
   "id": "39968483",
   "metadata": {},
   "outputs": [
    {
     "ename": "SyntaxError",
     "evalue": "non-default argument follows default argument (Temp/ipykernel_13240/3484267823.py, line 1)",
     "output_type": "error",
     "traceback": [
      "\u001b[1;36m  File \u001b[1;32m\"C:\\Users\\ChemDash\\AppData\\Local\\Temp/ipykernel_13240/3484267823.py\"\u001b[1;36m, line \u001b[1;32m1\u001b[0m\n\u001b[1;33m    def greeting(name=\"Pythonistas\", age):  #age e un parametru pozitional, name e parametru optional\u001b[0m\n\u001b[1;37m                 ^\u001b[0m\n\u001b[1;31mSyntaxError\u001b[0m\u001b[1;31m:\u001b[0m non-default argument follows default argument\n"
     ]
    }
   ],
   "source": [
    "def greeting(name=\"Pythonistas\", age):  #age e un parametru pozitional, name e parametru optional \n",
    "    print(f\"Hello, my name is {name} and I am {age} years old.\")\n",
    "    \n",
    "greeting('John', 30)    # eroare"
   ]
  },
  {
   "cell_type": "code",
   "execution_count": 58,
   "id": "7ed3c3fa",
   "metadata": {},
   "outputs": [
    {
     "name": "stdout",
     "output_type": "stream",
     "text": [
      "Hello, my name is John and I am 30 years old.\n",
      "Hello, my name is Pythonistas and I am 32 years old.\n"
     ]
    }
   ],
   "source": [
    "# Daca vrem sa modificam functia greeting sa accepte un parametru pozitional age si sa afiseze si varsta in print\n",
    "# \"Hello, my name is <name> and I am <age> years old.\"\n",
    "def greeting(age, name=\"Pythonistas\"):  #age e un parametru pozitional, name e parametru optional \n",
    "    print(f\"Hello, my name is {name} and I am {age} years old.\")\n",
    "    \n",
    "    \n",
    "greeting(30, 'John')\n",
    "greeting(32)\n",
    "# Atentie, parametrii optionali trebuie sa fie pusi tot timpul dupa cei pozitionali!"
   ]
  },
  {
   "cell_type": "code",
   "execution_count": 62,
   "id": "a3453d73",
   "metadata": {},
   "outputs": [
    {
     "name": "stdout",
     "output_type": "stream",
     "text": [
      "\u001b[95mSomething\u001b[0m\n"
     ]
    }
   ],
   "source": [
    "print(\"\\033[95mSomething\\033[0m\")"
   ]
  },
  {
   "cell_type": "code",
   "execution_count": 63,
   "id": "de5a0ae8",
   "metadata": {},
   "outputs": [
    {
     "name": "stdout",
     "output_type": "stream",
     "text": [
      "\u001b[1;32;40m Bright Green  \n",
      "\n"
     ]
    }
   ],
   "source": [
    "print(\"\\033[1;32;40m Bright Green  \\n\")"
   ]
  },
  {
   "cell_type": "code",
   "execution_count": 64,
   "id": "4e0ce6ca",
   "metadata": {},
   "outputs": [],
   "source": [
    "# probabil sunt librarii externe care sa faca treaba asta mai usor...\n",
    "# precum colorama: $ pip install colorama\n",
    "\n",
    "import colorama"
   ]
  },
  {
   "cell_type": "code",
   "execution_count": 66,
   "id": "5d38a95c",
   "metadata": {},
   "outputs": [
    {
     "name": "stdout",
     "output_type": "stream",
     "text": [
      "23\n",
      "23\n"
     ]
    }
   ],
   "source": [
    "# Vrem sa returnam suma a 4 nr date ca arg\n",
    "def suma_a_4_nr(nr1, nr2, nr3, nr4):\n",
    "    return nr1 + nr2 + nr3 + nr4\n",
    "\n",
    "s = suma_a_4_nr(5,7,1,10)\n",
    "print(s)\n",
    "print(suma_a_4_nr(5,7,1,10))  # merge si asa:)"
   ]
  },
  {
   "cell_type": "code",
   "execution_count": 74,
   "id": "e3ffa08f",
   "metadata": {},
   "outputs": [
    {
     "name": "stdout",
     "output_type": "stream",
     "text": [
      "36\n",
      "6\n",
      "1231\n"
     ]
    }
   ],
   "source": [
    "# Dar daca vrem sa adunam 100 de nr?? sau 1000...\n",
    "# nu mai e amuzant sa definim functia...\n",
    "\n",
    "# Putem defini functii cu numar necunoscut de argumente prin *args si **kwargs\n",
    "def suma_a_n_nr(*args):\n",
    "#     print(type(args))\n",
    "    s = 0\n",
    "    for nr in args:    # args se interpreteaza ca o tupla\n",
    "        s += nr\n",
    "    return s\n",
    "print(suma_a_n_nr(1,2,3,4,5,6,7,8))\n",
    "print(suma_a_n_nr(1,2,3))\n",
    "print(suma_a_n_nr(1000, 231))"
   ]
  },
  {
   "cell_type": "code",
   "execution_count": 77,
   "id": "a02ee8cf",
   "metadata": {},
   "outputs": [
    {
     "name": "stdout",
     "output_type": "stream",
     "text": [
      "26\n"
     ]
    }
   ],
   "source": [
    "numbers = [5,6,7,8]  \n",
    "s = suma_a_n_nr(*numbers)   # steluta despacheteaza lista => suma_a_n_nr(5,6,7,8)\n",
    "print(s)"
   ]
  },
  {
   "cell_type": "code",
   "execution_count": 79,
   "id": "d4f02964",
   "metadata": {},
   "outputs": [
    {
     "name": "stdout",
     "output_type": "stream",
     "text": [
      "23000000\n",
      "67000000\n"
     ]
    }
   ],
   "source": [
    "countries1 = {\"Romania\": 19_000_000, \"Moldova\": 4_000_000}\n",
    "countries2 = {\"Romania\": 19_000_000, \"Moldova\": 4_000_000, \"Ucraina\": 44_000_000}\n",
    "def sum_of_population(**kwargs):\n",
    "    s = 0\n",
    "    for key in kwargs: # kwargs se interpreteaza ca un dict\n",
    "        s += kwargs[key]\n",
    "    return s\n",
    "\n",
    "print(sum_of_population(**countries1))\n",
    "print(sum_of_population(**countries2))"
   ]
  },
  {
   "cell_type": "code",
   "execution_count": 80,
   "id": "2b2bad05",
   "metadata": {},
   "outputs": [
    {
     "name": "stdout",
     "output_type": "stream",
     "text": [
      "23000000\n"
     ]
    }
   ],
   "source": [
    "# se poate apela functia cu kwargs si asa:\n",
    "print(sum_of_population(Romania=19_000_000, Moldova=4_000_000))"
   ]
  },
  {
   "cell_type": "code",
   "execution_count": null,
   "id": "036edc45",
   "metadata": {},
   "outputs": [],
   "source": [
    "# TODO_1: Vrem sa scriem o functie cu un argument pozitional country_name, cu args numere ca argumente optionale\n",
    "# si cu kwargs argumente keyword. Functia va trebui sa salute tara (\"Greetings <country_name> \") dupa care sa calculeze\n",
    "# suma tuturor valorilor date ca argument\n",
    "# de ex1: greet_and_sum(\"Romania\", 1,2,3,4, Romania=19_000_000, Moldova=4_000_000) \n",
    "# output: \"Greetings Romania\" => 23000010\n",
    "\n",
    "# ex2: greet_and_sum(\"Romania\", 7,9, alpha=50, beta=51, gamma=100) \n",
    "# output \"Greetings Romania\" => 217\n",
    "\n",
    "def greet_and_sum():\n",
    "    # your code here\n",
    "    \n",
    "    \n",
    "greet_and_sum(\"Romania\", 1,2,3,4, Romania=19_000_000, Moldova=4_000_000)\n",
    "greet_and_sum(\"Romania\", 7,9, alpha=50, beta=51, gamma=100)"
   ]
  },
  {
   "cell_type": "code",
   "execution_count": null,
   "id": "c11de880",
   "metadata": {},
   "outputs": [],
   "source": [
    "# TODO_2: Scrieti o functie care sa ia argument un numar natural si sa returneze lista formata din toate numerele naturale\n",
    "# divizibile cu 3 mai mici decat numarul dat"
   ]
  }
 ],
 "metadata": {
  "kernelspec": {
   "display_name": "Python 3 (ipykernel)",
   "language": "python",
   "name": "python3"
  },
  "language_info": {
   "codemirror_mode": {
    "name": "ipython",
    "version": 3
   },
   "file_extension": ".py",
   "mimetype": "text/x-python",
   "name": "python",
   "nbconvert_exporter": "python",
   "pygments_lexer": "ipython3",
   "version": "3.8.12"
  }
 },
 "nbformat": 4,
 "nbformat_minor": 5
}
