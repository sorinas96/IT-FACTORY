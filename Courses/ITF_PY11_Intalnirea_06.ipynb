{
 "cells": [
  {
   "cell_type": "markdown",
   "id": "7881d3d6",
   "metadata": {},
   "source": [
    "# Exceptions"
   ]
  },
  {
   "cell_type": "code",
   "execution_count": null,
   "id": "7554192b",
   "metadata": {},
   "outputs": [],
   "source": [
    "# exceptiile sunt evenimente care apar in timpul executiei unui program, intrerupandu`l;\n",
    "# ar trebui sa ni le imaginam ca pe niste obiecte care reprezinta o eroare"
   ]
  },
  {
   "cell_type": "code",
   "execution_count": 1,
   "id": "fa1a5abb",
   "metadata": {},
   "outputs": [
    {
     "ename": "IndexError",
     "evalue": "list index out of range",
     "output_type": "error",
     "traceback": [
      "\u001b[1;31m---------------------------------------------------------------------------\u001b[0m",
      "\u001b[1;31mIndexError\u001b[0m                                Traceback (most recent call last)",
      "Cell \u001b[1;32mIn [1], line 2\u001b[0m\n\u001b[0;32m      1\u001b[0m lst \u001b[38;5;241m=\u001b[39m [\u001b[38;5;124m'\u001b[39m\u001b[38;5;124ma\u001b[39m\u001b[38;5;124m'\u001b[39m,\u001b[38;5;124m'\u001b[39m\u001b[38;5;124mb\u001b[39m\u001b[38;5;124m'\u001b[39m,\u001b[38;5;124m'\u001b[39m\u001b[38;5;124mc\u001b[39m\u001b[38;5;124m'\u001b[39m]\n\u001b[1;32m----> 2\u001b[0m \u001b[43mlst\u001b[49m\u001b[43m[\u001b[49m\u001b[38;5;241;43m6\u001b[39;49m\u001b[43m]\u001b[49m\n",
      "\u001b[1;31mIndexError\u001b[0m: list index out of range"
     ]
    }
   ],
   "source": [
    "# IndexError\n",
    "lst = ['a','b','c']\n",
    "lst[6]"
   ]
  },
  {
   "cell_type": "code",
   "execution_count": null,
   "id": "506c85c7",
   "metadata": {},
   "outputs": [],
   "source": [
    "# try - except - else - finally   & raise "
   ]
  },
  {
   "cell_type": "code",
   "execution_count": 2,
   "id": "ceeb7fb3",
   "metadata": {},
   "outputs": [
    {
     "ename": "ZeroDivisionError",
     "evalue": "division by zero",
     "output_type": "error",
     "traceback": [
      "\u001b[1;31m---------------------------------------------------------------------------\u001b[0m",
      "\u001b[1;31mZeroDivisionError\u001b[0m                         Traceback (most recent call last)",
      "Cell \u001b[1;32mIn [2], line 1\u001b[0m\n\u001b[1;32m----> 1\u001b[0m \u001b[38;5;241;43m11\u001b[39;49m\u001b[38;5;241;43m/\u001b[39;49m\u001b[38;5;241;43m0\u001b[39;49m\n",
      "\u001b[1;31mZeroDivisionError\u001b[0m: division by zero"
     ]
    }
   ],
   "source": [
    "# ZeroDivisionError\n",
    "11/0"
   ]
  },
  {
   "cell_type": "code",
   "execution_count": 4,
   "id": "bceb9eab",
   "metadata": {},
   "outputs": [
    {
     "ename": "AttributeError",
     "evalue": "'list' object has no attribute 'add'",
     "output_type": "error",
     "traceback": [
      "\u001b[1;31m---------------------------------------------------------------------------\u001b[0m",
      "\u001b[1;31mAttributeError\u001b[0m                            Traceback (most recent call last)",
      "Cell \u001b[1;32mIn [4], line 2\u001b[0m\n\u001b[0;32m      1\u001b[0m lst \u001b[38;5;241m=\u001b[39m [\u001b[38;5;124m'\u001b[39m\u001b[38;5;124ma\u001b[39m\u001b[38;5;124m'\u001b[39m,\u001b[38;5;124m'\u001b[39m\u001b[38;5;124mb\u001b[39m\u001b[38;5;124m'\u001b[39m,\u001b[38;5;124m'\u001b[39m\u001b[38;5;124mc\u001b[39m\u001b[38;5;124m'\u001b[39m]\n\u001b[1;32m----> 2\u001b[0m \u001b[43mlst\u001b[49m\u001b[38;5;241;43m.\u001b[39;49m\u001b[43madd\u001b[49m(\u001b[38;5;124m'\u001b[39m\u001b[38;5;124md\u001b[39m\u001b[38;5;124m'\u001b[39m)\n",
      "\u001b[1;31mAttributeError\u001b[0m: 'list' object has no attribute 'add'"
     ]
    }
   ],
   "source": [
    "# AttributeError\n",
    "lst = ['a','b','c']\n",
    "lst.add('d')"
   ]
  },
  {
   "cell_type": "code",
   "execution_count": 6,
   "id": "a3d36812",
   "metadata": {},
   "outputs": [
    {
     "ename": "SyntaxError",
     "evalue": "invalid syntax (219586208.py, line 1)",
     "output_type": "error",
     "traceback": [
      "\u001b[1;36m  Cell \u001b[1;32mIn [6], line 1\u001b[1;36m\u001b[0m\n\u001b[1;33m    if 2>1\u001b[0m\n\u001b[1;37m          ^\u001b[0m\n\u001b[1;31mSyntaxError\u001b[0m\u001b[1;31m:\u001b[0m invalid syntax\n"
     ]
    }
   ],
   "source": [
    "# SyntaxError\n",
    "if 2>1\n",
    "    print('da')"
   ]
  },
  {
   "cell_type": "code",
   "execution_count": 7,
   "id": "249e86b6",
   "metadata": {},
   "outputs": [
    {
     "ename": "IndentationError",
     "evalue": "expected an indented block (2093457554.py, line 3)",
     "output_type": "error",
     "traceback": [
      "\u001b[1;36m  Cell \u001b[1;32mIn [7], line 3\u001b[1;36m\u001b[0m\n\u001b[1;33m    print('da')\u001b[0m\n\u001b[1;37m    ^\u001b[0m\n\u001b[1;31mIndentationError\u001b[0m\u001b[1;31m:\u001b[0m expected an indented block\n"
     ]
    }
   ],
   "source": [
    "# IndentationError\n",
    "if 2>1:\n",
    "print('da')"
   ]
  },
  {
   "cell_type": "code",
   "execution_count": 11,
   "id": "459170b2",
   "metadata": {},
   "outputs": [
    {
     "ename": "KeyError",
     "evalue": "'b'",
     "output_type": "error",
     "traceback": [
      "\u001b[1;31m---------------------------------------------------------------------------\u001b[0m",
      "\u001b[1;31mKeyError\u001b[0m                                  Traceback (most recent call last)",
      "Cell \u001b[1;32mIn [11], line 3\u001b[0m\n\u001b[0;32m      1\u001b[0m \u001b[38;5;66;03m# KeyError\u001b[39;00m\n\u001b[0;32m      2\u001b[0m d \u001b[38;5;241m=\u001b[39m {\u001b[38;5;124m'\u001b[39m\u001b[38;5;124ma\u001b[39m\u001b[38;5;124m'\u001b[39m: \u001b[38;5;241m1\u001b[39m}\n\u001b[1;32m----> 3\u001b[0m \u001b[43md\u001b[49m\u001b[43m[\u001b[49m\u001b[38;5;124;43m'\u001b[39;49m\u001b[38;5;124;43mb\u001b[39;49m\u001b[38;5;124;43m'\u001b[39;49m\u001b[43m]\u001b[49m\n\u001b[0;32m      5\u001b[0m \u001b[38;5;66;03m# solutie:\u001b[39;00m\n\u001b[0;32m      6\u001b[0m d\u001b[38;5;241m.\u001b[39mget(\u001b[38;5;124m'\u001b[39m\u001b[38;5;124mb\u001b[39m\u001b[38;5;124m'\u001b[39m)\n",
      "\u001b[1;31mKeyError\u001b[0m: 'b'"
     ]
    }
   ],
   "source": [
    "# KeyError\n",
    "d = {'a': 1}\n",
    "d['b']\n",
    "\n",
    "# solutie:\n",
    "d.get('b')"
   ]
  },
  {
   "cell_type": "code",
   "execution_count": 12,
   "id": "c3aa6c7e",
   "metadata": {},
   "outputs": [
    {
     "ename": "ModuleNotFoundError",
     "evalue": "No module named 'some_fake_modul'",
     "output_type": "error",
     "traceback": [
      "\u001b[1;31m---------------------------------------------------------------------------\u001b[0m",
      "\u001b[1;31mModuleNotFoundError\u001b[0m                       Traceback (most recent call last)",
      "Cell \u001b[1;32mIn [12], line 1\u001b[0m\n\u001b[1;32m----> 1\u001b[0m \u001b[38;5;28;01mimport\u001b[39;00m \u001b[38;5;21;01msome_fake_modul\u001b[39;00m\n",
      "\u001b[1;31mModuleNotFoundError\u001b[0m: No module named 'some_fake_modul'"
     ]
    }
   ],
   "source": [
    "# ModuleNotFoundError (la baza e un ImportError)\n",
    "import some_fake_module"
   ]
  },
  {
   "cell_type": "code",
   "execution_count": 13,
   "id": "47ae17dc",
   "metadata": {},
   "outputs": [
    {
     "ename": "TypeError",
     "evalue": "'tuple' object does not support item assignment",
     "output_type": "error",
     "traceback": [
      "\u001b[1;31m---------------------------------------------------------------------------\u001b[0m",
      "\u001b[1;31mTypeError\u001b[0m                                 Traceback (most recent call last)",
      "Cell \u001b[1;32mIn [13], line 2\u001b[0m\n\u001b[0;32m      1\u001b[0m t \u001b[38;5;241m=\u001b[39m (\u001b[38;5;241m1\u001b[39m,\u001b[38;5;241m2\u001b[39m,\u001b[38;5;241m3\u001b[39m)\n\u001b[1;32m----> 2\u001b[0m \u001b[43mt\u001b[49m\u001b[43m[\u001b[49m\u001b[38;5;241;43m0\u001b[39;49m\u001b[43m]\u001b[49m\u001b[38;5;241m=\u001b[39m\u001b[38;5;241m100\u001b[39m\n",
      "\u001b[1;31mTypeError\u001b[0m: 'tuple' object does not support item assignment"
     ]
    }
   ],
   "source": [
    "# TypeError\n",
    "t = (1,2,3)\n",
    "t[0]=100"
   ]
  },
  {
   "cell_type": "code",
   "execution_count": 15,
   "id": "44c86c03",
   "metadata": {},
   "outputs": [
    {
     "ename": "TypeError",
     "evalue": "can only concatenate str (not \"int\") to str",
     "output_type": "error",
     "traceback": [
      "\u001b[1;31m---------------------------------------------------------------------------\u001b[0m",
      "\u001b[1;31mTypeError\u001b[0m                                 Traceback (most recent call last)",
      "Cell \u001b[1;32mIn [15], line 2\u001b[0m\n\u001b[0;32m      1\u001b[0m s \u001b[38;5;241m=\u001b[39m \u001b[38;5;124m'\u001b[39m\u001b[38;5;124mabc\u001b[39m\u001b[38;5;124m'\u001b[39m\n\u001b[1;32m----> 2\u001b[0m \u001b[43ms\u001b[49m\u001b[43m \u001b[49m\u001b[38;5;241;43m+\u001b[39;49m\u001b[43m \u001b[49m\u001b[38;5;241;43m3\u001b[39;49m\n",
      "\u001b[1;31mTypeError\u001b[0m: can only concatenate str (not \"int\") to str"
     ]
    }
   ],
   "source": [
    "s = 'abc'\n",
    "s + 3"
   ]
  },
  {
   "cell_type": "code",
   "execution_count": 16,
   "id": "3d9350dc",
   "metadata": {},
   "outputs": [
    {
     "ename": "NameError",
     "evalue": "name 'undefined_variable' is not defined",
     "output_type": "error",
     "traceback": [
      "\u001b[1;31m---------------------------------------------------------------------------\u001b[0m",
      "\u001b[1;31mNameError\u001b[0m                                 Traceback (most recent call last)",
      "Cell \u001b[1;32mIn [16], line 1\u001b[0m\n\u001b[1;32m----> 1\u001b[0m \u001b[38;5;28mprint\u001b[39m(\u001b[43mundefined_variable\u001b[49m)\n",
      "\u001b[1;31mNameError\u001b[0m: name 'undefined_variable' is not defined"
     ]
    }
   ],
   "source": [
    "# NameError\n",
    "print(undefined_variable)"
   ]
  },
  {
   "cell_type": "code",
   "execution_count": 19,
   "id": "f2d7ae8f",
   "metadata": {},
   "outputs": [
    {
     "ename": "AssertionError",
     "evalue": "",
     "output_type": "error",
     "traceback": [
      "\u001b[1;31m---------------------------------------------------------------------------\u001b[0m",
      "\u001b[1;31mAssertionError\u001b[0m                            Traceback (most recent call last)",
      "Cell \u001b[1;32mIn [19], line 2\u001b[0m\n\u001b[0;32m      1\u001b[0m \u001b[38;5;66;03m# AssertionError\u001b[39;00m\n\u001b[1;32m----> 2\u001b[0m \u001b[38;5;28;01massert\u001b[39;00m \u001b[38;5;241m1\u001b[39m \u001b[38;5;241m==\u001b[39m \u001b[38;5;241m2\u001b[39m\n",
      "\u001b[1;31mAssertionError\u001b[0m: "
     ]
    }
   ],
   "source": [
    "# AssertionError\n",
    "assert 1 == 2"
   ]
  },
  {
   "cell_type": "code",
   "execution_count": 22,
   "id": "bcdecbe2",
   "metadata": {},
   "outputs": [
    {
     "ename": "ValueError",
     "evalue": "invalid literal for int() with base 10: 'qwer'",
     "output_type": "error",
     "traceback": [
      "\u001b[1;31m---------------------------------------------------------------------------\u001b[0m",
      "\u001b[1;31mValueError\u001b[0m                                Traceback (most recent call last)",
      "Cell \u001b[1;32mIn [22], line 2\u001b[0m\n\u001b[0;32m      1\u001b[0m \u001b[38;5;66;03m# ValueError\u001b[39;00m\n\u001b[1;32m----> 2\u001b[0m nr \u001b[38;5;241m=\u001b[39m \u001b[38;5;28;43mint\u001b[39;49m\u001b[43m(\u001b[49m\u001b[38;5;124;43m\"\u001b[39;49m\u001b[38;5;124;43mqwer\u001b[39;49m\u001b[38;5;124;43m\"\u001b[39;49m\u001b[43m)\u001b[49m\n",
      "\u001b[1;31mValueError\u001b[0m: invalid literal for int() with base 10: 'qwer'"
     ]
    }
   ],
   "source": [
    "# ValueError\n",
    "nr = int(\"qwer\")"
   ]
  },
  {
   "cell_type": "code",
   "execution_count": null,
   "id": "6249e10d",
   "metadata": {},
   "outputs": [],
   "source": []
  },
  {
   "cell_type": "code",
   "execution_count": 23,
   "id": "d4a282ed",
   "metadata": {},
   "outputs": [],
   "source": [
    "# pentru a handle`ui exceptiile, exista cateva keywords specifice:\n",
    "# try - except - else - finally   & raise "
   ]
  },
  {
   "cell_type": "code",
   "execution_count": 26,
   "id": "01abf5f3",
   "metadata": {},
   "outputs": [
    {
     "name": "stdout",
     "output_type": "stream",
     "text": [
      "Introduceti un numar: qwerty\n"
     ]
    },
    {
     "ename": "ValueError",
     "evalue": "invalid literal for int() with base 10: 'qwerty'",
     "output_type": "error",
     "traceback": [
      "\u001b[1;31m---------------------------------------------------------------------------\u001b[0m",
      "\u001b[1;31mValueError\u001b[0m                                Traceback (most recent call last)",
      "Cell \u001b[1;32mIn [26], line 2\u001b[0m\n\u001b[0;32m      1\u001b[0m nr \u001b[38;5;241m=\u001b[39m \u001b[38;5;28minput\u001b[39m(\u001b[38;5;124m\"\u001b[39m\u001b[38;5;124mIntroduceti un numar: \u001b[39m\u001b[38;5;124m\"\u001b[39m)\n\u001b[1;32m----> 2\u001b[0m nr \u001b[38;5;241m=\u001b[39m \u001b[38;5;28;43mint\u001b[39;49m\u001b[43m(\u001b[49m\u001b[43mnr\u001b[49m\u001b[43m)\u001b[49m\n\u001b[0;32m      3\u001b[0m \u001b[38;5;28mprint\u001b[39m(nr)\n\u001b[0;32m      4\u001b[0m \u001b[38;5;28mprint\u001b[39m(\u001b[38;5;28mtype\u001b[39m(nr))\n",
      "\u001b[1;31mValueError\u001b[0m: invalid literal for int() with base 10: 'qwerty'"
     ]
    }
   ],
   "source": [
    "nr = input(\"Introduceti un numar: \")\n",
    "nr = int(nr)\n",
    "print(nr)\n",
    "print(type(nr))"
   ]
  },
  {
   "cell_type": "code",
   "execution_count": 28,
   "id": "41384148",
   "metadata": {},
   "outputs": [
    {
     "name": "stdout",
     "output_type": "stream",
     "text": [
      "Introduceti un numar: qwer\n",
      "Nu ati introdus un numar valid!\n",
      "Continua executia programului...\n"
     ]
    }
   ],
   "source": [
    "nr = input(\"Introduceti un numar: \")\n",
    "try:\n",
    "    nr = int(nr)\n",
    "    print(nr)\n",
    "    print(type(nr))\n",
    "except:\n",
    "    print(\"Nu ati introdus un numar valid!\")\n",
    "print(\"Continua executia programului...\")\n",
    "\n",
    "# se incearca executia blocului try, daca nu apare nicio eroare blocul except nu va fi executat,\n",
    "# iar daca, in schimba apare o eroare in blocul try, iar exceptia e cea definita (in cazul nostru nu avem definita o exceptie anume, se prinde orice exc)\n",
    "# se va executa blocul except, iar apoi se va continua executia programului"
   ]
  },
  {
   "cell_type": "code",
   "execution_count": 30,
   "id": "9b250bb5",
   "metadata": {},
   "outputs": [
    {
     "name": "stdout",
     "output_type": "stream",
     "text": [
      "Introduceti un numar: qwert\n",
      "Nu ati introdus un numar valid!\n",
      "Continua executia programului...\n"
     ]
    }
   ],
   "source": [
    "nr = input(\"Introduceti un numar: \")\n",
    "try:\n",
    "    nr = int(nr)\n",
    "    print(nr)\n",
    "    print(type(nr))\n",
    "except ValueError:\n",
    "    print(\"Nu ati introdus un numar valid!\")\n",
    "print(\"Continua executia programului...\")\n"
   ]
  },
  {
   "cell_type": "code",
   "execution_count": 31,
   "id": "d772c748",
   "metadata": {},
   "outputs": [
    {
     "name": "stdout",
     "output_type": "stream",
     "text": [
      "Introduceti un numar: qwerty\n"
     ]
    },
    {
     "ename": "ValueError",
     "evalue": "invalid literal for int() with base 10: 'qwerty'",
     "output_type": "error",
     "traceback": [
      "\u001b[1;31m---------------------------------------------------------------------------\u001b[0m",
      "\u001b[1;31mValueError\u001b[0m                                Traceback (most recent call last)",
      "Cell \u001b[1;32mIn [31], line 3\u001b[0m\n\u001b[0;32m      1\u001b[0m nr \u001b[38;5;241m=\u001b[39m \u001b[38;5;28minput\u001b[39m(\u001b[38;5;124m\"\u001b[39m\u001b[38;5;124mIntroduceti un numar: \u001b[39m\u001b[38;5;124m\"\u001b[39m)\n\u001b[0;32m      2\u001b[0m \u001b[38;5;28;01mtry\u001b[39;00m:\n\u001b[1;32m----> 3\u001b[0m     nr \u001b[38;5;241m=\u001b[39m \u001b[38;5;28;43mint\u001b[39;49m\u001b[43m(\u001b[49m\u001b[43mnr\u001b[49m\u001b[43m)\u001b[49m\n\u001b[0;32m      4\u001b[0m     \u001b[38;5;28mprint\u001b[39m(nr)\n\u001b[0;32m      5\u001b[0m     \u001b[38;5;28mprint\u001b[39m(\u001b[38;5;28mtype\u001b[39m(nr))\n",
      "\u001b[1;31mValueError\u001b[0m: invalid literal for int() with base 10: 'qwerty'"
     ]
    }
   ],
   "source": [
    "nr = input(\"Introduceti un numar: \")\n",
    "try:\n",
    "    nr = int(nr)      # daca introducem 'qwerty' se arunca o exceptie de tip ValueError\n",
    "    print(nr)\n",
    "    print(type(nr))\n",
    "except NameError:     # iar noi incercam sa prindem o exceptie de tip NameError, asa ca nu se va intra pe blocul except\n",
    "    print(\"Nu ati introdus un numar valid!\")\n",
    "print(\"Continua executia programului...\")"
   ]
  },
  {
   "cell_type": "code",
   "execution_count": 33,
   "id": "84041c81",
   "metadata": {},
   "outputs": [
    {
     "name": "stdout",
     "output_type": "stream",
     "text": [
      "Introduceti un numar: 6789\n",
      "6789\n",
      "<class 'int'>\n",
      "Continua executia programului...\n",
      "6789\n"
     ]
    }
   ],
   "source": [
    "nr = input(\"Introduceti un numar: \")\n",
    "try:\n",
    "    nr = int(nr)\n",
    "    print(nr)\n",
    "    print(type(nr))\n",
    "except ValueError:\n",
    "    print(\"Nu ati introdus un numar valid!\")\n",
    "    nr = 0\n",
    "print(\"Continua executia programului...\")\n",
    "\n",
    "print(nr)"
   ]
  },
  {
   "cell_type": "code",
   "execution_count": 35,
   "id": "e3b0d295",
   "metadata": {},
   "outputs": [],
   "source": [
    "# sintaxa generala pt handling`ul exceptiilor:\n",
    "\n",
    "try:\n",
    "    # aici avem executia normala, cod fara erori\n",
    "except:\n",
    "    # aici se intra daca avem exceptii, blocul try intrerupandu`se la linia de cod cu eroarea\n",
    "    # tot aici se face handling`ul eventualelor exceptii\n",
    "else:\n",
    "    # bloc care se executa in continuarea blocului try, in cazul in care nu avem exceptie\n",
    "finally:\n",
    "    # bloc care se execulta la final indiferent ca avem sau nu exceptie"
   ]
  },
  {
   "cell_type": "code",
   "execution_count": 43,
   "id": "4773d249",
   "metadata": {},
   "outputs": [
    {
     "name": "stdout",
     "output_type": "stream",
     "text": [
      "5\n",
      "3\n",
      "4\n"
     ]
    }
   ],
   "source": [
    "# Ce afiseaza codul urmator?\n",
    "aa = 0\n",
    "try:\n",
    "    if aa:  # False\n",
    "        print(1)\n",
    "    else:\n",
    "        print(5)\n",
    "except:\n",
    "    print(2)\n",
    "else:\n",
    "    print(3)\n",
    "finally:\n",
    "    print(4)   "
   ]
  },
  {
   "cell_type": "code",
   "execution_count": 37,
   "id": "6d39ff6c",
   "metadata": {},
   "outputs": [
    {
     "data": {
      "text/plain": [
       "True"
      ]
     },
     "execution_count": 37,
     "metadata": {},
     "output_type": "execute_result"
    }
   ],
   "source": [
    "bool(1)"
   ]
  },
  {
   "cell_type": "code",
   "execution_count": 38,
   "id": "c9c89b96",
   "metadata": {},
   "outputs": [
    {
     "data": {
      "text/plain": [
       "True"
      ]
     },
     "execution_count": 38,
     "metadata": {},
     "output_type": "execute_result"
    }
   ],
   "source": [
    "bool(25)"
   ]
  },
  {
   "cell_type": "code",
   "execution_count": 39,
   "id": "55c1ca5f",
   "metadata": {},
   "outputs": [
    {
     "data": {
      "text/plain": [
       "False"
      ]
     },
     "execution_count": 39,
     "metadata": {},
     "output_type": "execute_result"
    }
   ],
   "source": [
    "bool(0)"
   ]
  },
  {
   "cell_type": "code",
   "execution_count": 40,
   "id": "78fa14bc",
   "metadata": {},
   "outputs": [
    {
     "data": {
      "text/plain": [
       "True"
      ]
     },
     "execution_count": 40,
     "metadata": {},
     "output_type": "execute_result"
    }
   ],
   "source": [
    "bool('qwerty')"
   ]
  },
  {
   "cell_type": "code",
   "execution_count": 41,
   "id": "0c6314d4",
   "metadata": {},
   "outputs": [
    {
     "data": {
      "text/plain": [
       "False"
      ]
     },
     "execution_count": 41,
     "metadata": {},
     "output_type": "execute_result"
    }
   ],
   "source": [
    "bool('')"
   ]
  },
  {
   "cell_type": "code",
   "execution_count": 50,
   "id": "fc9f47de",
   "metadata": {},
   "outputs": [
    {
     "name": "stdout",
     "output_type": "stream",
     "text": [
      "Introduceti un x pentru a calcula 100/x. x = 0\n",
      "Am prins o alta exceptie!\n"
     ]
    }
   ],
   "source": [
    "# Ce afiseaza codul urmator?\n",
    "try:\n",
    "    x = int(input(\"Introduceti un x pentru a calcula 100/x. x = \"))\n",
    "    lst = [1,2,3]\n",
    "    lst.add(4)   # exc\n",
    "    result = 100/x\n",
    "    print(f\"Rezultatul lui 100/x = {result}\")\n",
    "\n",
    "except ValueError:\n",
    "    print(\"Am prins o exceptie de tip ValueError\")\n",
    "except (ZeroDivisionError, KeyError):\n",
    "    print(\"Am prins o exceptie de tip ZeroDivisionError sau KeyError\")\n",
    "except:\n",
    "    print(\"Am prins o alta exceptie!\")"
   ]
  },
  {
   "cell_type": "code",
   "execution_count": null,
   "id": "9421e9f9",
   "metadata": {},
   "outputs": [],
   "source": []
  },
  {
   "cell_type": "code",
   "execution_count": null,
   "id": "231c6703",
   "metadata": {},
   "outputs": [],
   "source": [
    "# C06_EX01: Se da variabila password='12345mypass'. \n",
    "# Creati o bucla care sa accepte parole pana cand ati introdus`o pe cea corecta (salvata dinainte intr`o variabila password)\n",
    "# Tip: Va puteti folosi de mecanismul de exception handling ca sa va asigurati ca parola e cea corecta\n",
    "password='12345mypass'"
   ]
  },
  {
   "cell_type": "code",
   "execution_count": null,
   "id": "84843a72",
   "metadata": {},
   "outputs": [],
   "source": []
  },
  {
   "cell_type": "code",
   "execution_count": null,
   "id": "89ce5071",
   "metadata": {},
   "outputs": [],
   "source": []
  },
  {
   "cell_type": "markdown",
   "id": "cfbe97ec",
   "metadata": {},
   "source": [
    "# OOP"
   ]
  },
  {
   "cell_type": "code",
   "execution_count": 51,
   "id": "f5e0514d",
   "metadata": {},
   "outputs": [],
   "source": [
    "# OOP = Object Oriented Programming\n",
    "# - e o paradigma foarte des intalnita in web development; presupune o serie de conventii"
   ]
  },
  {
   "cell_type": "code",
   "execution_count": 52,
   "id": "8427b8e6",
   "metadata": {},
   "outputs": [],
   "source": [
    "# clasa - e un sablon/o schita pentru a crea obiecte/entitati\n",
    "# - clasa defineste atribute (caracteristici) si metode (functii) reprezentand functionalitatile acestor entitati\n",
    "# - clasa are:\n",
    "#        - atribute / field-uri\n",
    "#        - metode  / functii\n",
    "\n",
    "# obiectul - e instanta clasei (o entiate \"fizica\") practic implementare sablonului intr`o entiate care \"prinde viata\""
   ]
  },
  {
   "cell_type": "code",
   "execution_count": 59,
   "id": "0f5b02c1",
   "metadata": {},
   "outputs": [
    {
     "name": "stdout",
     "output_type": "stream",
     "text": [
      "Dacia\n",
      "VRUUUUUM\n",
      "Dacia\n"
     ]
    }
   ],
   "source": [
    "class Car:\n",
    "    # atribute / fields\n",
    "    brand = \"Dacia\"       # observam ca atributele sunt constante, oricate obiecte ne cream, vor avea acelasi brand\n",
    "    model = \"1310\"\n",
    "    year = 1960\n",
    "    \n",
    "    # metode \n",
    "    def accelerate(self):\n",
    "        print(\"VRUUUUUM\")\n",
    "        \n",
    "    def breaking(self):\n",
    "        print(\"SCRRRRR\")\n",
    "\n",
    "    \n",
    "        \n",
    "c1 = Car()\n",
    "print(c1.brand)\n",
    "c1.accelerate()\n",
    "\n",
    "c2 = Car()\n",
    "print(c2.brand)"
   ]
  },
  {
   "cell_type": "code",
   "execution_count": 67,
   "id": "33bd2015",
   "metadata": {},
   "outputs": [
    {
     "name": "stdout",
     "output_type": "stream",
     "text": [
      "Hello World\n"
     ]
    }
   ],
   "source": [
    "def hello():\n",
    "    print(\"Hello World\")\n",
    "    \n",
    "hello()"
   ]
  },
  {
   "cell_type": "code",
   "execution_count": 71,
   "id": "9ccb0562",
   "metadata": {},
   "outputs": [
    {
     "name": "stdout",
     "output_type": "stream",
     "text": [
      "Salut, Gheorghe\n",
      "Salut, Ioan\n",
      "Salut, World\n"
     ]
    }
   ],
   "source": [
    "def salut(name=\"World\"):\n",
    "    print(f\"Salut, {name}\")\n",
    "\n",
    "salut(\"Gheorghe\")\n",
    "salut(\"Ioan\")\n",
    "salut()"
   ]
  },
  {
   "cell_type": "code",
   "execution_count": 63,
   "id": "3f759399",
   "metadata": {},
   "outputs": [
    {
     "name": "stdout",
     "output_type": "stream",
     "text": [
      "Dacia\n",
      "Tesla\n",
      "Anul fabricatiei este: 2022\n",
      "<__main__.Car object at 0x00000148E14646D0>\n"
     ]
    }
   ],
   "source": [
    "class Car:\n",
    "    # constructor/initializator\n",
    "    def __init__(self, input_brand, input_model, input_year):\n",
    "        self.brand = input_brand    # atributul este self.brand, iar input_brand este ce pasam in momentul creeari obiectului dacia = Car(\"Dacia\", ...)\n",
    "        self.model = input_model\n",
    "        self.year = input_year\n",
    "        \n",
    "    def show_year(self):\n",
    "        print(f\"Anul fabricatiei este: {self.year}\")\n",
    "        \n",
    "    \n",
    "        \n",
    "dacia = Car(\"Dacia\", \"Duster\", 2022)\n",
    "tesla = Car(\"Tesla\", \"X\", 2021)\n",
    "\n",
    "print(dacia.brand)\n",
    "print(tesla.brand)\n",
    "\n",
    "dacia.show_year()\n",
    "\n",
    "\n",
    "print(dacia)"
   ]
  },
  {
   "cell_type": "code",
   "execution_count": 66,
   "id": "4f618090",
   "metadata": {},
   "outputs": [
    {
     "name": "stdout",
     "output_type": "stream",
     "text": [
      "Obiectul Car are brandul: Dacia, modelul: Duster si este fabricat in anul: 2022\n",
      "[Obiectul Car are brandul: Dacia, modelul: Duster si este fabricat in anul: 2022, Obiectul Car are brandul: Tesla, modelul: X si este fabricat in anul: 2021]\n"
     ]
    }
   ],
   "source": [
    "class Car:\n",
    "    # constructor/initializator\n",
    "    def __init__(self, input_brand, input_model, input_year):\n",
    "        self.brand = input_brand    # atributul este self.brand, iar input_brand este ce pasam in momentul creeari obiectului dacia = Car(\"Dacia\", ...)\n",
    "        self.model = input_model\n",
    "        self.year = input_year\n",
    "        \n",
    "    def show_year(self):\n",
    "        print(f\"Anul fabricatiei este: {self.year}\")\n",
    "        \n",
    "    def __str__(self):   # metodele cu __ se numeste magic methods\n",
    "        return f\"Obiectul Car are brandul: {self.brand}, modelul: {self.model} si este fabricat in anul: {self.year}\"\n",
    "        \n",
    "    def __repr__(self):\n",
    "        return self.__str__()\n",
    "    \n",
    "dacia = Car(\"Dacia\", \"Duster\", 2022)\n",
    "tesla = Car(\"Tesla\", \"X\", 2021)\n",
    "\n",
    "print(dacia)\n",
    "\n",
    "list_of_car_objects = [dacia, tesla]\n",
    "print(list_of_car_objects)"
   ]
  },
  {
   "cell_type": "code",
   "execution_count": null,
   "id": "f4afec27",
   "metadata": {},
   "outputs": [],
   "source": []
  },
  {
   "cell_type": "markdown",
   "id": "c2033e63",
   "metadata": {},
   "source": [
    "# Imports"
   ]
  },
  {
   "cell_type": "code",
   "execution_count": 70,
   "id": "e6e238ec",
   "metadata": {},
   "outputs": [],
   "source": [
    "# putem importa clase/functii din alte fisiere cu:\n",
    "\n",
    "# director = folder\n",
    "\n",
    "# from director.fisier import NumeClasa\n",
    "# sau\n",
    "# from director.fisier import nume_functie\n",
    "\n",
    "\n",
    "\n",
    "# from director.fisier import NumeClasa as NewName  (si folosim NewName in loc de NumeClasa)\n",
    "# from director import fisier   (si apelam cu fisier.NumeClasa)\n",
    "\n",
    "\n",
    "# fisierele cu extensia .py se numesc module Python\n",
    "# iar directoarele care contin un fisier gol __init__.py se numesc package-uri "
   ]
  },
  {
   "cell_type": "code",
   "execution_count": 74,
   "id": "5b4f32a7",
   "metadata": {},
   "outputs": [
    {
     "name": "stdout",
     "output_type": "stream",
     "text": [
      "8\n",
      "****\n",
      "****\n",
      "####\n",
      "####\n"
     ]
    }
   ],
   "source": [
    "# C06_EX02: Creati un fisier rectangle.py in care sa va definiti o clasa Rectangle, care are 2 atribute width si length, \n",
    "# instantiate in cadrul constructorului cu 2 valori integer.\n",
    "# a) Pentru clasa respectiva creati o functie get_area care returneaza aria dreptunghiului.\n",
    "# b) Creati si o functie display care afiseaza dreptunghiul folosind un parametru optional pentru a desena; in cazul in care\n",
    "# parametrul nu este dat, se foloseste ca default caracterul *.\n",
    "# c) Creati un fisier nou test_rectangle.py unde sa va importati clasa Rectangle (din rectangle.py) si testati codul.\n",
    "# Exemplu de rulare:\n",
    "# new_rectangle = Rectangle(2, 4)\n",
    "# print(new_rectangle.get_area()) => 8\n",
    "# new_rectangle.display() => ****     sau: new_rectangle('#') => ####\n",
    "#                            ****                                ####\n",
    "class Rectangle:\n",
    "    def __init__(self, input_width, input_length):\n",
    "        self.width = input_width\n",
    "        self.length = input_length\n",
    "\n",
    "    def get_area(self):\n",
    "        return self.width * self.length\n",
    "\n",
    "    def display(self, character='*'):\n",
    "        for _ in range(self.width):\n",
    "            print(character * self.length)\n",
    "            \n",
    "            \n",
    "new_rectangle = Rectangle(2, 4)\n",
    "print(new_rectangle.get_area())\n",
    "new_rectangle.display()\n",
    "new_rectangle.display('#')\n"
   ]
  },
  {
   "cell_type": "code",
   "execution_count": null,
   "id": "3802f7bc",
   "metadata": {},
   "outputs": [],
   "source": [
    "# Daca avem un fisierul care se cheama rectangle.py\n",
    "\n",
    "# In fisierul test_rectangle.py, importa arata asa:\n",
    "from rectangle import Rectangle    # fara extensia .py!!"
   ]
  },
  {
   "cell_type": "code",
   "execution_count": 84,
   "id": "89fe0e4d",
   "metadata": {},
   "outputs": [
    {
     "name": "stdout",
     "output_type": "stream",
     "text": [
      "0.0\n",
      "Mihai are in contul RORON1234XYZ suma de 0.0 RON\n",
      "Mihai are in contul RORON1234XYZ suma de 5000.0 RON\n",
      "Mihai are in contul RORON1234XYZ suma de 6000.0 RON\n",
      "2500\n",
      "Mihai are in contul RORON1234XYZ suma de 3500.0 RON\n",
      "Fonduri insuficiente!\n",
      "0\n",
      "Mihai are in contul RORON1234XYZ suma de 3500.0 RON\n"
     ]
    }
   ],
   "source": [
    "# C06_EX03: Scrieti o clasa Account (fields: iban: str, owner: str, balance: float -> default 0). \n",
    "# Metode: \n",
    "# - show_balance() - \"<owner> are in contul <iban> suma de <balance> RON\"\n",
    "# - withdraw(amount) \n",
    "# - deposit(amonut)\n",
    "class Account:\n",
    "    def __init__(self, iban, owner, balance=0.0):\n",
    "        self.iban = iban\n",
    "        self.owner = owner\n",
    "        self.balance = balance\n",
    "        \n",
    "    def show_balance(self):\n",
    "        print(f\"{self.owner} are in contul {self.iban} suma de {self.balance} RON\")\n",
    "        \n",
    "    def deposit(self, amount):\n",
    "        self.balance = self.balance + amount  # echivalent cu self.balance += amount\n",
    "        \n",
    "    def withdraw(self, amount):\n",
    "        if self.balance > amount:\n",
    "            self.balance -= amount\n",
    "            return amount\n",
    "        else:\n",
    "            print(\"Fonduri insuficiente!\")\n",
    "            return 0\n",
    "    \n",
    "new_account = Account(\"RORON1234XYZ\", \"Mihai\")\n",
    "print(new_account.balance)\n",
    "new_account.show_balance()\n",
    "new_account.deposit(5000)\n",
    "new_account.show_balance()\n",
    "new_account.deposit(1000)\n",
    "new_account.show_balance()\n",
    "withdraw_amount = new_account.withdraw(2500)\n",
    "print(withdraw_amount)\n",
    "new_account.show_balance()\n",
    "withdraw_amount = new_account.withdraw(4000)\n",
    "print(withdraw_amount)\n",
    "new_account.show_balance()"
   ]
  },
  {
   "cell_type": "code",
   "execution_count": null,
   "id": "b60ec389",
   "metadata": {},
   "outputs": [],
   "source": []
  }
 ],
 "metadata": {
  "kernelspec": {
   "display_name": "Python 3 (ipykernel)",
   "language": "python",
   "name": "python3"
  },
  "language_info": {
   "codemirror_mode": {
    "name": "ipython",
    "version": 3
   },
   "file_extension": ".py",
   "mimetype": "text/x-python",
   "name": "python",
   "nbconvert_exporter": "python",
   "pygments_lexer": "ipython3",
   "version": "3.9.13"
  }
 },
 "nbformat": 4,
 "nbformat_minor": 5
}
