{
 "cells": [
  {
   "cell_type": "code",
   "execution_count": 58,
   "id": "b25352a6",
   "metadata": {},
   "outputs": [
    {
     "data": {
      "text/plain": [
       "'Bogdan'"
      ]
     },
     "execution_count": 58,
     "metadata": {},
     "output_type": "execute_result"
    }
   ],
   "source": [
    "import random\n",
    "choices_initial = [\"Catalin\", \"Bogdan\", \"Florin\", \"Razvan\", \"Roxana\", \"Sorina\", \"Dorinel\"]\n",
    "choices = [\"Bogdan\", \"Dorinel\"]\n",
    "\n",
    "random.choice(choices)"
   ]
  },
  {
   "cell_type": "markdown",
   "id": "2e402ed4",
   "metadata": {},
   "source": [
    "# Recap"
   ]
  },
  {
   "cell_type": "code",
   "execution_count": 2,
   "id": "1bbae449",
   "metadata": {},
   "outputs": [],
   "source": [
    "# Recap01: What do we mean by data type? Give us an example of a numeric data type in Python!\n",
    "\n",
    "# datele cu care putem lucra in Python\n",
    "# numeric data type: int, float"
   ]
  },
  {
   "cell_type": "code",
   "execution_count": 7,
   "id": "06a5d3fd",
   "metadata": {},
   "outputs": [
    {
     "name": "stdout",
     "output_type": "stream",
     "text": [
      "None\n",
      "<class 'NoneType'>\n"
     ]
    }
   ],
   "source": [
    "# Recap02: What is the data type and possible values for representing a truth condition? How about for missing value? \n",
    "\n",
    "# bool (boolean) cu valori True/False  - pt cond de adev\n",
    "# NoneType (cu valoarea None)  - pt valori lipsa\n",
    "d = {'a': 1, 'c': 3} \n",
    "print(d.get('b'))\n",
    "\n",
    "print(type(None))"
   ]
  },
  {
   "cell_type": "code",
   "execution_count": 10,
   "id": "2afedbca",
   "metadata": {},
   "outputs": [],
   "source": [
    "# Recap03: What is a variable? Give us an example!\n",
    "\n",
    "# o variabila e un loc in memoria unui calculator unde stocam date\n",
    "masina = \"Dacia\"   # are un nume, o valoare si un loc in memorie unde e stocata"
   ]
  },
  {
   "cell_type": "code",
   "execution_count": 12,
   "id": "33960cdc",
   "metadata": {},
   "outputs": [],
   "source": [
    "# Recap04: What naming convention would we use if we wanted to take a variable called: my first variable; having value 10?\n",
    "\n",
    "my_first_variable = 10  # snake_case\n",
    "\n",
    "myFirstVariable = 11 # camelCase\n",
    "MyFirstVariable = 12 # PascalCase"
   ]
  },
  {
   "cell_type": "code",
   "execution_count": 15,
   "id": "c594374d",
   "metadata": {},
   "outputs": [
    {
     "data": {
      "text/plain": [
       "str"
      ]
     },
     "execution_count": 15,
     "metadata": {},
     "output_type": "execute_result"
    }
   ],
   "source": [
    "# Recap05: What`s the name of the built-in Python function which returns the data type of a given value/variable?\n",
    "# What will it return for calling it with the value: \"120.0\" ?\n",
    "\n",
    "# functia type\n",
    "type(\"120.0\")   # str"
   ]
  },
  {
   "cell_type": "code",
   "execution_count": 17,
   "id": "b1212859",
   "metadata": {},
   "outputs": [
    {
     "name": "stdout",
     "output_type": "stream",
     "text": [
      "3.6666666666666665\n",
      "3\n"
     ]
    }
   ],
   "source": [
    "# Recap06: What would the following piece of code print?\n",
    "n = 11\n",
    "print(11/3)    # 3.66   (impartirea exacta)\n",
    "print(11//3)   # 3      (partea intreaga a impartirii)"
   ]
  },
  {
   "cell_type": "code",
   "execution_count": 18,
   "id": "7b2c468e",
   "metadata": {},
   "outputs": [
    {
     "name": "stdout",
     "output_type": "stream",
     "text": [
      "yesofcourse\n"
     ]
    }
   ],
   "source": [
    "# Recap07: What would the following piece of code print?\n",
    "my_text = 'yes'\n",
    "print(my_text + 'ofcourse')  # yesofcourse"
   ]
  },
  {
   "cell_type": "code",
   "execution_count": 20,
   "id": "117d80b0",
   "metadata": {},
   "outputs": [
    {
     "ename": "TypeError",
     "evalue": "can only concatenate str (not \"int\") to str",
     "output_type": "error",
     "traceback": [
      "\u001b[1;31m---------------------------------------------------------------------------\u001b[0m",
      "\u001b[1;31mTypeError\u001b[0m                                 Traceback (most recent call last)",
      "Cell \u001b[1;32mIn [20], line 3\u001b[0m\n\u001b[0;32m      1\u001b[0m \u001b[38;5;66;03m# Recap08: What would the following piece of code print?\u001b[39;00m\n\u001b[0;32m      2\u001b[0m my_text \u001b[38;5;241m=\u001b[39m \u001b[38;5;124m'\u001b[39m\u001b[38;5;124myes\u001b[39m\u001b[38;5;124m'\u001b[39m\n\u001b[1;32m----> 3\u001b[0m \u001b[38;5;28mprint\u001b[39m(\u001b[43mmy_text\u001b[49m\u001b[43m \u001b[49m\u001b[38;5;241;43m+\u001b[39;49m\u001b[43m \u001b[49m\u001b[38;5;241;43m3\u001b[39;49m)\n",
      "\u001b[1;31mTypeError\u001b[0m: can only concatenate str (not \"int\") to str"
     ]
    }
   ],
   "source": [
    "# Recap08: What would the following piece of code print?\n",
    "my_text = 'yes'\n",
    "print(my_text + 3)  # eroare"
   ]
  },
  {
   "cell_type": "code",
   "execution_count": 22,
   "id": "38aeb475",
   "metadata": {},
   "outputs": [
    {
     "name": "stdout",
     "output_type": "stream",
     "text": [
      "yesyesyes\n"
     ]
    }
   ],
   "source": [
    "# Recap09: What would the following piece of code print?\n",
    "my_text = 'yes'\n",
    "print(my_text * 3)"
   ]
  },
  {
   "cell_type": "code",
   "execution_count": 29,
   "id": "6557558f",
   "metadata": {},
   "outputs": [
    {
     "data": {
      "text/plain": [
       "20"
      ]
     },
     "execution_count": 29,
     "metadata": {},
     "output_type": "execute_result"
    }
   ],
   "source": [
    "lst = [None, 'da'] * 10\n",
    "len(lst)"
   ]
  },
  {
   "cell_type": "code",
   "execution_count": 31,
   "id": "9c8a1215",
   "metadata": {},
   "outputs": [
    {
     "name": "stdout",
     "output_type": "stream",
     "text": [
      "[None, 'da', None, 'da', None, 'da', None, 'da', None, 'da', None, 'da', None, 'da', None, 'da', None, 'da', None, 'da']\n"
     ]
    }
   ],
   "source": [
    "# [None, 'da', None, 'da'....]\n",
    "print(lst)"
   ]
  },
  {
   "cell_type": "code",
   "execution_count": 32,
   "id": "98165e04",
   "metadata": {},
   "outputs": [
    {
     "data": {
      "text/plain": [
       "NoneType"
      ]
     },
     "execution_count": 32,
     "metadata": {},
     "output_type": "execute_result"
    }
   ],
   "source": [
    "type(None)\n",
    "\n",
    "# NoneType - e data type-ul \n",
    "# None - e valoarea aferenta data type`ului\n",
    "\n",
    "# bool - data type\n",
    "# True/False - valorile\n",
    "\n",
    "# int - data type\n",
    "# ..,-1,0,1,2,...  - valorile"
   ]
  },
  {
   "cell_type": "code",
   "execution_count": 33,
   "id": "27d74536",
   "metadata": {},
   "outputs": [
    {
     "name": "stdout",
     "output_type": "stream",
     "text": [
      "Nu exista\n"
     ]
    }
   ],
   "source": [
    "my_obj = None\n",
    "if my_obj:\n",
    "    print(\"Exista\")\n",
    "else:\n",
    "    print(\"Nu exista\")"
   ]
  },
  {
   "cell_type": "code",
   "execution_count": 37,
   "id": "d766f69b",
   "metadata": {},
   "outputs": [
    {
     "name": "stdout",
     "output_type": "stream",
     "text": [
      "E None\n"
     ]
    }
   ],
   "source": [
    "my_obj = None\n",
    "if my_obj is None:\n",
    "    print(\"E None\")\n",
    "else:\n",
    "    print(\"Nu e None\")"
   ]
  },
  {
   "cell_type": "code",
   "execution_count": 41,
   "id": "e2573085",
   "metadata": {},
   "outputs": [
    {
     "name": "stdout",
     "output_type": "stream",
     "text": [
      "True\n",
      "True\n"
     ]
    }
   ],
   "source": [
    "# Recap10: How should we write the print statement to retrieve the truth value from the comparision of an integer number a=8 \n",
    "# being bigger than both b=6 and c=3? \n",
    "\n",
    "a = 8\n",
    "b = 6\n",
    "c = 7\n",
    "\n",
    "print(a > b and a > c)\n",
    "# print(a > b > c)     # !nu respecta cerinta\n",
    "print(b < a > c)"
   ]
  },
  {
   "cell_type": "code",
   "execution_count": 47,
   "id": "73803a29",
   "metadata": {},
   "outputs": [
    {
     "name": "stdout",
     "output_type": "stream",
     "text": [
      "True\n",
      "True\n"
     ]
    }
   ],
   "source": [
    "# Recap11: How should we write the print statement to retrieve the truth value of whether a string s1='str' \n",
    "# is contained in a string s2='substring'?\n",
    "\n",
    "s1='str'\n",
    "s2='substring'\n",
    "\n",
    "if s1 in s2:\n",
    "    print(True)\n",
    "else:\n",
    "    print(False)\n",
    "    \n",
    "print(s1 in s2)"
   ]
  },
  {
   "cell_type": "code",
   "execution_count": 45,
   "id": "e64d15b1",
   "metadata": {},
   "outputs": [
    {
     "name": "stdout",
     "output_type": "stream",
     "text": [
      "True\n"
     ]
    }
   ],
   "source": [
    "lst = [5,91, 43, 2, 19]\n",
    "# Cum verificam daca 43 se regaseste in lst?\n",
    "\n",
    "if 43 in lst:\n",
    "    print(True)\n",
    "else:\n",
    "    print(False)"
   ]
  },
  {
   "cell_type": "code",
   "execution_count": 57,
   "id": "da75a714",
   "metadata": {},
   "outputs": [
    {
     "name": "stdout",
     "output_type": "stream",
     "text": [
      "3.14\n",
      "3.14\n",
      "3.14\n"
     ]
    }
   ],
   "source": [
    "# Recap12: How should we write the print statement to retrieve the variable pi=3.14159265359 with only 2 decimals\n",
    "\n",
    "pi=3.14159265359\n",
    "pi_as_str = str(pi)\n",
    "print(pi_as_str[0:4])   # slicing\n",
    "\n",
    "print(round(pi, 2))  \n",
    "\n",
    "print(f\"{pi:.2f}\")"
   ]
  },
  {
   "cell_type": "code",
   "execution_count": 59,
   "id": "8a64e510",
   "metadata": {},
   "outputs": [
    {
     "name": "stdout",
     "output_type": "stream",
     "text": [
      "False\n"
     ]
    }
   ],
   "source": [
    "# Recap13: What is the truth value returned by the following code?\n",
    "a = True\n",
    "b = True\n",
    "c = False\n",
    "print(not a or b and c)\n",
    "#     False or True and False\n",
    "#         True      and False\n",
    "#                  False"
   ]
  },
  {
   "cell_type": "code",
   "execution_count": 61,
   "id": "fd877bb0",
   "metadata": {},
   "outputs": [
    {
     "name": "stdout",
     "output_type": "stream",
     "text": [
      "Hello\n"
     ]
    }
   ],
   "source": [
    "# Recap14: Given the string hello = \"Hello, World!\", what should we write to get the string formed of the first 5 characters \n",
    "# aka \"Hello\"?\n",
    "\n",
    "hello = \"Hello, World!\"\n",
    "#        012345\n",
    "print(hello[0:5])"
   ]
  },
  {
   "cell_type": "code",
   "execution_count": null,
   "id": "6e80bda5",
   "metadata": {},
   "outputs": [],
   "source": []
  },
  {
   "cell_type": "markdown",
   "id": "b61f1f61",
   "metadata": {},
   "source": [
    "# OOP principles"
   ]
  },
  {
   "cell_type": "code",
   "execution_count": 62,
   "id": "52d979a9",
   "metadata": {},
   "outputs": [],
   "source": [
    "# Inheritance (Mostenire)\n",
    "# Polymorphism (Polimorfism)\n",
    "# Abstraction (Abstractizare)\n",
    "# Encapsulation/Hermatization (Incapsulare)"
   ]
  },
  {
   "cell_type": "code",
   "execution_count": 63,
   "id": "1fc0e20f",
   "metadata": {},
   "outputs": [],
   "source": [
    "# Inheritance: presupune o clasa parinte si o clasa copil care mosteneste de la parinte toate atributele si metodele "
   ]
  },
  {
   "cell_type": "code",
   "execution_count": 69,
   "id": "99c7e274",
   "metadata": {},
   "outputs": [
    {
     "name": "stdout",
     "output_type": "stream",
     "text": [
      "Bird created\n",
      "Penguin created\n",
      "I am a penguin\n",
      "Pengu\n",
      "I am swimming\n",
      "I am flying\n",
      "Bird\n"
     ]
    }
   ],
   "source": [
    "class Bird: # clasa parinte\n",
    "    def __init__(self):\n",
    "        self.name = 'Birdy'\n",
    "        self.species = 'Bird'\n",
    "        print(\"Bird created\")\n",
    "        \n",
    "    def who_am_i(self):\n",
    "        print(\"I am a bird\")\n",
    "        \n",
    "    def fly(self):\n",
    "        print(\"I am flying\")\n",
    "\n",
    "        \n",
    "class Penguin(Bird):   # clasa copil care mosteneste de la clasa Bird\n",
    "    def __init__(self):\n",
    "        super().__init__()   # super e un keyword python care identifica clasa parinte\n",
    "#         Bird().__init__(self)\n",
    "        print(\"Penguin created\")\n",
    "        self.name = \"Pengu\"\n",
    "        \n",
    "    def who_am_i(self):    # se suprascrie who_am_i de la clasa parinte (de la Bird)\n",
    "        print(\"I am a penguin\")\n",
    "        \n",
    "    def swim(self):\n",
    "        print(\"I am swimming\")\n",
    "        \n",
    "pengu = Penguin()\n",
    "pengu.who_am_i()\n",
    "print(pengu.name)\n",
    "pengu.swim()\n",
    "pengu.fly()    # metoda mostenita, observam ca pinguinul are si metoda fly, chiar daca nu am definit`o explicit in clasa Penguin (o mostenteste)\n",
    "print(pengu.species)  # atribut mostenit\n"
   ]
  },
  {
   "cell_type": "code",
   "execution_count": 72,
   "id": "ef984a4b",
   "metadata": {},
   "outputs": [
    {
     "name": "stdout",
     "output_type": "stream",
     "text": [
      "Bird created\n",
      "Penguin created\n",
      "I am a penguin\n",
      "Pengu\n",
      "Bird\n",
      "I am swimming\n"
     ]
    },
    {
     "ename": "AttributeError",
     "evalue": "'Penguin' object has no attribute 'fly'",
     "output_type": "error",
     "traceback": [
      "\u001b[1;31m---------------------------------------------------------------------------\u001b[0m",
      "\u001b[1;31mAttributeError\u001b[0m                            Traceback (most recent call last)",
      "Cell \u001b[1;32mIn [72], line 41\u001b[0m\n\u001b[0;32m     39\u001b[0m \u001b[38;5;28mprint\u001b[39m(pengu\u001b[38;5;241m.\u001b[39mspecies)  \u001b[38;5;66;03m# atribut mostenit\u001b[39;00m\n\u001b[0;32m     40\u001b[0m pengu\u001b[38;5;241m.\u001b[39mswim()\n\u001b[1;32m---> 41\u001b[0m \u001b[43mpengu\u001b[49m\u001b[38;5;241;43m.\u001b[39;49m\u001b[43mfly\u001b[49m()\n",
      "\u001b[1;31mAttributeError\u001b[0m: 'Penguin' object has no attribute 'fly'"
     ]
    }
   ],
   "source": [
    "class BaseBird:\n",
    "    # doar metodele pe care vrei sa le mosteneasca\n",
    "    def __init__(self):\n",
    "        self.name = 'Birdy'\n",
    "        self.species = 'Bird'\n",
    "        print(\"Bird created\")\n",
    "        \n",
    "    def who_am_i(self):\n",
    "        print(\"I am a bird\")\n",
    "\n",
    "class FlyingBird(BaseBird):    # clasa parinte\n",
    "    def __init__(self):\n",
    "        self.name = 'Birdy'\n",
    "        self.species = 'Bird'\n",
    "        print(\"Bird created\")\n",
    "        \n",
    "    def who_am_i(self):\n",
    "        print(\"I am a bird\")\n",
    "        \n",
    "    def fly(self):\n",
    "        print(\"I am flying\")\n",
    "        \n",
    "class Penguin(BaseBird):   # clasa copil care mosteneste de la clasa Bird\n",
    "    def __init__(self):\n",
    "        super().__init__()   # super e un keyword python care identifica clasa parinte\n",
    "#         Bird().__init__(self)\n",
    "        print(\"Penguin created\")\n",
    "        self.name = \"Pengu\"\n",
    "        \n",
    "    def who_am_i(self):    # se suprascrie who_am_i de la clasa parinte (de la Bird)\n",
    "        print(\"I am a penguin\")\n",
    "        \n",
    "    def swim(self):\n",
    "        print(\"I am swimming\")\n",
    "        \n",
    "pengu = Penguin()\n",
    "pengu.who_am_i()\n",
    "print(pengu.name)\n",
    "print(pengu.species)  # atribut mostenit\n",
    "pengu.swim()\n",
    "pengu.fly()    # pinguin nu mai are fly, pentru ca nu mosteneste de la FlyingBird, ci de la Bird\n"
   ]
  },
  {
   "cell_type": "code",
   "execution_count": null,
   "id": "a8e81177",
   "metadata": {},
   "outputs": [],
   "source": []
  },
  {
   "cell_type": "code",
   "execution_count": 73,
   "id": "69228cf5",
   "metadata": {},
   "outputs": [],
   "source": [
    "# Polymorphism: abilitate OOP de a permite obiectelor sa ia mai multe forme prin crearea unei interfete comune mai multe clase"
   ]
  },
  {
   "cell_type": "code",
   "execution_count": 84,
   "id": "5a06a1e4",
   "metadata": {},
   "outputs": [
    {
     "name": "stdout",
     "output_type": "stream",
     "text": [
      "In Romania se vorbeste Limba romana\n",
      "In USA the spoken language is English\n"
     ]
    }
   ],
   "source": [
    "class Romania:\n",
    "    def language(self):\n",
    "        print(\"In Romania se vorbeste Limba romana\")\n",
    "        \n",
    "        \n",
    "class USA:\n",
    "    def language(self):\n",
    "        print(\"In USA the spoken language is English\")\n",
    "        \n",
    "ro = Romania() # ro - reprezinta variabila (aka obiectul)\n",
    "us = USA()\n",
    "\n",
    "# ro.language()\n",
    "# us.language()\n",
    "\n",
    "\n",
    "# interfata comuna\n",
    "def what_do_they_speak(country_obj):\n",
    "    country_obj.language()\n",
    "\n",
    "what_do_they_speak(ro)\n",
    "# what_do_they_speak(Romania())   # acelasi lucru cu linia precedenta\n",
    "\n",
    "\n",
    "what_do_they_speak(us)\n",
    "# what_do_they_speak(USA())\n",
    "\n",
    "# what_do_they_speak(\"Romania\")   # eroare, stringul nu are metoda language()\n"
   ]
  },
  {
   "cell_type": "code",
   "execution_count": null,
   "id": "843a1e17",
   "metadata": {},
   "outputs": [],
   "source": []
  },
  {
   "cell_type": "code",
   "execution_count": 87,
   "id": "c163ff54",
   "metadata": {},
   "outputs": [
    {
     "name": "stdout",
     "output_type": "stream",
     "text": [
      "The top speed is 240km/h\n",
      "Your object is a car\n",
      "The top speed is 250km/h\n",
      "Your object is a car\n"
     ]
    },
    {
     "ename": "TypeError",
     "evalue": "Can't instantiate abstract class BMW with abstract method top_speed",
     "output_type": "error",
     "traceback": [
      "\u001b[1;31m---------------------------------------------------------------------------\u001b[0m",
      "\u001b[1;31mTypeError\u001b[0m                                 Traceback (most recent call last)",
      "Cell \u001b[1;32mIn [87], line 39\u001b[0m\n\u001b[0;32m     36\u001b[0m tesla\u001b[38;5;241m.\u001b[39mtop_speed()\n\u001b[0;32m     37\u001b[0m tesla\u001b[38;5;241m.\u001b[39mdescription()\n\u001b[1;32m---> 39\u001b[0m bmw \u001b[38;5;241m=\u001b[39m \u001b[43mBMW\u001b[49m\u001b[43m(\u001b[49m\u001b[43m)\u001b[49m\n\u001b[0;32m     40\u001b[0m bmw\u001b[38;5;241m.\u001b[39mdescription()\n\u001b[0;32m     41\u001b[0m bmw\u001b[38;5;241m.\u001b[39mtop_speed()\n",
      "\u001b[1;31mTypeError\u001b[0m: Can't instantiate abstract class BMW with abstract method top_speed"
     ]
    }
   ],
   "source": [
    "# Abstraction: concept OOP prin care se ascunde fata de user functionalitatea interna a unei metode, oferindu`i doar informatia\n",
    "# despre CE face metoda, NU SI CUM o face\n",
    "from abc import ABC, abstractmethod\n",
    "\n",
    "class Car(ABC):  # clasa abstracta fiindca mosteneste de la ABC\n",
    "    # metoda normala\n",
    "    def description(self):\n",
    "        print(\"Your object is a car\")\n",
    "        \n",
    "    # metoda abstracta\n",
    "    @abstractmethod       # abstractizare, nu oferim implementarea metodei\n",
    "    def top_speed(self):  # fiecare clasa copil va trebui sa implementeze aceasta metoda\n",
    "#         pass \n",
    "        raise NotImplementedError\n",
    "    \n",
    "    \n",
    "class Dacia(Car):\n",
    "    def top_speed(self):\n",
    "        print(\"The top speed is 240km/h\")\n",
    "    \n",
    "    \n",
    "class Tesla(Car):\n",
    "    def top_speed(self):\n",
    "        print(\"The top speed is 250km/h\")\n",
    "        \n",
    "        \n",
    "class BMW(Car):\n",
    "    pass\n",
    "\n",
    "\n",
    "dacia = Dacia()\n",
    "dacia.top_speed()\n",
    "dacia.description()\n",
    "\n",
    "tesla = Tesla()\n",
    "tesla.top_speed()\n",
    "tesla.description()\n",
    "\n",
    "bmw = BMW()         # eroare, BMW nu implementeaza metoda abstracta top_speed\n",
    "bmw.description()   # aici nu mai ajunge exec codului\n",
    "bmw.top_speed()"
   ]
  },
  {
   "cell_type": "code",
   "execution_count": null,
   "id": "8375ba4f",
   "metadata": {},
   "outputs": [],
   "source": []
  },
  {
   "cell_type": "code",
   "execution_count": 88,
   "id": "dd7bf38a",
   "metadata": {},
   "outputs": [],
   "source": [
    "# Encapsulation: concept OOP prin care se ascunde accesul la date din exterior, modificare lor se permite doar\n",
    "# dintr`un singur loc din interiorul clasei, de obicei prin intermediul unei metode"
   ]
  },
  {
   "cell_type": "code",
   "execution_count": 23,
   "id": "342fff6e",
   "metadata": {},
   "outputs": [
    {
     "name": "stdout",
     "output_type": "stream",
     "text": [
      "1200\n",
      "2000\n",
      "1200\n",
      "1500\n"
     ]
    }
   ],
   "source": [
    "class Computer:\n",
    "    def __init__(self):\n",
    "        self.__price = 1200   # atribute private\n",
    "        \n",
    "    def get_price(self):\n",
    "        return self.__price\n",
    "    \n",
    "    def set_price(self, new_price):\n",
    "        self.__price = new_price\n",
    "        \n",
    "\n",
    "\n",
    "my_computer = Computer()\n",
    "# print(my_computer.price)   # eroare, __price e awtribut privat, nu avem acces la el\n",
    "# print(my_computer.__price)\n",
    "\n",
    "print(my_computer.get_price())\n",
    "\n",
    "my_computer.__price = 2000   # practic isi creeaza un nou atribut specific obiectului my_computer (nu clasei) __price cu valoare 2000\n",
    "print(my_computer.__price)\n",
    "\n",
    "print(my_computer.get_price())  # atributul private din interiorul clasei are aceeasi valoare nemodificata 1200\n",
    "\n",
    "\n",
    "my_computer.set_price(1500)\n",
    "print(my_computer.get_price())"
   ]
  },
  {
   "cell_type": "code",
   "execution_count": 18,
   "id": "d3883049",
   "metadata": {},
   "outputs": [
    {
     "name": "stdout",
     "output_type": "stream",
     "text": [
      "11\n",
      "6\n"
     ]
    }
   ],
   "source": [
    "x = 6      # x variabila globala\n",
    "def f(x):  \n",
    "    x += 1    # x variabila locala\n",
    "    return x\n",
    "\n",
    "print(f(10))\n",
    "print(x)"
   ]
  },
  {
   "cell_type": "code",
   "execution_count": 29,
   "id": "b71bfbfe",
   "metadata": {},
   "outputs": [
    {
     "name": "stdout",
     "output_type": "stream",
     "text": [
      "verde\n",
      "albastru\n"
     ]
    },
    {
     "ename": "AttributeError",
     "evalue": "'Car' object has no attribute '_Car__color'",
     "output_type": "error",
     "traceback": [
      "\u001b[1;31m---------------------------------------------------------------------------\u001b[0m",
      "\u001b[1;31mAttributeError\u001b[0m                            Traceback (most recent call last)",
      "Cell \u001b[1;32mIn [29], line 23\u001b[0m\n\u001b[0;32m     21\u001b[0m \u001b[38;5;28mprint\u001b[39m(my_car\u001b[38;5;241m.\u001b[39mcolor)\n\u001b[0;32m     22\u001b[0m \u001b[38;5;28;01mdel\u001b[39;00m my_car\u001b[38;5;241m.\u001b[39mcolor\n\u001b[1;32m---> 23\u001b[0m \u001b[38;5;28mprint\u001b[39m(\u001b[43mmy_car\u001b[49m\u001b[38;5;241;43m.\u001b[39;49m\u001b[43mcolor\u001b[49m)\n",
      "Cell \u001b[1;32mIn [29], line 7\u001b[0m, in \u001b[0;36mCar.color\u001b[1;34m(self)\u001b[0m\n\u001b[0;32m      5\u001b[0m \u001b[38;5;129m@property\u001b[39m\n\u001b[0;32m      6\u001b[0m \u001b[38;5;28;01mdef\u001b[39;00m \u001b[38;5;21mcolor\u001b[39m(\u001b[38;5;28mself\u001b[39m):\n\u001b[1;32m----> 7\u001b[0m     \u001b[38;5;28;01mreturn\u001b[39;00m \u001b[38;5;28;43mself\u001b[39;49m\u001b[38;5;241;43m.\u001b[39;49m\u001b[43m__color\u001b[49m\n",
      "\u001b[1;31mAttributeError\u001b[0m: 'Car' object has no attribute '_Car__color'"
     ]
    }
   ],
   "source": [
    "class Car:\n",
    "    def __init__(self, color):\n",
    "        self.__color = color\n",
    "        \n",
    "    @property\n",
    "    def color(self):\n",
    "        return self.__color\n",
    "    \n",
    "    @color.setter\n",
    "    def color(self, new_color):\n",
    "        self.__color = new_color\n",
    "        \n",
    "    @color.deleter\n",
    "    def color(self):\n",
    "        del self.__color\n",
    "        \n",
    "        \n",
    "my_car = Car(\"verde\")\n",
    "print(my_car.color)\n",
    "my_car.color = \"albastru\"\n",
    "print(my_car.color)\n",
    "del my_car.color\n",
    "print(my_car.color)"
   ]
  },
  {
   "cell_type": "code",
   "execution_count": 30,
   "id": "395e7b1a",
   "metadata": {},
   "outputs": [
    {
     "data": {
      "text/plain": [
       "{'b': 2}"
      ]
     },
     "execution_count": 30,
     "metadata": {},
     "output_type": "execute_result"
    }
   ],
   "source": [
    "d = {'a': 1, 'b': 2}\n",
    "del d['a']\n",
    "d"
   ]
  },
  {
   "cell_type": "code",
   "execution_count": 31,
   "id": "62ef2bfc",
   "metadata": {},
   "outputs": [
    {
     "data": {
      "text/plain": [
       "[1, 3, 4]"
      ]
     },
     "execution_count": 31,
     "metadata": {},
     "output_type": "execute_result"
    }
   ],
   "source": [
    "lst = [1,2,3,4]\n",
    "del lst[1]\n",
    "lst"
   ]
  },
  {
   "cell_type": "code",
   "execution_count": 35,
   "id": "111f8c4f",
   "metadata": {},
   "outputs": [
    {
     "name": "stdout",
     "output_type": "stream",
     "text": [
      "2022\n",
      "2021\n"
     ]
    }
   ],
   "source": [
    "class Car:\n",
    "    def __init__(self):\n",
    "        self.__color = \"Alb\"     # variabila private \n",
    "        self._fabricatie = 2022  # variabila protected\n",
    "    \n",
    "    def _protected_metoda(self):\n",
    "        print('Doing Something')\n",
    "\n",
    "# variabilele/atributele protected, spre deosebire de cele private, pot fi accesate din afara clasei, dar conventia e sa nu...\n",
    "\n",
    "my_car = Car()\n",
    "print(my_car._fabricatie)\n",
    "# print(my_car.__color)\n",
    "my_car._fabricatie = 2021\n",
    "print(my_car._fabricatie)\n"
   ]
  },
  {
   "cell_type": "code",
   "execution_count": 36,
   "id": "bf4b7fae",
   "metadata": {},
   "outputs": [
    {
     "ename": "AttributeError",
     "evalue": "'MyClass' object has no attribute '__hidden'",
     "output_type": "error",
     "traceback": [
      "\u001b[1;31m---------------------------------------------------------------------------\u001b[0m",
      "\u001b[1;31mAttributeError\u001b[0m                            Traceback (most recent call last)",
      "Cell \u001b[1;32mIn [36], line 9\u001b[0m\n\u001b[0;32m      5\u001b[0m         \u001b[38;5;28mprint\u001b[39m(\u001b[38;5;124m\"\u001b[39m\u001b[38;5;124mI am hidden\u001b[39m\u001b[38;5;124m\"\u001b[39m)   \u001b[38;5;66;03m# pe care nu le putem apela din afara clasei\u001b[39;00m\n\u001b[0;32m      8\u001b[0m my_obj \u001b[38;5;241m=\u001b[39m MyClass()\n\u001b[1;32m----> 9\u001b[0m \u001b[43mmy_obj\u001b[49m\u001b[38;5;241;43m.\u001b[39;49m\u001b[43m__hidden\u001b[49m()\n",
      "\u001b[1;31mAttributeError\u001b[0m: 'MyClass' object has no attribute '__hidden'"
     ]
    }
   ],
   "source": [
    "# ! Am uitat de metode private :) \n",
    "class MyClass:\n",
    "     \n",
    "    def __hidden(self):        # putem avea si metode private\n",
    "        print(\"I am hidden\")   # pe care nu le putem apela din afara clasei\n",
    "        \n",
    "        \n",
    "my_obj = MyClass()\n",
    "my_obj.__hidden()"
   ]
  },
  {
   "cell_type": "code",
   "execution_count": 37,
   "id": "f6ed09b3",
   "metadata": {},
   "outputs": [
    {
     "name": "stdout",
     "output_type": "stream",
     "text": [
      "I am hidden\n"
     ]
    }
   ],
   "source": [
    "# daca vrem sa le apelam, ne trebuie o metoda in interiorul clasei, care sa apeleze metoda private\n",
    "class MyClass:\n",
    "     \n",
    "    def __hidden(self):        # putem avea si metode private\n",
    "        print(\"I am hidden\")   # pe care nu le putem apela din afara clasei\n",
    "        \n",
    "    def call_hidden(self):\n",
    "        self.__hidden()\n",
    "        \n",
    "my_obj = MyClass()\n",
    "my_obj.call_hidden()"
   ]
  },
  {
   "cell_type": "code",
   "execution_count": null,
   "id": "6d0508c2",
   "metadata": {},
   "outputs": [],
   "source": []
  }
 ],
 "metadata": {
  "kernelspec": {
   "display_name": "Python 3 (ipykernel)",
   "language": "python",
   "name": "python3"
  },
  "language_info": {
   "codemirror_mode": {
    "name": "ipython",
    "version": 3
   },
   "file_extension": ".py",
   "mimetype": "text/x-python",
   "name": "python",
   "nbconvert_exporter": "python",
   "pygments_lexer": "ipython3",
   "version": "3.9.13"
  }
 },
 "nbformat": 4,
 "nbformat_minor": 5
}
