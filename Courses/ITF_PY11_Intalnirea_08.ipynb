{
 "cells": [
  {
   "cell_type": "code",
   "execution_count": 103,
   "id": "af21f63c",
   "metadata": {},
   "outputs": [
    {
     "data": {
      "text/plain": [
       "'Razvan'"
      ]
     },
     "execution_count": 103,
     "metadata": {},
     "output_type": "execute_result"
    }
   ],
   "source": [
    "import random\n",
    "choices_initial = [\"Catalin\", \"Bogdan\", \"Florin\", \"Razvan\", \"Stefan\", \"Roxana\"]\n",
    "choices = [\"Catalin\", \"Bogdan\", \"Florin\", \"Razvan\", \"Stefan\", \"Roxana\"]\n",
    "\n",
    "\n",
    "random.choice(choices)"
   ]
  },
  {
   "cell_type": "markdown",
   "id": "4247f62b",
   "metadata": {},
   "source": [
    "# Recap"
   ]
  },
  {
   "cell_type": "code",
   "execution_count": 7,
   "id": "c652f9b4",
   "metadata": {},
   "outputs": [
    {
     "name": "stdout",
     "output_type": "stream",
     "text": [
      "Hello\n",
      "World\n",
      "['Hello', 'World']\n"
     ]
    }
   ],
   "source": [
    "# Recap15: Given the string hello = \"Hello, World!\", what should we write to get the 2 words \n",
    "# separated in a list like this [\"Hello\", \"World\"]?\n",
    "hello = \"Hello, World!\"\n",
    "#        0123456789...\n",
    "\n",
    "# Sa imi afiseze doar \"Hello\", cum as face?\n",
    "print(hello[0:5])\n",
    "# si pt \"World\"\n",
    "print(hello[7:-1])\n",
    "\n",
    "\n",
    "lst = [hello[0:5], hello[7:-1]]\n",
    "print(lst)"
   ]
  },
  {
   "cell_type": "code",
   "execution_count": 9,
   "id": "30872385",
   "metadata": {},
   "outputs": [
    {
     "data": {
      "text/plain": [
       "5"
      ]
     },
     "execution_count": 9,
     "metadata": {},
     "output_type": "execute_result"
    }
   ],
   "source": [
    "hello = \"Salut, Catalin!\"\n",
    "#        012345678\n",
    "# [\"Salut\", \"Catalin\"]\n",
    "\n",
    "\n",
    "hello.index(',')"
   ]
  },
  {
   "cell_type": "code",
   "execution_count": 12,
   "id": "bb10203b",
   "metadata": {},
   "outputs": [
    {
     "name": "stdout",
     "output_type": "stream",
     "text": [
      "['Salut', 'Catalin!', 'Buna-seara']\n"
     ]
    }
   ],
   "source": [
    "hello = \"Salut, Catalin!, Buna-seara\"\n",
    "\n",
    "lst = hello.split(', ')\n",
    "print(lst)"
   ]
  },
  {
   "cell_type": "code",
   "execution_count": 11,
   "id": "30d8de2d",
   "metadata": {},
   "outputs": [],
   "source": [
    "str.split?"
   ]
  },
  {
   "cell_type": "code",
   "execution_count": 29,
   "id": "126865bf",
   "metadata": {},
   "outputs": [
    {
     "name": "stdout",
     "output_type": "stream",
     "text": [
      "False\n",
      "Hello, World\n",
      "['Hello', 'World']\n"
     ]
    }
   ],
   "source": [
    "hello = \"Hello, World!\"\n",
    "# Daca ultimul caracter e semn de punctuatie, vrem sa il scoatem din stringul hello\n",
    "\n",
    "# v1 - verificand ultimul caracter sa fie semn de punctuatie cu isalpha\n",
    "print(hello[-1].isalpha())  # isalpha returneaza True daca stringul contine doar litere\n",
    "if not hello[-1].isalpha():\n",
    "    hello = hello[:-1]\n",
    "print(hello)\n",
    "\n",
    "lst = hello.split(', ')   # split se asteapta ca intre ghilimele sa fie exact succesiunea de caractere din string dupa care se face separarea\n",
    "print(lst)\n"
   ]
  },
  {
   "cell_type": "code",
   "execution_count": 25,
   "id": "fcae86c5",
   "metadata": {},
   "outputs": [
    {
     "name": "stdout",
     "output_type": "stream",
     "text": [
      "HelloWorld\n",
      "['HelloWorld']\n"
     ]
    }
   ],
   "source": [
    "s = \"\"\n",
    "for character in hello:\n",
    "    if character.isalnum():\n",
    "        s+=character\n",
    "print(s)\n",
    "print(s.split(', '))\n"
   ]
  },
  {
   "cell_type": "code",
   "execution_count": 20,
   "id": "9d2854d7",
   "metadata": {},
   "outputs": [
    {
     "data": {
      "text/plain": [
       "True"
      ]
     },
     "execution_count": 20,
     "metadata": {},
     "output_type": "execute_result"
    }
   ],
   "source": [
    "'H'.isalnum()"
   ]
  },
  {
   "cell_type": "code",
   "execution_count": 30,
   "id": "43e15dd6",
   "metadata": {},
   "outputs": [
    {
     "data": {
      "text/plain": [
       "False"
      ]
     },
     "execution_count": 30,
     "metadata": {},
     "output_type": "execute_result"
    }
   ],
   "source": [
    "','.isalnum()"
   ]
  },
  {
   "cell_type": "code",
   "execution_count": 36,
   "id": "f692aa56",
   "metadata": {},
   "outputs": [
    {
     "name": "stdout",
     "output_type": "stream",
     "text": [
      "Hello, World\n",
      "['Hello', 'World']\n",
      "['Hello', 'World']\n"
     ]
    }
   ],
   "source": [
    "# v2 - folosind replace\n",
    "hello = \"Hello, World!\"\n",
    "\n",
    "for char in hello:\n",
    "    # vrem ca char sa fie litera fie virgula fie spatiu\n",
    "    if not char.isalpha() and char != ' ' and char != ',':\n",
    "        hello = hello.replace(char, \"\")\n",
    "        \n",
    "print(hello)\n",
    "print(hello.split(', '))\n",
    "\n",
    "\n",
    "# v3 - similar cu v2 doar ca ne cream un nou string doar cu litere, virgula si spatii\n",
    "hello = \"Hello, World!\"\n",
    "s = \"\"\n",
    "for char in hello:\n",
    "    if char.isalpha() or char in (',', ' '):\n",
    "        s += char\n",
    "        \n",
    "print(s.split(', '))"
   ]
  },
  {
   "cell_type": "code",
   "execution_count": 32,
   "id": "d5f1788c",
   "metadata": {},
   "outputs": [
    {
     "name": "stdout",
     "output_type": "stream",
     "text": [
      "Hello, World\n"
     ]
    }
   ],
   "source": [
    "hello = \"Hello,?! World!\"\n",
    "\n",
    "hello = hello.replace(\"?\", \"\")\n",
    "hello = hello.replace(\"!\", \"\")\n",
    "print(hello)"
   ]
  },
  {
   "cell_type": "code",
   "execution_count": 43,
   "id": "678b1a6c",
   "metadata": {},
   "outputs": [
    {
     "data": {
      "text/plain": [
       "['Hello', 'World']"
      ]
     },
     "execution_count": 43,
     "metadata": {},
     "output_type": "execute_result"
    }
   ],
   "source": [
    "# v4\n",
    "hello = \"!Hello, World!?!!\"\n",
    "\n",
    "hello.strip(\"!.?\").split(', ')"
   ]
  },
  {
   "cell_type": "code",
   "execution_count": 44,
   "id": "57cbbf9b",
   "metadata": {},
   "outputs": [
    {
     "data": {
      "text/plain": [
       "'!Hello, World'"
      ]
     },
     "execution_count": 44,
     "metadata": {},
     "output_type": "execute_result"
    }
   ],
   "source": [
    "hello = \"!Hello, World!?!!\"\n",
    "\n",
    "hello.rstrip(\"!?\")"
   ]
  },
  {
   "cell_type": "code",
   "execution_count": 45,
   "id": "b1d7b7f1",
   "metadata": {},
   "outputs": [
    {
     "data": {
      "text/plain": [
       "'Hello, World!?!!'"
      ]
     },
     "execution_count": 45,
     "metadata": {},
     "output_type": "execute_result"
    }
   ],
   "source": [
    "hello = \"!Hello, World!?!!\"\n",
    "\n",
    "hello.lstrip('?!')"
   ]
  },
  {
   "cell_type": "code",
   "execution_count": 46,
   "id": "4963993b",
   "metadata": {},
   "outputs": [
    {
     "name": "stdout",
     "output_type": "stream",
     "text": [
      "['salut', 'buna', 'ciao', 'ola', 'greetings']\n"
     ]
    }
   ],
   "source": [
    "s = 'salut,buna,ciao,ola,greetings'\n",
    "\n",
    "print(s.split(','))"
   ]
  },
  {
   "cell_type": "code",
   "execution_count": 59,
   "id": "e7e0ab3d",
   "metadata": {},
   "outputs": [
    {
     "name": "stdout",
     "output_type": "stream",
     "text": [
      "one-two-three-four\n",
      "one-two-three-four\n",
      "one, two, three, four\n"
     ]
    }
   ],
   "source": [
    "# Recap16: Given the list lst = [\"one\", \"two\", \"three\"] what should we write to get the string \"one-two-three\"??\n",
    "\n",
    "lst = [\"one\", \"two\", \"three\", \"four\"]\n",
    "# str(lst)\n",
    "\n",
    "# v1 - cu for\n",
    "my_string = \"\"\n",
    "\n",
    "for word in lst:\n",
    "    my_string += word + \"-\"\n",
    "    \n",
    "my_string = my_string.rstrip(\"-\")  # sau ...\n",
    "# my_string = my_string[:-1]\n",
    "print(my_string)\n",
    "\n",
    "\n",
    "# v2 - one-liner cu join\n",
    "print(\"-\".join(lst))\n",
    "print(\", \".join(lst)) # str.join(lst) va adauga str intre fiecare element din lst"
   ]
  },
  {
   "cell_type": "code",
   "execution_count": 55,
   "id": "dcc77fc9",
   "metadata": {},
   "outputs": [
    {
     "data": {
      "text/plain": [
       "'one-two-three-four'"
      ]
     },
     "execution_count": 55,
     "metadata": {},
     "output_type": "execute_result"
    }
   ],
   "source": [
    "s = \"one-two-three-four-\"\n",
    "\n",
    "s.rstrip(\"-\")"
   ]
  },
  {
   "cell_type": "code",
   "execution_count": 70,
   "id": "231a1d5d",
   "metadata": {},
   "outputs": [
    {
     "data": {
      "text/plain": [
       "{'materie': 'Python',\n",
       " 5: 'cinci',\n",
       " 5.5: 'sase',\n",
       " (1, 2, 3): 'tupla?',\n",
       " True: ['adevarat', 'false']}"
      ]
     },
     "execution_count": 70,
     "metadata": {},
     "output_type": "execute_result"
    }
   ],
   "source": [
    "# Recap17: Give us 3 examples of data types that can be used as key in a dictionary and 1 that cannot be used.\n",
    "\n",
    "# key in dict: str, int, float, boolean\n",
    "# nu paote fi key in dict: list, dict, set\n",
    "\n",
    "my_dict = {\n",
    "    \"materie\": \"Python\",\n",
    "    5: \"cinci\",\n",
    "    5.5: \"sase\",\n",
    "    (1,2,3): \"tupla?\",\n",
    "#     [1,2,3]: \"lista?\"  #  nu, fiindca lista e mutabila (odata creata, se poate modifica), nici dict, nici set\n",
    "    True: [\"adevarat\", \"false\"]  # date mutabile pe post de valoare putem avea:)\n",
    "}\n",
    "\n",
    "my_dict"
   ]
  },
  {
   "cell_type": "code",
   "execution_count": 73,
   "id": "759623ba",
   "metadata": {},
   "outputs": [
    {
     "name": "stdout",
     "output_type": "stream",
     "text": [
      "(11, 22)\n",
      "<class 'tuple'>\n"
     ]
    }
   ],
   "source": [
    "# Recap18: What will the following code return?\n",
    "def func(a, b=22):\n",
    "    return a, b  # a, 22\n",
    "\n",
    "t = func(11)   # totdeauna cand returnam mai multe valori dintr`o functie si vrem sa le incarcam intr`o singura variabila, aceasta va fi tupla (tuple unpacking)\n",
    "print(t)       # 11, 22 \n",
    "print(type(t)) "
   ]
  },
  {
   "cell_type": "code",
   "execution_count": 76,
   "id": "0d83981c",
   "metadata": {},
   "outputs": [
    {
     "name": "stdout",
     "output_type": "stream",
     "text": [
      "55\n",
      "<class 'int'>\n"
     ]
    }
   ],
   "source": [
    "x,y = func(55, 66)\n",
    "print(x)\n",
    "print(type(x))\n"
   ]
  },
  {
   "cell_type": "code",
   "execution_count": 81,
   "id": "477254c5",
   "metadata": {},
   "outputs": [
    {
     "name": "stdout",
     "output_type": "stream",
     "text": [
      "55 10\n",
      "55 10\n",
      "2 3\n",
      "3 5\n"
     ]
    }
   ],
   "source": [
    "x = 10\n",
    "y = 55\n",
    "# Vreau sa le interschimb valorile celor 2 variabile, x sa devina 55, iar y 10\n",
    "\n",
    "# metoda clasica din programare\n",
    "aux = x \n",
    "x = y\n",
    "y = aux\n",
    "print(x, y)\n",
    "\n",
    "# metoda python\n",
    "x = 10\n",
    "y = 55\n",
    "x, y = y, x  # se face tuple unpacking\n",
    "print(x, y)\n",
    "\n",
    "\n",
    "# Sirul lui Fibonaci 0,1,1,2,3,5....\n",
    "x = 1\n",
    "y = 2\n",
    "x, y = y, x+y\n",
    "print(x,y)\n",
    "x, y = y, x+y\n",
    "print(x,y)\n"
   ]
  },
  {
   "cell_type": "code",
   "execution_count": 92,
   "id": "0c9ae5d4",
   "metadata": {},
   "outputs": [
    {
     "name": "stdout",
     "output_type": "stream",
     "text": [
      "[25, 15, 5]\n"
     ]
    }
   ],
   "source": [
    "# Recap19: What will the following code print?\n",
    "lst = [5, 10, 15, 20, 25]\n",
    "print(lst[::-2])          # slicing str[start_index:end_index:pas] , pas reprez din cat in cati indecsi sa sara\n",
    "# daca nu avem start_index si end_index, slice-ul incepe de la inceput si merge pana la sfarsit "
   ]
  },
  {
   "cell_type": "code",
   "execution_count": 85,
   "id": "2925637f",
   "metadata": {},
   "outputs": [
    {
     "data": {
      "text/plain": [
       "'ello'"
      ]
     },
     "execution_count": 85,
     "metadata": {},
     "output_type": "execute_result"
    }
   ],
   "source": [
    "s = \"hello\"\n",
    "s[-4:]  # daca indecsi, se incepe de la sfarsit"
   ]
  },
  {
   "cell_type": "code",
   "execution_count": 87,
   "id": "18154d70",
   "metadata": {},
   "outputs": [
    {
     "data": {
      "text/plain": [
       "'olleh'"
      ]
     },
     "execution_count": 87,
     "metadata": {},
     "output_type": "execute_result"
    }
   ],
   "source": [
    "s[::-1]"
   ]
  },
  {
   "cell_type": "code",
   "execution_count": 95,
   "id": "50a66539",
   "metadata": {},
   "outputs": [
    {
     "data": {
      "text/plain": [
       "'olh'"
      ]
     },
     "execution_count": 95,
     "metadata": {},
     "output_type": "execute_result"
    }
   ],
   "source": [
    "s[::-2] "
   ]
  },
  {
   "cell_type": "code",
   "execution_count": 98,
   "id": "9afb15d0",
   "metadata": {},
   "outputs": [
    {
     "name": "stdout",
     "output_type": "stream",
     "text": [
      "[5, 10, 15]\n",
      "[25, 15, 5]\n",
      "[20, 10]\n",
      "[20]\n"
     ]
    }
   ],
   "source": [
    "lst = [5, 10, 15, 20, 25]\n",
    "#      0   1   2   3\n",
    "print(lst[0:3])  # end_index nu e inclus, adica nu afiseaza si 10 (indexul 3)\n",
    "print(lst[::-2]) \n",
    "print(lst[-2::-2]) \n",
    "print(lst[-2:1:-2])   # la fel end_index nu e inclus, nu afiseaza 10 (indexul 1)"
   ]
  },
  {
   "cell_type": "code",
   "execution_count": null,
   "id": "553940df",
   "metadata": {},
   "outputs": [],
   "source": []
  },
  {
   "cell_type": "markdown",
   "id": "e8ce5ee0",
   "metadata": {},
   "source": [
    "# Testing"
   ]
  },
  {
   "cell_type": "code",
   "execution_count": null,
   "id": "a0a7af90",
   "metadata": {},
   "outputs": [],
   "source": [
    "# testele sunt functii care se asigura ca functiile/clasele noi implementate sa aiba functionalitatea asteptata"
   ]
  },
  {
   "cell_type": "code",
   "execution_count": 110,
   "id": "4eda03e2",
   "metadata": {},
   "outputs": [
    {
     "name": "stdout",
     "output_type": "stream",
     "text": [
      "True\n"
     ]
    }
   ],
   "source": [
    "def sum_2(a,b):\n",
    "    return a+b\n",
    "\n",
    "\n",
    "rez = sum_2(5,6)  # ma astept sa fie 11\n",
    "print(rez == 11)\n",
    "# sau \n",
    "assert rez == 11 # da eroare daca rez nu e 11"
   ]
  },
  {
   "cell_type": "code",
   "execution_count": 111,
   "id": "aba5bff5",
   "metadata": {},
   "outputs": [
    {
     "ename": "AssertionError",
     "evalue": "",
     "output_type": "error",
     "traceback": [
      "\u001b[1;31m---------------------------------------------------------------------------\u001b[0m",
      "\u001b[1;31mAssertionError\u001b[0m                            Traceback (most recent call last)",
      "Cell \u001b[1;32mIn [111], line 1\u001b[0m\n\u001b[1;32m----> 1\u001b[0m \u001b[38;5;28;01massert\u001b[39;00m rez \u001b[38;5;241m==\u001b[39m \u001b[38;5;241m12\u001b[39m\n",
      "\u001b[1;31mAssertionError\u001b[0m: "
     ]
    }
   ],
   "source": [
    "assert rez == 12"
   ]
  },
  {
   "cell_type": "code",
   "execution_count": null,
   "id": "2e29a0f9",
   "metadata": {},
   "outputs": [],
   "source": []
  },
  {
   "cell_type": "code",
   "execution_count": 107,
   "id": "93fe7dc0",
   "metadata": {},
   "outputs": [
    {
     "name": "stdout",
     "output_type": "stream",
     "text": [
      "['Python', 'nostru']\n"
     ]
    }
   ],
   "source": [
    "# C08_EX01: a) Scrieti o functie care primeste o lista de stringuri si returneaza lista formata din acele stringuri care contin 'o'\n",
    "def sublist_containing_o(lst):\n",
    "    new_list=[]\n",
    "    for x in lst:\n",
    "        if 'o' in x:\n",
    "            new_list.append(x)\n",
    "    return new_list\n",
    "\n",
    "\n",
    "print(sublist_containing_o([\"Python\", \"este\", \"limbajul\", \"nostru\", \"preferat\"]))  # [\"Python\", \"nostru\"]"
   ]
  },
  {
   "cell_type": "code",
   "execution_count": 105,
   "id": "c37b1e6e",
   "metadata": {},
   "outputs": [],
   "source": [
    "# b) Scrieti teste unitare pentru functia sublist_containing_o. \n",
    "# Pentru asta, creati-va 2 fisiere: \n",
    "# - unul numit functions_curs09.py in care sa puneti implementarea functiei\n",
    "# - unul numit test_functions_curs09.py in care sa adaugati unitteste pentru functia sublist_containing_o"
   ]
  },
  {
   "cell_type": "code",
   "execution_count": null,
   "id": "223e3ea7",
   "metadata": {},
   "outputs": [],
   "source": []
  },
  {
   "cell_type": "code",
   "execution_count": 108,
   "id": "f73cce22",
   "metadata": {},
   "outputs": [],
   "source": [
    "# C08_EX02: Pe baza filosofiei TDD (Test Driven Development),\n",
    "# scrieti test in timp ce implementati o functie care primeste un string si calculeaza numarul de caractere lowercase si \n",
    "# numarul de caractere uppercase\n",
    "def upper_lower_case(the_string):\n",
    "    # \"Buna seara, ROMANIA\"\n",
    "    upper_lower = {\"upper\": 0, \"lower\": 0}\n",
    "    # counter_upper = 0\n",
    "    for character in the_string:\n",
    "        if character.isupper():\n",
    "            upper_lower[\"upper\"] += 1\n",
    "        elif character.islower():\n",
    "            upper_lower[\"lower\"] += 1\n",
    "\n",
    "    return upper_lower\n",
    "    \n",
    "print(upper_lower_case(\"Hello Pythonistas\")) => {\"upper\": 2, \"lower\": 14}"
   ]
  },
  {
   "cell_type": "code",
   "execution_count": null,
   "id": "ebbda8ac",
   "metadata": {},
   "outputs": [],
   "source": []
  },
  {
   "cell_type": "code",
   "execution_count": null,
   "id": "02444a09",
   "metadata": {},
   "outputs": [],
   "source": [
    "######################################\n",
    "# Continut fisier functions_curs09.py:\n",
    "######################################\n",
    "\n",
    "def sublist_containing_o(lst):\n",
    "    new_list=[]\n",
    "    for x in lst:\n",
    "        if 'o' in x:\n",
    "            new_list.append(x)\n",
    "    return new_list\n",
    "\n",
    "# PAS 1: \n",
    "# def upper_lower_case(the_string): \n",
    "#     pass\n",
    "\n",
    "# PAS 2: ne asiguram ca trece primul test (assert)\n",
    "# def upper_lower_case(the_string):\n",
    "#     # self.assertIsInstance(actual_result, dict)\n",
    "#     return {} \n",
    "\n",
    "# PAS 3: refactorizam, asigurandu`ne ca trec toate asserturile\n",
    "# def upper_lower_case(the_string):\n",
    "#     return {\"upper\": 2, \"lower\": 14}\n",
    "\n",
    "\n",
    "# PAS 4: refactorizam codul sa functioneze la modul general\n",
    "def upper_lower_case(the_string):\n",
    "    # \"Buna seara, ROMANIA\"\n",
    "    upper_lower = {\"upper\": 0, \"lower\": 0}\n",
    "    # counter_upper = 0\n",
    "    for character in the_string:\n",
    "        if character.isupper():\n",
    "            upper_lower[\"upper\"] += 1\n",
    "        elif character.islower():\n",
    "            upper_lower[\"lower\"] += 1\n",
    "\n",
    "    return upper_lower\n"
   ]
  },
  {
   "cell_type": "code",
   "execution_count": null,
   "id": "27c514b5",
   "metadata": {},
   "outputs": [],
   "source": [
    "###########################################\n",
    "# Continut fisier test_functions_curs09.py:\n",
    "###########################################\n",
    "\n",
    "# 1.\n",
    "# import math\n",
    "# import random\n",
    "import unittest\n",
    "\n",
    "# 2.\n",
    "# (necesita in prealabil: pip install pandas)\n",
    "# import pandas\n",
    "\n",
    "# 3.\n",
    "from functions_curs09 import sublist_containing_o, upper_lower_case\n",
    "\n",
    "# ordinea importurilor in modulele python este urmatoarea\n",
    "# 1. importuri de module din libraria standard\n",
    "# 2. importuri de module/librarii externe\n",
    "# 3. importuri de module/pachete locale (scrise de noi)\n",
    "# (pachete = directoare care contin un fisier __init__.py) \n",
    "\n",
    "\n",
    "# print(sublist_containing_o([\"Python\", \"este\", \"limbajul\", \"nostru\", \"preferat\"]))  # [\"Python\", \"nostru\"]\n",
    "class FunctionsTestCase(unittest.TestCase):\n",
    "    def test_sublist_containing_o(self):\n",
    "        # Vrem sa testam ca functia apelata cu [\"Python\", \"este\", \"limbajul\", \"nostru\", \"preferat\"]  (datele de intrare)\n",
    "        # returneaza [\"Python\", \"nostru\"]  (datele de iesire la care ne asteptam)\n",
    "        \n",
    "        expected_result = [\"Python\", \"nostru\"]   # ce ne asteptam sa returneze functia\n",
    "\n",
    "        actual_result = sublist_containing_o([\"Python\", \"este\", \"limbajul\", \"nostru\", \"preferat\"])  # ce returneaza cu adevarat functia\n",
    "\n",
    "        # Comparam rezultatul asteptat cu cel obtinut prin apelul functiei, si ne asiguram ca cele 2 sunt egale\n",
    "        self.assertIsInstance(actual_result, list)\n",
    "        self.assertEqual(expected_result, actual_result)  # o sa arunce o eroare daca nu se indeplineste\n",
    "\n",
    "\n",
    "    def test_upper_lower_case_01(self):\n",
    "        test_string = \"Hello Pythonistas\"\n",
    "        expected_result = {\"upper\": 2, \"lower\": 14}\n",
    "\n",
    "        actual_result = upper_lower_case(test_string) # ne asteptam ca inainte sa implementam functia cu adevara actual_result sa fie None\n",
    "        self.assertIsInstance(actual_result, dict)\n",
    "        self.assertEqual(actual_result, expected_result)\n",
    "\n",
    "\n",
    "    def test_upper_lower_case_02(self):\n",
    "        test_string = \"Buna seara, ROMANIA\"\n",
    "        expected_result = {\"upper\": 8, \"lower\": 8}\n",
    "\n",
    "        actual_result = upper_lower_case(test_string) # ne asteptam ca inainte sa implementam functia cu adevara actual_result sa fie None\n",
    "        self.assertIsInstance(actual_result, dict)\n",
    "        self.assertEqual(actual_result, expected_result)\n",
    "\n",
    "\n",
    "if __name__ == '__main__':   # asta e prima linie de cod (dupa importuri) pe care o citeste python-ul in momentul in care rulam scriptul \n",
    "    unittest.main()          # asa se lanseaza in executie testele"
   ]
  }
 ],
 "metadata": {
  "kernelspec": {
   "display_name": "Python 3 (ipykernel)",
   "language": "python",
   "name": "python3"
  },
  "language_info": {
   "codemirror_mode": {
    "name": "ipython",
    "version": 3
   },
   "file_extension": ".py",
   "mimetype": "text/x-python",
   "name": "python",
   "nbconvert_exporter": "python",
   "pygments_lexer": "ipython3",
   "version": "3.9.13"
  }
 },
 "nbformat": 4,
 "nbformat_minor": 5
}
