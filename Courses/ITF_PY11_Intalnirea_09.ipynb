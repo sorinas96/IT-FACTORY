{
 "cells": [
  {
   "cell_type": "code",
   "execution_count": 4,
   "id": "ef30094f",
   "metadata": {},
   "outputs": [
    {
     "data": {
      "text/plain": [
       "0"
      ]
     },
     "execution_count": 4,
     "metadata": {},
     "output_type": "execute_result"
    }
   ],
   "source": [
    "int(False)"
   ]
  },
  {
   "cell_type": "markdown",
   "id": "e514428f",
   "metadata": {},
   "source": [
    "# Fisiere text"
   ]
  },
  {
   "cell_type": "code",
   "execution_count": 5,
   "id": "7f3a8826",
   "metadata": {},
   "outputs": [],
   "source": [
    "# fisierele text sunt niste documente obisnuite de pe calculatoare care contin text "
   ]
  },
  {
   "cell_type": "code",
   "execution_count": 11,
   "id": "70aeac59",
   "metadata": {},
   "outputs": [
    {
     "ename": "ValueError",
     "evalue": "I/O operation on closed file.",
     "output_type": "error",
     "traceback": [
      "\u001b[1;31m---------------------------------------------------------------------------\u001b[0m",
      "\u001b[1;31mValueError\u001b[0m                                Traceback (most recent call last)",
      "Cell \u001b[1;32mIn [11], line 7\u001b[0m\n\u001b[0;32m      3\u001b[0m     file_content \u001b[38;5;241m=\u001b[39m f\u001b[38;5;241m.\u001b[39mread()   \u001b[38;5;66;03m# se poate folosi si f.readlines() ...  \u001b[39;00m\n\u001b[0;32m      6\u001b[0m \u001b[38;5;66;03m# aici fisierul nu mai este deschis\u001b[39;00m\n\u001b[1;32m----> 7\u001b[0m \u001b[43mf\u001b[49m\u001b[38;5;241;43m.\u001b[39;49m\u001b[43mread\u001b[49m\u001b[43m(\u001b[49m\u001b[43m)\u001b[49m\n\u001b[0;32m      8\u001b[0m \u001b[38;5;28mprint\u001b[39m(file_content)\n",
      "\u001b[1;31mValueError\u001b[0m: I/O operation on closed file."
     ]
    }
   ],
   "source": [
    "# citire din fisier text\n",
    "with open(\"my_first_file.txt\", \"r\") as f:  \n",
    "    file_content = f.read()   # se poate folosi si f.readlines() ...  \n",
    "    \n",
    "\n",
    "# aici fisierul nu mai este deschis\n",
    "# f.read()  # ValueError: I/O operation on closed file.\n",
    "print(file_content)"
   ]
  },
  {
   "cell_type": "code",
   "execution_count": 16,
   "id": "a7e19fe2",
   "metadata": {},
   "outputs": [],
   "source": [
    "# scriere in fisier text\n",
    "with open(\"my_first_file.txt\", \"w\") as f:\n",
    "    f.write(\"Acesta este textul scris din Python!!!!!\")\n",
    "    \n",
    "# ori de cate ori rulam codul acesta, continutul fisierului va fi mereu acelasi, se va suprascrie!"
   ]
  },
  {
   "cell_type": "code",
   "execution_count": 18,
   "id": "c48ca604",
   "metadata": {},
   "outputs": [],
   "source": [
    "# dar exista si posibilitatea sa adaugam text la fisier:\n",
    "with open(file=\"my_first_file.txt\", mode=\"a\") as f:\n",
    "    f.write(\"Vom mai adauga niste text la fisierul nostru...\")"
   ]
  },
  {
   "cell_type": "code",
   "execution_count": 22,
   "id": "b26206ee",
   "metadata": {},
   "outputs": [],
   "source": [
    "# De cautat pe google de ce nu adauga f.writelines() by default un \\n ?!.."
   ]
  },
  {
   "cell_type": "code",
   "execution_count": 23,
   "id": "f98bf084",
   "metadata": {},
   "outputs": [],
   "source": [
    "# daca vrem sa apara pe o noua linie:\n",
    "with open(file=\"my_first_file.txt\", mode=\"a\") as f:\n",
    "    f.write(\"\\nPe o noua linie...\")"
   ]
  },
  {
   "cell_type": "code",
   "execution_count": null,
   "id": "f80ef056",
   "metadata": {},
   "outputs": [],
   "source": []
  },
  {
   "cell_type": "code",
   "execution_count": 24,
   "id": "d429d117",
   "metadata": {},
   "outputs": [],
   "source": [
    "# De obicei in programare se lucreaza cu fisiere de o anumita structura, nu cu fisiere text in care sa scriem din cod..."
   ]
  },
  {
   "cell_type": "markdown",
   "id": "e1894372",
   "metadata": {},
   "source": [
    "# Fisiere CSV"
   ]
  },
  {
   "cell_type": "code",
   "execution_count": 25,
   "id": "5c1a030a",
   "metadata": {},
   "outputs": [],
   "source": [
    "# CSV = Coma Separated Values: fisiere structurate sub forma tabela, unde valorile coloanelor sunt separate prin virgula\n",
    "# (similar TSV = Tab Separated Values)"
   ]
  },
  {
   "cell_type": "code",
   "execution_count": 26,
   "id": "e30a9d41",
   "metadata": {},
   "outputs": [
    {
     "name": "stdout",
     "output_type": "stream",
     "text": [
      "['Ioan Rusu', '2500']\n",
      "['Sorin Groza', '10000']\n",
      "['Doina Irimie', '7500']\n"
     ]
    }
   ],
   "source": [
    "# citirea din fisiere csv:\n",
    "import csv\n",
    "\n",
    "with open(\"employees.csv\", \"r\") as f:\n",
    "    reader = csv.reader(f)\n",
    "    \n",
    "    for row in reader:\n",
    "        print(row)"
   ]
  },
  {
   "cell_type": "code",
   "execution_count": 29,
   "id": "5b08efae",
   "metadata": {},
   "outputs": [
    {
     "name": "stdout",
     "output_type": "stream",
     "text": [
      "[['Ioan Rusu', '2500'], ['Sorin Groza', '10000'], ['Doina Irimie', '7500']]\n"
     ]
    }
   ],
   "source": [
    "# daca vrem sa salvam ce citim intr-o lista numita rows:\n",
    "\n",
    "# => [['Ioan Rusu', '2500'], ['Sorin Groza', '10000'], ['Doina Irimie', '7500']]\n",
    "import csv\n",
    "rows = []\n",
    "with open(\"employees.csv\", \"r\") as f:\n",
    "    reader = csv.reader(f)\n",
    "    \n",
    "    for row in reader:\n",
    "#         print(row)\n",
    "        rows.append(row)\n",
    "\n",
    "\n",
    "print(rows)"
   ]
  },
  {
   "cell_type": "code",
   "execution_count": 34,
   "id": "ef879263",
   "metadata": {},
   "outputs": [],
   "source": [
    "# scrierea in fisere csv:\n",
    "\n",
    "with open(\"new_csv.csv\", mode=\"w\", newline=\"\") as f:\n",
    "    writer = csv.writer(f)\n",
    "    # ne folosim de aceleasi date salvate in rows\n",
    "    \n",
    "#     writer.writerows(rows)\n",
    "    for row in rows:\n",
    "        writer.writerow(row)\n",
    "        \n",
    "# ! de cate ori rulam, fisierul se va recrea"
   ]
  },
  {
   "cell_type": "code",
   "execution_count": 37,
   "id": "2502d8e4",
   "metadata": {},
   "outputs": [],
   "source": [
    "!subl new_csv.csv"
   ]
  },
  {
   "cell_type": "code",
   "execution_count": 38,
   "id": "bda4fb92",
   "metadata": {},
   "outputs": [],
   "source": [
    "# daca vrem sa appenduim la fisier (mode='a')\n",
    "with open(\"new_csv.csv\", mode=\"a\", newline=\"\") as f:\n",
    "    writer = csv.writer(f)\n",
    "    writer.writerow([\"Florin Hanca\", 6500])\n",
    "    writer.writerow([\"Diana Stancel\", 5000])    "
   ]
  },
  {
   "cell_type": "code",
   "execution_count": 39,
   "id": "32841462",
   "metadata": {},
   "outputs": [],
   "source": [
    "!subl animal_pets.csv"
   ]
  },
  {
   "cell_type": "code",
   "execution_count": 40,
   "id": "22158273",
   "metadata": {},
   "outputs": [
    {
     "name": "stdout",
     "output_type": "stream",
     "text": [
      "{'name': 'Sara', 'species': 'dog', 'age': '10'}\n",
      "{'name': 'Tom', 'species': 'cat', 'age': '6'}\n",
      "{'name': 'Jerry', 'species': 'mouse', 'age': '2'}\n",
      "{'name': 'Tweety', 'species': 'bird', 'age': '1'}\n",
      "{'name': 'Bugs', 'species': 'bunny', 'age': '3'}\n",
      "{'name': 'Ares', 'species': 'dog', 'age': '3'}\n",
      "{'name': 'Eros', 'species': 'bird', 'age': '7'}\n",
      "{'name': 'Icarus', 'species': 'bird', 'age': '5'}\n",
      "{'name': 'Zeus', 'species': 'dog', 'age': '13'}\n",
      "{'name': 'Hera', 'species': 'cat', 'age': '12'}\n"
     ]
    }
   ],
   "source": [
    "# cum se citeste / scriere din csv-uri care au header\n",
    "with open(\"animal_pets.csv\", \"r\", newline=\"\") as f:\n",
    "    reader = csv.DictReader(f)  # folosind DictReader, datele nu se mai citesc in liste, ci in dictionare\n",
    "    \n",
    "    for row in reader:\n",
    "        print(row)"
   ]
  },
  {
   "cell_type": "code",
   "execution_count": 44,
   "id": "6e351920",
   "metadata": {},
   "outputs": [
    {
     "name": "stdout",
     "output_type": "stream",
     "text": [
      "Sara dog\n",
      "Tom cat\n",
      "Jerry mouse\n",
      "Tweety bird\n",
      "Bugs bunny\n",
      "Ares dog\n",
      "Eros bird\n",
      "Icarus bird\n",
      "Zeus dog\n",
      "Hera cat\n"
     ]
    }
   ],
   "source": [
    "with open(\"animal_pets.csv\", \"r\", newline=\"\") as f:\n",
    "    reader = csv.DictReader(f)  # folosind DictReader, datele nu se mai citesc in liste, ci in dictionare\n",
    "    \n",
    "    for row in reader:\n",
    "        print(row['name'],row['species'])"
   ]
  },
  {
   "cell_type": "code",
   "execution_count": 46,
   "id": "8614e864",
   "metadata": {},
   "outputs": [],
   "source": [
    "# daca vrem sa adaugam la fisierul cu header:\n",
    "with open(\"animal_pets.csv\", mode=\"a\", newline=\"\") as f:\n",
    "    columns = [\"name\", \"species\", \"age\"]\n",
    "    writer = csv.DictWriter(f, fieldnames=columns)\n",
    "    \n",
    "#     writer.writerow([\"Florin Hanca\", 6500])\n",
    "    writer.writerow({'name': 'Apollo', 'species': 'dog', 'age': '2'}) \n",
    "    writer.writerow({'name': 'Artemis', 'species': 'cat', 'age': '1'})     "
   ]
  },
  {
   "cell_type": "code",
   "execution_count": 47,
   "id": "7e9c5043",
   "metadata": {},
   "outputs": [],
   "source": [
    "!subl student_grades.csv"
   ]
  },
  {
   "cell_type": "code",
   "execution_count": 48,
   "id": "fa3aeeb1",
   "metadata": {},
   "outputs": [],
   "source": [
    "# Tema09_Ex01: Given the csv file student_grades.csv:\n",
    "# 1. Using the below data, create your student_grades.csv\n",
    "# 2. List the contents of the file as a list of dicts, a row being a dict of form:\n",
    "# {\"student_name\": <name_of_student>, \"subject\": <name_of_subject>, \"grade\": <grade>}\n",
    "# 3. List the student that has the most grades and how many it has   # => Celine, 3  poate fi si un dict {\"student\": \"Celine\", \"no_of_grades\": 3} sau {\"Celine\": 3} sau (\"Celine\", 3), \"Student with most grades ... \"\n",
    "\n",
    "##student_grades.csv:\n",
    "#Eveline,math,9\n",
    "#Andrew,physics,6\n",
    "#Celine,music,10\n",
    "#Matthew,math,7\n",
    "#Celine,english,10\n",
    "#Matthew,english,10\n",
    "#Celine,chemistry,6"
   ]
  },
  {
   "cell_type": "code",
   "execution_count": null,
   "id": "8c847ce6",
   "metadata": {},
   "outputs": [],
   "source": []
  },
  {
   "cell_type": "markdown",
   "id": "40d9f544",
   "metadata": {},
   "source": [
    "# Fisiere JSON"
   ]
  },
  {
   "cell_type": "code",
   "execution_count": 49,
   "id": "524bcf1e",
   "metadata": {},
   "outputs": [],
   "source": [
    "# JSON = JavaScript Object Notation: e un tip de fisiere si totodata standard folosit foarte frecventa in programare, mai cu \n",
    "# seama in web development pentru a trimite informatii intre aplicatii\n",
    "# - foloseste o reprezentare de tip cheie:valoare similara cu dictionarul Python (cu precizarea ca unele limbaje de programare\n",
    "# accepta doar chei si valori string)"
   ]
  },
  {
   "cell_type": "code",
   "execution_count": 50,
   "id": "e2d3fa11",
   "metadata": {},
   "outputs": [],
   "source": [
    "country = {\n",
    "    \"name\": \"Romania\",\n",
    "    \"language\": \"limba romana\", \n",
    "    \"population\": 19500000\n",
    "}"
   ]
  },
  {
   "cell_type": "code",
   "execution_count": 52,
   "id": "03638487",
   "metadata": {},
   "outputs": [
    {
     "data": {
      "text/plain": [
       "'{\"name\": \"Romania\", \"language\": \"limba romana\", \"population\": 19500000}'"
      ]
     },
     "execution_count": 52,
     "metadata": {},
     "output_type": "execute_result"
    }
   ],
   "source": [
    "# dictionarul il putem serializa JSON (adica il transformam intr-un JSON, reprezentat ca un string)\n",
    "import json\n",
    "json.dumps(country)"
   ]
  },
  {
   "cell_type": "code",
   "execution_count": 53,
   "id": "942b7047",
   "metadata": {},
   "outputs": [
    {
     "data": {
      "text/plain": [
       "'{\"name\": \"Romania\", \"language\": \"limba romana\", \"population\": 19500000}'"
      ]
     },
     "execution_count": 53,
     "metadata": {},
     "output_type": "execute_result"
    }
   ],
   "source": [
    "# poate fi serializat catre o variabila\n",
    "as_str = json.dumps(country)\n",
    "as_str"
   ]
  },
  {
   "cell_type": "code",
   "execution_count": 55,
   "id": "130db9eb",
   "metadata": {},
   "outputs": [
    {
     "data": {
      "text/plain": [
       "str"
      ]
     },
     "execution_count": 55,
     "metadata": {},
     "output_type": "execute_result"
    }
   ],
   "source": [
    "type(as_str)"
   ]
  },
  {
   "cell_type": "code",
   "execution_count": 65,
   "id": "f46f83f5",
   "metadata": {},
   "outputs": [],
   "source": [
    "# sau poate fi salvat intr`un fisier\n",
    "with open(\"country.json\", \"w\") as f:\n",
    "    json.dump(country, f, indent=4)"
   ]
  },
  {
   "cell_type": "code",
   "execution_count": 59,
   "id": "bf6bfb38",
   "metadata": {},
   "outputs": [],
   "source": [
    "!subl country.json"
   ]
  },
  {
   "cell_type": "code",
   "execution_count": 61,
   "id": "550ca64e",
   "metadata": {},
   "outputs": [
    {
     "data": {
      "text/plain": [
       "{'name': 'Romania', 'language': 'limba romana', 'population': 19500000}"
      ]
     },
     "execution_count": 61,
     "metadata": {},
     "output_type": "execute_result"
    }
   ],
   "source": [
    "# daca vrem sa deserializam dintr`-o variabila\n",
    "as_dict = json.loads(as_str)\n",
    "as_dict"
   ]
  },
  {
   "cell_type": "code",
   "execution_count": 62,
   "id": "4f7d5a9c",
   "metadata": {},
   "outputs": [
    {
     "data": {
      "text/plain": [
       "dict"
      ]
     },
     "execution_count": 62,
     "metadata": {},
     "output_type": "execute_result"
    }
   ],
   "source": [
    "type(as_dict)"
   ]
  },
  {
   "cell_type": "code",
   "execution_count": 66,
   "id": "0dae52d9",
   "metadata": {},
   "outputs": [
    {
     "data": {
      "text/plain": [
       "{'name': 'Romania', 'language': 'limba romana', 'population': 19500000}"
      ]
     },
     "execution_count": 66,
     "metadata": {},
     "output_type": "execute_result"
    }
   ],
   "source": [
    "# sau dintr`un fisier\n",
    "with open(\"country.json\", \"r\") as f:\n",
    "    from_file = json.load(f)\n",
    "    \n",
    "from_file"
   ]
  },
  {
   "cell_type": "code",
   "execution_count": 68,
   "id": "2f3a6206",
   "metadata": {},
   "outputs": [
    {
     "data": {
      "text/plain": [
       "dict"
      ]
     },
     "execution_count": 68,
     "metadata": {},
     "output_type": "execute_result"
    }
   ],
   "source": [
    "type(from_file)"
   ]
  },
  {
   "cell_type": "code",
   "execution_count": null,
   "id": "aaf556fb",
   "metadata": {},
   "outputs": [],
   "source": [
    "# dump, load - lucreaza cu fisiere\n",
    "# dumps, loads - lucreaza cu variabile"
   ]
  },
  {
   "cell_type": "code",
   "execution_count": 70,
   "id": "6dd2300c",
   "metadata": {},
   "outputs": [],
   "source": [
    "# C09_EX01: Avand fisierul numbers.json, scrieti un program care calculeaza media numerelor \n",
    "# din \"integer_numbers\", media numerelor din \"float_numbers\", cat si media tuturor numerelor.\n",
    "!subl numbers.json"
   ]
  },
  {
   "cell_type": "code",
   "execution_count": 71,
   "id": "9656984a",
   "metadata": {},
   "outputs": [
    {
     "data": {
      "text/plain": [
       "'Razvan'"
      ]
     },
     "execution_count": 71,
     "metadata": {},
     "output_type": "execute_result"
    }
   ],
   "source": [
    "import random\n",
    "random.choice([\"Sorina\", \"Bogdan\", \"Florin\", \"Razvan\", \"Dorinel\", \"Stefan\", \"Roxana\"])"
   ]
  },
  {
   "cell_type": "code",
   "execution_count": 74,
   "id": "9b020c73",
   "metadata": {},
   "outputs": [
    {
     "data": {
      "text/plain": [
       "4.768"
      ]
     },
     "execution_count": 74,
     "metadata": {},
     "output_type": "execute_result"
    }
   ],
   "source": [
    "(4.1 + 5.436) / 2 "
   ]
  },
  {
   "cell_type": "code",
   "execution_count": 75,
   "id": "6bf68dc8",
   "metadata": {},
   "outputs": [
    {
     "data": {
      "text/plain": [
       "4.545333333333334"
      ]
     },
     "execution_count": 75,
     "metadata": {},
     "output_type": "execute_result"
    }
   ],
   "source": [
    "(6 +3 + 8 + 4 + 5 + 1 + 2 + 2 + 3 + 7 + 3.42 + 5.67 + 1.14 + 6.96 + 9.99) / 15"
   ]
  },
  {
   "cell_type": "code",
   "execution_count": 76,
   "id": "57c7dc90",
   "metadata": {},
   "outputs": [],
   "source": [
    "# Tema09_Ex02: Given the json file people.json:\n",
    "# 1. Write a function that will print all the details of a person. The function will receive an id, \n",
    "# ex: print(show_details_by_id(\"aeec8c5e-f513-4dfd-8435-1d49eb90877c\")) => \n",
    "# {\n",
    "#         \"first_name\": \"Mike\",\n",
    "#         \"last_name\": \"McMan\",\n",
    "#         \"sex\": \"M\",\n",
    "#         \"age\": 52,\n",
    "#         \"partner\": \"d48da772-fdb0-4b14-9ff5-aafe29c15dc9\",\n",
    "#         \"children\": [\"dd69e184-ee18-491c-ba36-db625ba35d8b\", \"b14031ee-bec5-4902-8e78-95508bd89b64\", \"9fc00e67-5d00-4830-8679-4e2e66f7fe64\"]\n",
    "# }\n",
    "# 2. Write a function that will print all the details of a person. The function will receive first_name and last_name.\n",
    "# ex: print(show_details_by_id(\"Mike\", \"McMan\")) => \n",
    "# First name: Mike\n",
    "# Last name: McMan\n",
    "# Sex: M\n",
    "# Age: 52\n",
    "# Partner: Mart McMan\n",
    "# Children: [\"Anna\", \"Adrian\", \"Danna\"]\n",
    "# 3. List the details of the youngest person\n",
    "# 4. List the details for of all the girls Mike has\n",
    "# 5. List the details of the children 'Mike' and 'Mary' have together.\n",
    "# 6. Add a function to marry 2 people, for example Anna to John and do the required changes! \n",
    "# 7. Add a function to add a new person in people.json using a dict\n",
    "# ex: add_person({'first_name': 'Mark', 'last_name': 'Bark', 'sex': 'M', 'age': 10}) and it should appear in file \n",
    "# Bonus: to test 7., you can add a function to list all people in file\n",
    "!subl people.json  # eu deschid json files cu sublime-text editor, dar voi va sugerez sa o faceti direct in pycharm"
   ]
  },
  {
   "cell_type": "code",
   "execution_count": null,
   "id": "d48c9752",
   "metadata": {},
   "outputs": [],
   "source": [
    "# !!! Atentie, cand deschidem un fisier, stringul care reprezinta numele fisierului este de fapt un path catre locatia de \n",
    "# pe disk a acelui fisier\n",
    "\n",
    "# de ex:\n",
    "# with open(\"country.json\", \"r\") as f:\n",
    "#     .....\n",
    "    \n",
    "# ^ asta presupune ca fisierul \"country.json\" se afla in directorul curent, dar daca vrem sa il luam dintr`o alta locatie\n",
    "# putem specifica un path absolut (absolut ca incepe de la root, in cazul Windows din C:// sau D:// sau alta partitie, \n",
    "# iar in cazul linux sau mac rootul incepe de la /)\n",
    "\n",
    "# path absolut catre un fisier din Downloads\n",
    "# with open(\"C://Users/<you_user_here>/Downloads/country.json\", \"r\") as f:\n",
    "#     ....\n",
    "\n",
    "# se mai pot folosi de asemenea si path-uri relative la directorul curent, de ex\n",
    "# with open(\"../country.json\", \"r\") as f:\n",
    "#     .....\n",
    "# ^ presupune ca fisierul se afla in directorul parinte al directorului curent, daca suntem in \"D://Dir1/Dir2/my_script.py\"\n",
    "# si vrem sa deschidem ../country.json, acesta se presupune a se afla in D://Dir1/country.json"
   ]
  }
 ],
 "metadata": {
  "kernelspec": {
   "display_name": "Python 3 (ipykernel)",
   "language": "python",
   "name": "python3"
  },
  "language_info": {
   "codemirror_mode": {
    "name": "ipython",
    "version": 3
   },
   "file_extension": ".py",
   "mimetype": "text/x-python",
   "name": "python",
   "nbconvert_exporter": "python",
   "pygments_lexer": "ipython3",
   "version": "3.9.13"
  }
 },
 "nbformat": 4,
 "nbformat_minor": 5
}
