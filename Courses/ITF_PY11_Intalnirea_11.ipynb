{
 "cells": [
  {
   "cell_type": "markdown",
   "id": "d10efc20",
   "metadata": {},
   "source": [
    "# Context managers"
   ]
  },
  {
   "cell_type": "code",
   "execution_count": 1,
   "id": "9f109453",
   "metadata": {},
   "outputs": [],
   "source": [
    "# context managerii ne ajuta sa controlam accesul la anumite resurse"
   ]
  },
  {
   "cell_type": "code",
   "execution_count": null,
   "id": "9df17ff1",
   "metadata": {},
   "outputs": [],
   "source": [
    "# deschiderea fisierelor fara context manager\n",
    "f = open(\"my_file.txt\", \"w\")\n",
    "f.write(\"Hello Pythonistas!\")\n",
    "f.close()"
   ]
  },
  {
   "cell_type": "code",
   "execution_count": null,
   "id": "49c9f122",
   "metadata": {},
   "outputs": [],
   "source": [
    "# deschiderea fisierelor fara context manager\n",
    "f = open(\"my_file.txt\", \"w\")\n",
    "f.write(\"Hello Pythonistas!\")\n",
    "print(my_undefined_variable)  # aici avem o eroare,\n",
    "f.close()                     # fisierul nu va mai fi inchis, si ni se va incarca memoria fara sens"
   ]
  },
  {
   "cell_type": "code",
   "execution_count": 3,
   "id": "3e28cfd4",
   "metadata": {},
   "outputs": [
    {
     "name": "stdout",
     "output_type": "stream",
     "text": [
      "Prindem exceptia..\n"
     ]
    }
   ],
   "source": [
    "# o prima imbunatatire:\n",
    "try:   # pe ramura try e important sa avem codul care s-ar putea sa ridice exceptie\n",
    "    f = open(\"my_files.txt\", \"w\")\n",
    "    f.write(\"Hello Pythonistas!\")\n",
    "    print(my_undefined_variable)\n",
    "except:\n",
    "#     raise\n",
    "    print(\"Prindem exceptia..\")\n",
    "#     my_undefined_variable = 12\n",
    "\n",
    "finally:\n",
    "    f.close()\n"
   ]
  },
  {
   "cell_type": "code",
   "execution_count": 5,
   "id": "e30fdef3",
   "metadata": {},
   "outputs": [
    {
     "name": "stdout",
     "output_type": "stream",
     "text": [
      "Hello Pythonistas!\n"
     ]
    },
    {
     "ename": "NameError",
     "evalue": "name 'my_undefined_variable' is not defined",
     "output_type": "error",
     "traceback": [
      "\u001b[1;31m---------------------------------------------------------------------------\u001b[0m",
      "\u001b[1;31mNameError\u001b[0m                                 Traceback (most recent call last)",
      "Cell \u001b[1;32mIn [5], line 4\u001b[0m\n\u001b[0;32m      2\u001b[0m \u001b[38;5;28;01mwith\u001b[39;00m \u001b[38;5;28mopen\u001b[39m(\u001b[38;5;124m\"\u001b[39m\u001b[38;5;124mmy_files.txt\u001b[39m\u001b[38;5;124m\"\u001b[39m, \u001b[38;5;124m\"\u001b[39m\u001b[38;5;124mr\u001b[39m\u001b[38;5;124m\"\u001b[39m) \u001b[38;5;28;01mas\u001b[39;00m f:\n\u001b[0;32m      3\u001b[0m     \u001b[38;5;28mprint\u001b[39m(f\u001b[38;5;241m.\u001b[39mread())\n\u001b[1;32m----> 4\u001b[0m     \u001b[38;5;28mprint\u001b[39m(\u001b[43mmy_undefined_variable\u001b[49m)\n",
      "\u001b[1;31mNameError\u001b[0m: name 'my_undefined_variable' is not defined"
     ]
    }
   ],
   "source": [
    "# the way to do: \n",
    "with open(\"my_files.txt\", \"r\") as f:\n",
    "    content = f.read()\n",
    "    print(f.read())\n",
    "    print(my_undefined_variable)\n",
    "    \n",
    "    \n",
    "\n",
    "# cu with declaram un context manager, acesta ocupandu`se de inchisul fisierului in mod automat dupa ce se executa codul din \n",
    "# interiorul blocului with"
   ]
  },
  {
   "cell_type": "code",
   "execution_count": 6,
   "id": "04721e26",
   "metadata": {},
   "outputs": [
    {
     "name": "stdout",
     "output_type": "stream",
     "text": [
      "Hello Pythonistas!\n"
     ]
    }
   ],
   "source": [
    "# the way to do: \n",
    "with open(\"my_files.txt\", \"r\") as f:\n",
    "    # cand intram in context manager fisierul se deschide\n",
    "    content = f.read()\n",
    "# cand iesim din C.M. fisierul se inchide\n",
    "    \n",
    "print(content)"
   ]
  },
  {
   "cell_type": "code",
   "execution_count": null,
   "id": "32e5c06d",
   "metadata": {},
   "outputs": [],
   "source": [
    "# putem crea proprii nostri context manageri in 2 moduri:\n",
    "# - ca o functie\n",
    "# - ca o clasa"
   ]
  },
  {
   "cell_type": "code",
   "execution_count": 7,
   "id": "3eee432a",
   "metadata": {},
   "outputs": [],
   "source": [
    "from contextlib import contextmanager\n",
    "\n",
    "@contextmanager\n",
    "def file_manager(filename, mode):\n",
    "    f = open(filename, mode)\n",
    "    yield f\n",
    "    f.close()\n",
    "    \n",
    "with file_manager(\"my_files.txt\", \"a\") as fdesc:  # fdesc - file descriptor este variabila atribuita fisierului deschis\n",
    "    fdesc.write(\"\\nTesting our context manager\")"
   ]
  },
  {
   "cell_type": "code",
   "execution_count": 8,
   "id": "94f19d4a",
   "metadata": {},
   "outputs": [
    {
     "name": "stdout",
     "output_type": "stream",
     "text": [
      "Hello Pythonistas!\n",
      "Testing our context manager\n"
     ]
    }
   ],
   "source": [
    "with open(\"my_files.txt\", \"r\") as fdesc:\n",
    "    print(fdesc.read())\n",
    "    "
   ]
  },
  {
   "cell_type": "code",
   "execution_count": 15,
   "id": "0ceb32e3",
   "metadata": {},
   "outputs": [
    {
     "name": "stdout",
     "output_type": "stream",
     "text": [
      "Entering filemanager\n",
      "In file manager...\n",
      "Exiting filemanager\n",
      "After filemanager\n"
     ]
    }
   ],
   "source": [
    "# pt ca o clasa sa fie context manager, ea trebuie sa implementeze 2 metode magice __enter__ si __exit__ care se ocupa \n",
    "# cu executia codului in momentul in care intram in context manager, respectiv iesim din c.m.\n",
    "class FileManager:\n",
    "    def __init__(self, filename, mode):\n",
    "        self.filename = filename\n",
    "        self.mode = mode\n",
    "        self.fdesc = None\n",
    "\n",
    "    def __enter__(self):\n",
    "        print(\"Entering filemanager\")\n",
    "        self.fdesc = open(self.filename, self.mode)  # open & share resources\n",
    "        return self.fdesc\n",
    "        \n",
    "    def __exit__(self, type, value, traceback):\n",
    "        print(\"Exiting filemanager\")\n",
    "        self.fdesc.close()  # cleaning, release resources\n",
    "        \n",
    "fm =  FileManager(\"my_files.txt\", \"r\")\n",
    "with fm:\n",
    "    print(\"In file manager...\")\n",
    "print(\"After filemanager\")"
   ]
  },
  {
   "cell_type": "code",
   "execution_count": 19,
   "id": "bb82d103",
   "metadata": {},
   "outputs": [
    {
     "name": "stdout",
     "output_type": "stream",
     "text": [
      "Time spent in context manager: 4.022566795349121 seconds\n"
     ]
    }
   ],
   "source": [
    "# C11_EX01: Scrieti o clasa context manager care va printa durata executiei a codului din interiorul context managerului\n",
    "\n",
    "class RunDuration:\n",
    "    def __init__(self):\n",
    "        self.start_time = None\n",
    "        self.end_time = None\n",
    "        self.seconds_in_total = None\n",
    "    \n",
    "    def __enter__(self):\n",
    "        self.start_time = time.time()\n",
    "    \n",
    "    def __exit__(self, type, value, traceback):\n",
    "        self.end_time = time.time()\n",
    "        self.seconds_in_total = self.end_time - self.start_time\n",
    "        print(f\"Time spent in context manager: {self.seconds_in_total} seconds\")\n",
    "    \n",
    "import time\n",
    "with RunDuration() as run:\n",
    "    # aici avem t0 (self.start_time = time.time() = 1669654638)\n",
    "    time.sleep(4)              # de test\n",
    "    for _ in range(1_000_000): # de test, doar ca sa mai treaca timp...\n",
    "        pass\n",
    "# => 4.xxx sec"
   ]
  },
  {
   "cell_type": "code",
   "execution_count": 16,
   "id": "407f904c",
   "metadata": {},
   "outputs": [
    {
     "data": {
      "text/plain": [
       "1669654638.9376907"
      ]
     },
     "execution_count": 16,
     "metadata": {},
     "output_type": "execute_result"
    }
   ],
   "source": [
    "import time\n",
    "time.time()  # returneaza timestamp (aka epoch time), reprezentand numarul de secunde trecute de la data de 01.01.1970\n",
    "# timestamp e relativ la UTC"
   ]
  },
  {
   "cell_type": "code",
   "execution_count": null,
   "id": "e2691a9c",
   "metadata": {},
   "outputs": [],
   "source": []
  },
  {
   "cell_type": "markdown",
   "id": "509a04fa",
   "metadata": {},
   "source": [
    "# Decorators"
   ]
  },
  {
   "cell_type": "code",
   "execution_count": 20,
   "id": "0aa4b2c3",
   "metadata": {},
   "outputs": [],
   "source": [
    "# decoratorii permit extinderea functionalitatii unor functii/clase existente fara a le modifica permanent"
   ]
  },
  {
   "cell_type": "code",
   "execution_count": 21,
   "id": "687f28ac",
   "metadata": {},
   "outputs": [],
   "source": [
    "# se bazeaza pe 2 ipoteze:\n",
    "# - o functie poate lua ca argument o alta functie\n",
    "# - se poate crea o functie in interiorul altei functii"
   ]
  },
  {
   "cell_type": "code",
   "execution_count": 32,
   "id": "124cbda3",
   "metadata": {},
   "outputs": [],
   "source": [
    "def hello():\n",
    "    print(\"Hello Pythonistas!\")"
   ]
  },
  {
   "cell_type": "code",
   "execution_count": 33,
   "id": "71805162",
   "metadata": {},
   "outputs": [
    {
     "name": "stdout",
     "output_type": "stream",
     "text": [
      "Hello Pythonistas!\n"
     ]
    }
   ],
   "source": [
    "hello()  # apel normal"
   ]
  },
  {
   "cell_type": "code",
   "execution_count": 34,
   "id": "1648571e",
   "metadata": {},
   "outputs": [
    {
     "data": {
      "text/plain": [
       "<function __main__.hello()>"
      ]
     },
     "execution_count": 34,
     "metadata": {},
     "output_type": "execute_result"
    }
   ],
   "source": [
    "hello"
   ]
  },
  {
   "cell_type": "code",
   "execution_count": 35,
   "id": "d2d8f9e6",
   "metadata": {},
   "outputs": [],
   "source": [
    "greet = hello  # si greet si hello identifica in memorie implementarea functiei hello"
   ]
  },
  {
   "cell_type": "code",
   "execution_count": null,
   "id": "9deac775",
   "metadata": {},
   "outputs": [],
   "source": []
  },
  {
   "cell_type": "code",
   "execution_count": 36,
   "id": "148c0764",
   "metadata": {},
   "outputs": [
    {
     "name": "stdout",
     "output_type": "stream",
     "text": [
      "Hello Pythonistas!\n"
     ]
    }
   ],
   "source": [
    "greet()"
   ]
  },
  {
   "cell_type": "code",
   "execution_count": 37,
   "id": "971ea297",
   "metadata": {},
   "outputs": [
    {
     "data": {
      "text/plain": [
       "<function __main__.hello()>"
      ]
     },
     "execution_count": 37,
     "metadata": {},
     "output_type": "execute_result"
    }
   ],
   "source": [
    "greet"
   ]
  },
  {
   "cell_type": "code",
   "execution_count": 38,
   "id": "8cc095ad",
   "metadata": {},
   "outputs": [],
   "source": [
    "del hello"
   ]
  },
  {
   "cell_type": "code",
   "execution_count": 39,
   "id": "346ed345",
   "metadata": {},
   "outputs": [
    {
     "ename": "NameError",
     "evalue": "name 'hello' is not defined",
     "output_type": "error",
     "traceback": [
      "\u001b[1;31m---------------------------------------------------------------------------\u001b[0m",
      "\u001b[1;31mNameError\u001b[0m                                 Traceback (most recent call last)",
      "Cell \u001b[1;32mIn [39], line 1\u001b[0m\n\u001b[1;32m----> 1\u001b[0m \u001b[43mhello\u001b[49m()\n",
      "\u001b[1;31mNameError\u001b[0m: name 'hello' is not defined"
     ]
    }
   ],
   "source": [
    "hello()  # nu mai exista"
   ]
  },
  {
   "cell_type": "code",
   "execution_count": 40,
   "id": "d5e263f2",
   "metadata": {},
   "outputs": [
    {
     "name": "stdout",
     "output_type": "stream",
     "text": [
      "Hello Pythonistas!\n"
     ]
    }
   ],
   "source": [
    "greet() # se poate inca folosi"
   ]
  },
  {
   "cell_type": "code",
   "execution_count": null,
   "id": "2b1fefb1",
   "metadata": {},
   "outputs": [],
   "source": []
  },
  {
   "cell_type": "code",
   "execution_count": 41,
   "id": "e6b237af",
   "metadata": {},
   "outputs": [
    {
     "name": "stdout",
     "output_type": "stream",
     "text": [
      "Hello Pythonistas!\n"
     ]
    }
   ],
   "source": [
    "salut = greet()  # "
   ]
  },
  {
   "cell_type": "code",
   "execution_count": 43,
   "id": "ca950011",
   "metadata": {},
   "outputs": [
    {
     "name": "stdout",
     "output_type": "stream",
     "text": [
      "None\n"
     ]
    }
   ],
   "source": [
    "print(salut)"
   ]
  },
  {
   "cell_type": "code",
   "execution_count": 44,
   "id": "de4ed229",
   "metadata": {},
   "outputs": [
    {
     "ename": "TypeError",
     "evalue": "'NoneType' object is not callable",
     "output_type": "error",
     "traceback": [
      "\u001b[1;31m---------------------------------------------------------------------------\u001b[0m",
      "\u001b[1;31mTypeError\u001b[0m                                 Traceback (most recent call last)",
      "Cell \u001b[1;32mIn [44], line 1\u001b[0m\n\u001b[1;32m----> 1\u001b[0m \u001b[43msalut\u001b[49m\u001b[43m(\u001b[49m\u001b[43m)\u001b[49m\n",
      "\u001b[1;31mTypeError\u001b[0m: 'NoneType' object is not callable"
     ]
    }
   ],
   "source": [
    "salut()"
   ]
  },
  {
   "cell_type": "code",
   "execution_count": 45,
   "id": "37334f2a",
   "metadata": {},
   "outputs": [],
   "source": [
    "def func():\n",
    "    return 10"
   ]
  },
  {
   "cell_type": "code",
   "execution_count": 47,
   "id": "0cd08132",
   "metadata": {},
   "outputs": [],
   "source": [
    "my_f = func()"
   ]
  },
  {
   "cell_type": "code",
   "execution_count": 48,
   "id": "5f6ee6cc",
   "metadata": {},
   "outputs": [
    {
     "name": "stdout",
     "output_type": "stream",
     "text": [
      "10\n"
     ]
    }
   ],
   "source": [
    "print(my_f)"
   ]
  },
  {
   "cell_type": "code",
   "execution_count": null,
   "id": "ff36f1c6",
   "metadata": {},
   "outputs": [],
   "source": [
    "# putem sa pasam numele (implicit si implementarea) unei functii catre o alta variabila"
   ]
  },
  {
   "cell_type": "code",
   "execution_count": 56,
   "id": "68e5b6a7",
   "metadata": {},
   "outputs": [],
   "source": [
    "# putem sa avem o functie definita in interiorul alteia\n",
    "def function():\n",
    "    print(\"Entering function\")\n",
    "    def super_function():\n",
    "        return \"This is the super function\"\n",
    "    \n",
    "    return super_function()"
   ]
  },
  {
   "cell_type": "code",
   "execution_count": 57,
   "id": "a481f381",
   "metadata": {},
   "outputs": [
    {
     "name": "stdout",
     "output_type": "stream",
     "text": [
      "Entering function\n"
     ]
    },
    {
     "data": {
      "text/plain": [
       "'This is the super function'"
      ]
     },
     "execution_count": 57,
     "metadata": {},
     "output_type": "execute_result"
    }
   ],
   "source": [
    "function()"
   ]
  },
  {
   "cell_type": "code",
   "execution_count": 58,
   "id": "a444ff88",
   "metadata": {},
   "outputs": [
    {
     "data": {
      "text/plain": [
       "<function __main__.function()>"
      ]
     },
     "execution_count": 58,
     "metadata": {},
     "output_type": "execute_result"
    }
   ],
   "source": [
    "function"
   ]
  },
  {
   "cell_type": "code",
   "execution_count": 59,
   "id": "126465a1",
   "metadata": {},
   "outputs": [],
   "source": [
    "def function():\n",
    "    print(\"Entering function\")\n",
    "    def super_function():\n",
    "        return \"This is the super function\"\n",
    "    \n",
    "    return super_function"
   ]
  },
  {
   "cell_type": "code",
   "execution_count": 60,
   "id": "45cde9d4",
   "metadata": {},
   "outputs": [
    {
     "name": "stdout",
     "output_type": "stream",
     "text": [
      "Entering function\n"
     ]
    },
    {
     "data": {
      "text/plain": [
       "<function __main__.function.<locals>.super_function()>"
      ]
     },
     "execution_count": 60,
     "metadata": {},
     "output_type": "execute_result"
    }
   ],
   "source": [
    "function()"
   ]
  },
  {
   "cell_type": "code",
   "execution_count": 61,
   "id": "90821ada",
   "metadata": {},
   "outputs": [
    {
     "name": "stdout",
     "output_type": "stream",
     "text": [
      "Entering function\n"
     ]
    },
    {
     "data": {
      "text/plain": [
       "'This is the super function'"
      ]
     },
     "execution_count": 61,
     "metadata": {},
     "output_type": "execute_result"
    }
   ],
   "source": [
    "function()()"
   ]
  },
  {
   "cell_type": "code",
   "execution_count": 62,
   "id": "913b5adf",
   "metadata": {},
   "outputs": [
    {
     "name": "stdout",
     "output_type": "stream",
     "text": [
      "Entering function\n"
     ]
    }
   ],
   "source": [
    "my_new_func = function()"
   ]
  },
  {
   "cell_type": "code",
   "execution_count": 63,
   "id": "5e4d2232",
   "metadata": {},
   "outputs": [
    {
     "data": {
      "text/plain": [
       "'This is the super function'"
      ]
     },
     "execution_count": 63,
     "metadata": {},
     "output_type": "execute_result"
    }
   ],
   "source": [
    "my_new_func()"
   ]
  },
  {
   "cell_type": "code",
   "execution_count": 64,
   "id": "39399de0",
   "metadata": {},
   "outputs": [],
   "source": [
    "# observam ca putem pasa numele si implementarea unei functii catre o variabila\n",
    "# asa ca nu ar trebui sa fie probleme daca pasam o functie care argument unei alte functii"
   ]
  },
  {
   "cell_type": "code",
   "execution_count": null,
   "id": "29062548",
   "metadata": {},
   "outputs": [],
   "source": [
    "def hello():\n",
    "    print(\"Hello Pythonistas!\")\n",
    "    \n",
    "# Vrem sa ii adaugam functionalitatea de a saluta initial studentii fara a modifica functia in sine\n",
    "\n",
    "\n",
    "# => Hello students\n",
    "# => Hello Pythonistas"
   ]
  },
  {
   "cell_type": "code",
   "execution_count": 66,
   "id": "e96c3c7b",
   "metadata": {},
   "outputs": [
    {
     "name": "stdout",
     "output_type": "stream",
     "text": [
      "Hello Pythonistas!\n"
     ]
    }
   ],
   "source": [
    "def hello():\n",
    "    print(\"Hello Pythonistas!\")\n",
    "hello()"
   ]
  },
  {
   "cell_type": "code",
   "execution_count": 76,
   "id": "1cc5582d",
   "metadata": {},
   "outputs": [],
   "source": [
    "def new_hello(a_func):\n",
    "    print(\"Hello students!\")\n",
    "    \n",
    "    a_func()"
   ]
  },
  {
   "cell_type": "code",
   "execution_count": 72,
   "id": "51f4ac7b",
   "metadata": {},
   "outputs": [
    {
     "name": "stdout",
     "output_type": "stream",
     "text": [
      "Hello students!\n",
      "Hello Pythonistas!\n"
     ]
    }
   ],
   "source": [
    "new_hello(hello)"
   ]
  },
  {
   "cell_type": "code",
   "execution_count": 69,
   "id": "7ddfe982",
   "metadata": {},
   "outputs": [
    {
     "name": "stdout",
     "output_type": "stream",
     "text": [
      "Hello Pythonistas!\n"
     ]
    }
   ],
   "source": [
    "hello()"
   ]
  },
  {
   "cell_type": "code",
   "execution_count": 73,
   "id": "2508bb56",
   "metadata": {},
   "outputs": [
    {
     "name": "stdout",
     "output_type": "stream",
     "text": [
      "Hello students!\n"
     ]
    },
    {
     "ename": "TypeError",
     "evalue": "'str' object is not callable",
     "output_type": "error",
     "traceback": [
      "\u001b[1;31m---------------------------------------------------------------------------\u001b[0m",
      "\u001b[1;31mTypeError\u001b[0m                                 Traceback (most recent call last)",
      "Cell \u001b[1;32mIn [73], line 1\u001b[0m\n\u001b[1;32m----> 1\u001b[0m \u001b[43mnew_hello\u001b[49m\u001b[43m(\u001b[49m\u001b[38;5;124;43m\"\u001b[39;49m\u001b[38;5;124;43mCiao\u001b[39;49m\u001b[38;5;124;43m\"\u001b[39;49m\u001b[43m)\u001b[49m\n",
      "Cell \u001b[1;32mIn [71], line 4\u001b[0m, in \u001b[0;36mnew_hello\u001b[1;34m(original_function)\u001b[0m\n\u001b[0;32m      1\u001b[0m \u001b[38;5;28;01mdef\u001b[39;00m \u001b[38;5;21mnew_hello\u001b[39m(original_function):\n\u001b[0;32m      2\u001b[0m     \u001b[38;5;28mprint\u001b[39m(\u001b[38;5;124m\"\u001b[39m\u001b[38;5;124mHello students!\u001b[39m\u001b[38;5;124m\"\u001b[39m)\n\u001b[1;32m----> 4\u001b[0m     \u001b[43moriginal_function\u001b[49m\u001b[43m(\u001b[49m\u001b[43m)\u001b[49m\n",
      "\u001b[1;31mTypeError\u001b[0m: 'str' object is not callable"
     ]
    }
   ],
   "source": [
    "new_hello(\"Ciao\")  # nu se poate \"Ciao\"() "
   ]
  },
  {
   "cell_type": "code",
   "execution_count": 74,
   "id": "129ab2c5",
   "metadata": {},
   "outputs": [],
   "source": [
    "def greetings():\n",
    "    print(\"Greeting to you\")"
   ]
  },
  {
   "cell_type": "code",
   "execution_count": 75,
   "id": "fc8b0f35",
   "metadata": {},
   "outputs": [
    {
     "name": "stdout",
     "output_type": "stream",
     "text": [
      "Hello students!\n",
      "Greeting to you\n"
     ]
    }
   ],
   "source": [
    "new_hello(greetings)"
   ]
  },
  {
   "cell_type": "code",
   "execution_count": 77,
   "id": "35e8a7ac",
   "metadata": {},
   "outputs": [],
   "source": [
    "def func_needs_decoration():\n",
    "    print(\"I wanna be decorated\")"
   ]
  },
  {
   "cell_type": "code",
   "execution_count": 79,
   "id": "e4c45f1c",
   "metadata": {},
   "outputs": [
    {
     "name": "stdout",
     "output_type": "stream",
     "text": [
      "I wanna be decorated\n"
     ]
    }
   ],
   "source": [
    "func_needs_decoration()"
   ]
  },
  {
   "cell_type": "code",
   "execution_count": 78,
   "id": "d027003b",
   "metadata": {},
   "outputs": [],
   "source": [
    "def new_decorator(original_func):\n",
    "    def wrapper_func():\n",
    "        print(\"Some code before original func\")\n",
    "        \n",
    "        original_func()\n",
    "        \n",
    "        print(\"Some code after original func\")\n",
    "    \n",
    "    return wrapper_func"
   ]
  },
  {
   "cell_type": "code",
   "execution_count": 80,
   "id": "33a2e983",
   "metadata": {},
   "outputs": [],
   "source": [
    "@new_decorator\n",
    "def func_needs_decoration():\n",
    "    print(\"I wanna be decorated\")"
   ]
  },
  {
   "cell_type": "code",
   "execution_count": 81,
   "id": "eba5373f",
   "metadata": {},
   "outputs": [
    {
     "name": "stdout",
     "output_type": "stream",
     "text": [
      "Some code before original func\n",
      "I wanna be decorated\n",
      "Some code after original func\n"
     ]
    }
   ],
   "source": [
    "func_needs_decoration()"
   ]
  },
  {
   "cell_type": "code",
   "execution_count": null,
   "id": "4b38ef39",
   "metadata": {},
   "outputs": [],
   "source": [
    "@is_logged\n",
    "def pagina_serialului():\n",
    "    return render(some_page.html)"
   ]
  },
  {
   "cell_type": "code",
   "execution_count": 82,
   "id": "8f4cc73a",
   "metadata": {},
   "outputs": [],
   "source": [
    "# Use-case-uri pentru decoratori\n",
    "# - site-uri web care vor sa serveasca pagini doar utilizatorilor conectati/abonati\n",
    "# - caching pentru resursele cerute frecvent"
   ]
  },
  {
   "cell_type": "code",
   "execution_count": 84,
   "id": "87a91979",
   "metadata": {},
   "outputs": [],
   "source": [
    "@caching\n",
    "def show_football_results(a_team):\n",
    "    return f\"Rezultatele echipei {a_team} sunt: ...\""
   ]
  },
  {
   "cell_type": "code",
   "execution_count": 87,
   "id": "58d82a02",
   "metadata": {},
   "outputs": [
    {
     "data": {
      "text/plain": [
       "'Rezultatele echipei Romania sunt: ...'"
      ]
     },
     "execution_count": 87,
     "metadata": {},
     "output_type": "execute_result"
    }
   ],
   "source": [
    "show_football_results(\"Romania\")"
   ]
  },
  {
   "cell_type": "code",
   "execution_count": 88,
   "id": "4e44d987",
   "metadata": {},
   "outputs": [
    {
     "data": {
      "text/plain": [
       "'Rezultatele echipei Romania sunt: ...'"
      ]
     },
     "execution_count": 88,
     "metadata": {},
     "output_type": "execute_result"
    }
   ],
   "source": [
    "show_football_results(\"Romania\")   # a doua oara nu se mai cer datele din DB, ci se incarca din memoria cache"
   ]
  },
  {
   "cell_type": "code",
   "execution_count": null,
   "id": "83e64a48",
   "metadata": {},
   "outputs": [],
   "source": []
  },
  {
   "cell_type": "code",
   "execution_count": 104,
   "id": "447909f3",
   "metadata": {},
   "outputs": [],
   "source": [
    "def hello():\n",
    "    print(\"Hello Pythonistas\")"
   ]
  },
  {
   "cell_type": "code",
   "execution_count": 105,
   "id": "778f15e4",
   "metadata": {},
   "outputs": [
    {
     "name": "stdout",
     "output_type": "stream",
     "text": [
      "Hello Pythonistas\n"
     ]
    }
   ],
   "source": [
    "hello()"
   ]
  },
  {
   "cell_type": "code",
   "execution_count": 90,
   "id": "913b3c7b",
   "metadata": {},
   "outputs": [],
   "source": [
    "def greetings():\n",
    "    print(\"Greetings to you\")"
   ]
  },
  {
   "cell_type": "code",
   "execution_count": 99,
   "id": "19aa551f",
   "metadata": {},
   "outputs": [],
   "source": [
    "def salut(name):\n",
    "    print(f\"Salut, {name}\")"
   ]
  },
  {
   "cell_type": "code",
   "execution_count": 94,
   "id": "008eb90f",
   "metadata": {},
   "outputs": [
    {
     "name": "stdout",
     "output_type": "stream",
     "text": [
      "Hello Pythonistas\n",
      "Greetings to you\n",
      "Salut, Python\n"
     ]
    }
   ],
   "source": [
    "greetings()\n",
    "salut(\"Python\")"
   ]
  },
  {
   "cell_type": "code",
   "execution_count": 135,
   "id": "7b312cdb",
   "metadata": {},
   "outputs": [],
   "source": [
    "# Vrem sa scriem un decorator care sa functioneze pe toate cele 3 functii si care sa\n",
    "# - afiseze \"Entering function <numele_functiei>\"\n",
    "# - ruleze functia\n",
    "# - afiseze \"Leaving function <numele_functiei>\"\n",
    "def decorator_greets(original_func):\n",
    "    def wrapper_func(*args):\n",
    "        func_name = original_func.__name__\n",
    "        print(f\"Entering function {func_name}\")\n",
    "        \n",
    "        original_func(*args)\n",
    "        \n",
    "        print(f\"Leaving function {func_name}\")\n",
    "    \n",
    "    return wrapper_func"
   ]
  },
  {
   "cell_type": "code",
   "execution_count": 98,
   "id": "78deb171",
   "metadata": {},
   "outputs": [
    {
     "name": "stdout",
     "output_type": "stream",
     "text": [
      "Nume functie = hi\n",
      "Hi, Python\n"
     ]
    }
   ],
   "source": [
    "def hi(name):\n",
    "    print(f\"Nume functie = {hi.__name__}\")\n",
    "    print(f\"Hi, {name}\")\n",
    "\n",
    "hi(\"Python\")"
   ]
  },
  {
   "cell_type": "code",
   "execution_count": 136,
   "id": "6efe7396",
   "metadata": {},
   "outputs": [],
   "source": [
    "@decorator_greets\n",
    "def hello():\n",
    "    print(\"Hello Pythonistas\")"
   ]
  },
  {
   "cell_type": "code",
   "execution_count": 137,
   "id": "291e4093",
   "metadata": {},
   "outputs": [
    {
     "name": "stdout",
     "output_type": "stream",
     "text": [
      "Entering function hello\n",
      "Hello Pythonistas\n",
      "Leaving function hello\n"
     ]
    }
   ],
   "source": [
    "hello()"
   ]
  },
  {
   "cell_type": "code",
   "execution_count": 138,
   "id": "0e3bf560",
   "metadata": {},
   "outputs": [],
   "source": [
    "@decorator_greets\n",
    "def greetings():\n",
    "    print(\"Greetings to you\")"
   ]
  },
  {
   "cell_type": "code",
   "execution_count": 139,
   "id": "0ae2d0fc",
   "metadata": {},
   "outputs": [
    {
     "name": "stdout",
     "output_type": "stream",
     "text": [
      "Entering function greetings\n",
      "Greetings to you\n",
      "Leaving function greetings\n"
     ]
    }
   ],
   "source": [
    "greetings()"
   ]
  },
  {
   "cell_type": "code",
   "execution_count": 140,
   "id": "5e78918f",
   "metadata": {},
   "outputs": [],
   "source": [
    "@decorator_greets\n",
    "def salut(name):\n",
    "    print(f\"Salut, {name}\")"
   ]
  },
  {
   "cell_type": "code",
   "execution_count": 141,
   "id": "f8c17062",
   "metadata": {},
   "outputs": [
    {
     "name": "stdout",
     "output_type": "stream",
     "text": [
      "Entering function salut\n",
      "Salut, Python\n",
      "Leaving function salut\n"
     ]
    }
   ],
   "source": [
    "salut(\"Python\")"
   ]
  },
  {
   "cell_type": "code",
   "execution_count": 142,
   "id": "8e9f4236",
   "metadata": {},
   "outputs": [
    {
     "name": "stdout",
     "output_type": "stream",
     "text": [
      "Entering function salut\n",
      "Salut, JavaScript\n",
      "Leaving function salut\n"
     ]
    }
   ],
   "source": [
    "salut(\"JavaScript\")"
   ]
  },
  {
   "cell_type": "code",
   "execution_count": 125,
   "id": "4aca77f5",
   "metadata": {},
   "outputs": [
    {
     "data": {
      "text/plain": [
       "11"
      ]
     },
     "execution_count": 125,
     "metadata": {},
     "output_type": "execute_result"
    }
   ],
   "source": [
    "def sum2nr(a,b):\n",
    "    return a+b\n",
    "\n",
    "sum2nr(5,6)"
   ]
  },
  {
   "cell_type": "code",
   "execution_count": 131,
   "id": "e0abf68e",
   "metadata": {},
   "outputs": [
    {
     "data": {
      "text/plain": [
       "11"
      ]
     },
     "execution_count": 131,
     "metadata": {},
     "output_type": "execute_result"
    }
   ],
   "source": [
    "def sumNnr(*args):\n",
    "    # args e o tupla cu un numar nedefinit de elemente\n",
    "#     s = 0\n",
    "#     for n in args:\n",
    "#         s+=n\n",
    "#     return s\n",
    "    return sum(args)\n",
    "    \n",
    "sumNnr(5,6)\n"
   ]
  },
  {
   "cell_type": "code",
   "execution_count": 132,
   "id": "9cb5e4ed",
   "metadata": {},
   "outputs": [
    {
     "data": {
      "text/plain": [
       "111"
      ]
     },
     "execution_count": 132,
     "metadata": {},
     "output_type": "execute_result"
    }
   ],
   "source": [
    "sumNnr(5,6,100)\n"
   ]
  },
  {
   "cell_type": "code",
   "execution_count": 133,
   "id": "17efd393",
   "metadata": {},
   "outputs": [
    {
     "data": {
      "text/plain": [
       "111"
      ]
     },
     "execution_count": 133,
     "metadata": {},
     "output_type": "execute_result"
    }
   ],
   "source": [
    "sumNnr(32,14,1,2,3,59)\n"
   ]
  },
  {
   "cell_type": "code",
   "execution_count": 134,
   "id": "5366bb71",
   "metadata": {},
   "outputs": [
    {
     "data": {
      "text/plain": [
       "0"
      ]
     },
     "execution_count": 134,
     "metadata": {},
     "output_type": "execute_result"
    }
   ],
   "source": [
    "sumNnr()"
   ]
  },
  {
   "cell_type": "code",
   "execution_count": 143,
   "id": "1d106855",
   "metadata": {},
   "outputs": [
    {
     "ename": "NameError",
     "evalue": "name 'tva_decorator' is not defined",
     "output_type": "error",
     "traceback": [
      "\u001b[1;31m---------------------------------------------------------------------------\u001b[0m",
      "\u001b[1;31mNameError\u001b[0m                                 Traceback (most recent call last)",
      "Cell \u001b[1;32mIn [143], line 3\u001b[0m\n\u001b[0;32m      1\u001b[0m \u001b[38;5;66;03m# Tema: Avand functiile get_phone_price(price) si get_laptop_price(price), scrieti un decorator tva_decorator\u001b[39;00m\n\u001b[0;32m      2\u001b[0m \u001b[38;5;66;03m# pt cele 2 functii care sa returneze pretul produsului cu TVA adaugat (19%).\u001b[39;00m\n\u001b[1;32m----> 3\u001b[0m \u001b[38;5;129m@tva_decorator\u001b[39m\n\u001b[0;32m      4\u001b[0m \u001b[38;5;28;01mdef\u001b[39;00m \u001b[38;5;21mget_phone_price\u001b[39m(price):\n\u001b[0;32m      5\u001b[0m     \u001b[38;5;28mprint\u001b[39m(\u001b[38;5;124mf\u001b[39m\u001b[38;5;124m\"\u001b[39m\u001b[38;5;124mPrice of phone is: \u001b[39m\u001b[38;5;132;01m{\u001b[39;00mprice\u001b[38;5;132;01m}\u001b[39;00m\u001b[38;5;124m\"\u001b[39m)\n\u001b[0;32m      6\u001b[0m     \u001b[38;5;28;01mreturn\u001b[39;00m price\n",
      "\u001b[1;31mNameError\u001b[0m: name 'tva_decorator' is not defined"
     ]
    }
   ],
   "source": [
    "# Tema Ex01: Avand functiile get_phone_price(price) si get_laptop_price(price), scrieti un decorator tva_decorator\n",
    "# pt cele 2 functii care sa returneze pretul produsului cu TVA adaugat (19%).\n",
    "@tva_decorator\n",
    "def get_phone_price(price):\n",
    "    print(f\"Price of phone is: {price}\")\n",
    "    return price\n",
    "\n",
    "@tva_decorator\n",
    "def get_laptop_price(price):\n",
    "    print(f\"Price of laptop is: {price}\")\n",
    "    return price\n",
    "\n",
    "\n",
    "get_phone_price(1000)\n",
    "# => Price of phone is 1000\n",
    "# => Price of phone with TVA added is 1190"
   ]
  },
  {
   "cell_type": "code",
   "execution_count": null,
   "id": "a4e931a4",
   "metadata": {},
   "outputs": [],
   "source": [
    "# Tema Ex02: Incercati sa mai adaugati un decorator functiilor pentru a oferi reducere \n",
    "# Bonus: discount sa fie optional cu valoare default 10 %\n"
   ]
  }
 ],
 "metadata": {
  "kernelspec": {
   "display_name": "Python 3 (ipykernel)",
   "language": "python",
   "name": "python3"
  },
  "language_info": {
   "codemirror_mode": {
    "name": "ipython",
    "version": 3
   },
   "file_extension": ".py",
   "mimetype": "text/x-python",
   "name": "python",
   "nbconvert_exporter": "python",
   "pygments_lexer": "ipython3",
   "version": "3.9.13"
  }
 },
 "nbformat": 4,
 "nbformat_minor": 5
}
