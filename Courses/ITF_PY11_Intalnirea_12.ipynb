{
 "cells": [
  {
   "cell_type": "markdown",
   "id": "9127ab81",
   "metadata": {},
   "source": [
    "# Design Patterns"
   ]
  },
  {
   "cell_type": "code",
   "execution_count": 1,
   "id": "6d842e2f",
   "metadata": {},
   "outputs": [],
   "source": [
    "# design pattern-urile sunt un set de \"good practices\" dupa care se ghideaza scrierea de cod OOP\n",
    "# sunt conventii/strategii folosite pentru a rezolva probleme recurente, nu sunt implementare in sine"
   ]
  },
  {
   "cell_type": "code",
   "execution_count": 2,
   "id": "d5d598f8",
   "metadata": {},
   "outputs": [],
   "source": [
    "# tipuri de Desing Patterns:\n",
    "# - Creational DP\n",
    "# - Structural DP\n",
    "# - Behavioral DP"
   ]
  },
  {
   "cell_type": "code",
   "execution_count": 15,
   "id": "8583572f",
   "metadata": {},
   "outputs": [
    {
     "name": "stdout",
     "output_type": "stream",
     "text": [
      "Ioan\n",
      "IT\n",
      "2874419224096\n",
      "Maria\n",
      "IT\n",
      "2874419224096\n",
      "Maria\n",
      "2874419224096\n"
     ]
    }
   ],
   "source": [
    "# Singleton - pattern creational care permite crearea unei singure instante de clasa pe durata executiei unui program\n",
    "# - util in a limita accesul concurent la anumite resurse, creand un punct de acces global\n",
    "class SingletonExampleClass:   # ii dam ce nume vrem...\n",
    "    __instance = None\n",
    "    sector = \"IT\"\n",
    "\n",
    "    def __init__(self, name):\n",
    "        self.name = name\n",
    "    \n",
    "    def __new__(cls, *args):  # metoda magica ce se apeleaza inaintea __init__ la crearea unui obiect\n",
    "        if cls.__instance is None:\n",
    "            cls.__instance = object.__new__(cls)\n",
    "        return cls.__instance\n",
    "\n",
    "    \n",
    "obj1 = SingletonExampleClass(\"Ioan\")  # obj1 e obiect instanta\n",
    "print(obj1.name)\n",
    "print(obj1.sector)\n",
    "print(id(obj1))\n",
    "\n",
    "obj2 = SingletonExampleClass(\"Maria\")\n",
    "print(obj2.name)\n",
    "print(obj2.sector)\n",
    "print(id(obj2))\n",
    "\n",
    "print(obj1.name)\n",
    "\n",
    "obj3 = SingletonExampleClass(\"Petre\")\n",
    "print(id(obj3))\n",
    "\n",
    "\n",
    "# mgmt memorie Python\n",
    "a = 10   # in memorie vom avea un obiect 10\n",
    "b = 10   # care va avea 2 referinte (pe a si b)"
   ]
  },
  {
   "cell_type": "code",
   "execution_count": 37,
   "id": "eb0ff599",
   "metadata": {},
   "outputs": [
    {
     "name": "stdout",
     "output_type": "stream",
     "text": [
      "You are driving the car!\n",
      "Sorry driver, you are too young to drive:(\n",
      "You are driving the car!\n"
     ]
    }
   ],
   "source": [
    "# Proxy: pattern structural care controleaza si administreaza accesul la obiectele pe care le protejeaza\n",
    "from abc import ABC, abstractmethod, ABCMeta\n",
    "\n",
    "class AbstractCar(ABC):\n",
    "#     __metaclass__ = ABCMeta\n",
    "    \n",
    "    @abstractmethod\n",
    "    def drive(self):\n",
    "        raise NotImplementedError(\"You should implement this.\")\n",
    "        \n",
    "    def description(self):\n",
    "        print(\"You are looking at a car!\")\n",
    "        \n",
    "class Car(AbstractCar):\n",
    "    def drive(self):\n",
    "        print(\"You are driving the car!\")\n",
    "        \n",
    "class Driver:\n",
    "    def __init__(self, age):\n",
    "        self.age = age\n",
    "        \n",
    "class ProxyCar(AbstractCar):\n",
    "    def __init__(self, driver):\n",
    "        self.car = Car()\n",
    "        self.driver = driver\n",
    "        \n",
    "    def drive(self):\n",
    "        if self.driver.age >= 18:\n",
    "            self.car.drive()\n",
    "        else:\n",
    "            print(\"Sorry driver, you are too young to drive:(\")\n",
    "        \n",
    "my_driver = Driver(16)\n",
    "car = Car()                       # Daca instantiem direct Car, nu avem constrangerea asupra varstei soferului\n",
    "car.drive()\n",
    "\n",
    "proxy_car = ProxyCar(my_driver)         # Daca in schimb instantiem obiectul ProxyCar, avem si verificarea varstei\n",
    "proxy_car.drive()\n",
    "\n",
    "\n",
    "my_driver = Driver(30)\n",
    "proxy_car = ProxyCar(my_driver)         \n",
    "proxy_car.drive()\n"
   ]
  },
  {
   "cell_type": "code",
   "execution_count": 22,
   "id": "a8caabf8",
   "metadata": {},
   "outputs": [
    {
     "name": "stdout",
     "output_type": "stream",
     "text": [
      "12\n",
      "24\n"
     ]
    }
   ],
   "source": [
    "def func():\n",
    "    a = 5   # variabile locale\n",
    "    b = 6\n",
    "    return a + b\n",
    "\n",
    "a = 12   # variabile globale\n",
    "b = 24\n",
    "c = func()\n",
    "print(a)\n",
    "print(b)"
   ]
  },
  {
   "cell_type": "code",
   "execution_count": 46,
   "id": "a37ec0e0",
   "metadata": {},
   "outputs": [
    {
     "name": "stdout",
     "output_type": "stream",
     "text": [
      "Sorry, you cannot study because your balance is too low...\n",
      "You are now studying in university...\n"
     ]
    }
   ],
   "source": [
    "# C12_EX01: Sa presupunem ca avem o clasa University care are o metoda studying_in_university pe care vrem sa o putem apela\n",
    "# doar in cazul in care studentul (clasa UniversityProxy) are suficienti bani (atributul balance) in cont pentru a finanta \n",
    "# un an la universitate (3000)\n",
    "class University:\n",
    "    def studying_in_university(self):\n",
    "        print(\"You are now studying in university...\")\n",
    "\n",
    "\n",
    "class UniversityProxy:\n",
    "    def __init__(self, balance):\n",
    "        self.balance = balance\n",
    "        self.university = University()\n",
    "        \n",
    "    def studying_in_university(self):\n",
    "        if self.balance >= 3000:\n",
    "#             print(\"You are now studying in university...\")\n",
    "            self.university.studying_in_university()\n",
    "        else:\n",
    "            print(\"Sorry, you cannot study because your balance is too low...\")\n",
    "        \n",
    "    \n",
    "uni_proxy1 = UniversityProxy(1000)\n",
    "uni_proxy1.studying_in_university()    # Sorry, you cannot study ....\n",
    "\n",
    "# uni_proxy2 = UniversityProxy(5000)\n",
    "uni_proxy1.balance = 5000\n",
    "uni_proxy1.studying_in_university()    # You are now studying in university....\n",
    "\n",
    "# Atentie, si daca o clasa nu are o functie implementata, o sa arunce tot o exceptie de tip AttributeError"
   ]
  },
  {
   "cell_type": "code",
   "execution_count": 38,
   "id": "d1f7d5fd",
   "metadata": {},
   "outputs": [
    {
     "data": {
      "text/plain": [
       "'Razvan'"
      ]
     },
     "execution_count": 38,
     "metadata": {},
     "output_type": "execute_result"
    }
   ],
   "source": [
    "import random\n",
    "random.choice([\"Florin\", \"Bogdan\", \"Razvan\", \"Stefan\", \"Roxana\"])"
   ]
  },
  {
   "cell_type": "code",
   "execution_count": 48,
   "id": "777ddecf",
   "metadata": {},
   "outputs": [
    {
     "name": "stdout",
     "output_type": "stream",
     "text": [
      "Got a new notification from I am: User observat with the message: Fiul dvs a primit o nota de 10 la materia Informatica!!\n",
      "Got a new notification from I am: User observat with the message: Fiul dvs a primit o nota de 10 la materia Informatica!!\n"
     ]
    }
   ],
   "source": [
    "# Observer: behavioral pattern care permite definirea unui mecanism de subscriptie folosit in a trimite notificari obiectelor \n",
    "# \"observator\" (observer) despre orice eveniment nou al obiectului \"observabil\" (observable)\n",
    "\n",
    "class ObservableAddUser:\n",
    "    name = \"User observat\"\n",
    "    \n",
    "    def __init__(self):\n",
    "        self._observers = []\n",
    "        \n",
    "    def __str__(self):\n",
    "        return f\"I am: {self.name}\"\n",
    "        \n",
    "    def register_observer(self, observer):    # functie care inregistreaza un Observer pentru obiectul nostru Observable\n",
    "        self._observers.append(observer)\n",
    "    \n",
    "    def notify_observers(self, message):\n",
    "        for obs in self._observers:       # fiecare Observer primeste o notificare prin apelul metodei notify a clasei Observer\n",
    "            obs.notify(self, message)\n",
    "    \n",
    "    \n",
    "class Observer:\n",
    "    def __init__(self, observable):\n",
    "        observable.register_observer(self)    # in momentul instantierii Observerului, acesta se inregistreaza in lista\n",
    "                                              # de observeri ai obiectului Observable\n",
    "    \n",
    "    def notify(self, observable, message):\n",
    "        print(f\"Got a new notification from {observable} with the message: {message}\")\n",
    "\n",
    "\n",
    "child = ObservableAddUser()\n",
    "obervator_father = Observer(child)\n",
    "obervator_mother = Observer(child)\n",
    "\n",
    "\n",
    "# child primeste o nota la Informatica si vrem sa notificam parintii\n",
    "child.notify_observers(\"Fiul dvs a primit o nota de 10 la materia Informatica!!\")   # in momentul apelului, ambele obiecte \n",
    "                                                                                    # observer primesc notificarea"
   ]
  }
 ],
 "metadata": {
  "kernelspec": {
   "display_name": "Python 3 (ipykernel)",
   "language": "python",
   "name": "python3"
  },
  "language_info": {
   "codemirror_mode": {
    "name": "ipython",
    "version": 3
   },
   "file_extension": ".py",
   "mimetype": "text/x-python",
   "name": "python",
   "nbconvert_exporter": "python",
   "pygments_lexer": "ipython3",
   "version": "3.9.13"
  }
 },
 "nbformat": 4,
 "nbformat_minor": 5
}
