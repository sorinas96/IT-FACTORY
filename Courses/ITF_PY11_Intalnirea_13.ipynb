{
 "cells": [
  {
   "cell_type": "markdown",
   "id": "93b88834",
   "metadata": {},
   "source": [
    "# REST APIs"
   ]
  },
  {
   "cell_type": "code",
   "execution_count": null,
   "id": "126d29cd",
   "metadata": {},
   "outputs": [],
   "source": [
    "# API = Application Programming Interface\n",
    "# - un API reprezinta cod care defineste un set de reguli si protocoale care permit aplicatiilor software sa comunice intre ele\n",
    "# e codul care def cum comunica aplicatiile\n",
    "# in general avem aplicatii: \n",
    "#     - client (front-end sau UI, cum arata o pagina web de exemplu)\n",
    "#     - server (back-end, avem functionalitatea si logica unei aplicatii, ce se intampla cand apasam pe un buton/link pe o pagina)\n",
    "\n",
    "# - in general API este un \"intermediar\" intre client/user si server/resurse/serviciile pe care doreste sa le utilizeze\n",
    "\n"
   ]
  },
  {
   "cell_type": "code",
   "execution_count": 9,
   "id": "dbdd0d2b",
   "metadata": {},
   "outputs": [
    {
     "name": "stdout",
     "output_type": "stream",
     "text": [
      "125\n"
     ]
    }
   ],
   "source": [
    "# C13_EX01: Daca presupunem urmatorul dictionar ca fiind resursele/baza noastra de date\n",
    "\n",
    "meniu = {\n",
    "    \"id_preparat_1\": {\n",
    "        \"nume\": \"omleta\",\n",
    "        \"gramaj\": 200,\n",
    "        \"pret\": 15\n",
    "    },\n",
    "    \"id_preparat_2\": {\n",
    "        \"nume\": \"steak de vita\",\n",
    "        \"gramaj\": 350,\n",
    "        \"pret\": 125\n",
    "    },\n",
    "    \"id_preparat_3\": {\n",
    "        \"nume\": \"salata\",\n",
    "        \"gramaj\": 300,\n",
    "        \"pret\": 30\n",
    "    },\n",
    "}\n",
    "\n",
    "# API de a afla pretul unui preparat \n",
    "def afla_pret(alegere):\n",
    "    for preparat_id in meniu:\n",
    "        if meniu[preparat_id]['nume'] == alegere:\n",
    "            return meniu[preparat_id]['pret']\n",
    "    \n",
    "print(afla_pret(\"steak de vita\"))  # => 125"
   ]
  },
  {
   "cell_type": "code",
   "execution_count": 1,
   "id": "9628c2ba",
   "metadata": {},
   "outputs": [
    {
     "data": {
      "text/plain": [
       "'Roxana'"
      ]
     },
     "execution_count": 1,
     "metadata": {},
     "output_type": "execute_result"
    }
   ],
   "source": [
    "import random\n",
    "random.choice([\"Catalin\", \"Dorinel\", \"Florin\", \"Sorina\", \"Stefan\", \"Roxana\"])"
   ]
  },
  {
   "cell_type": "code",
   "execution_count": 6,
   "id": "30f63d0a",
   "metadata": {},
   "outputs": [
    {
     "name": "stdout",
     "output_type": "stream",
     "text": [
      "dict_values(['omleta', 'steak de vita', 'salata'])\n",
      "omleta\n",
      "steak de vita\n",
      "salata\n"
     ]
    }
   ],
   "source": [
    "meniu = {\n",
    "    \"preparat1\": \"omleta\",\n",
    "    \"preparat2\": \"steak de vita\",\n",
    "    \"preparat3\": \"salata\",\n",
    "}\n",
    "# v1 - cu .values()\n",
    "print(meniu.values())\n",
    "\n",
    "# v2 - cu for\n",
    "for key in meniu:\n",
    "    print(meniu[key])"
   ]
  },
  {
   "cell_type": "code",
   "execution_count": null,
   "id": "12b94ca6",
   "metadata": {},
   "outputs": [],
   "source": [
    "# request = mesaj trimis de catre client/user catre un server pentru a initia o actiune (de ex: user cere o resursa de la server,\n",
    "# cum ar fi o lista cu carti ale unui anumite autor dintr-o baza de date biblioteca)"
   ]
  },
  {
   "cell_type": "markdown",
   "id": "4b0b06a5",
   "metadata": {},
   "source": [
    "# HTTP Requests"
   ]
  },
  {
   "cell_type": "code",
   "execution_count": 11,
   "id": "3111147d",
   "metadata": {},
   "outputs": [],
   "source": [
    "# HTTP(S) = HyperText Transfer Protocol (Secure)\n",
    "# - e un protocol de transfer de date sub forma de text pe internet"
   ]
  },
  {
   "cell_type": "code",
   "execution_count": null,
   "id": "9e0ad257",
   "metadata": {},
   "outputs": [],
   "source": [
    "# partile componente ale unui request HTTP:\n",
    "# 1. request URI/URL (aka endpoint, de ex: https://some_book_website.com/author/jkrowling/)\n",
    "# 2. metoda (GET/POST/DELETE/PUT/PATCH)\n",
    "# 3. headers: detalii despre mesaj (de ex: ce fel de mesaj e JSON, XML, HTML..; ce lungime mesajul; ce tip de client )\n",
    "# 4. request body: mesajul requestului; avem in cazul requesturilor POST asa se transmit datele (ex: cream un nou user)\n",
    "\n",
    "\n",
    "# partile componente ale unui response:\n",
    "# 1. status code:\n",
    "#    - informationale: 100 - 199\n",
    "#    - succes: 200 - 299\n",
    "#    - redirectionale: 300 - 399\n",
    "#    - erori client:  400 - 499\n",
    "#    - erori server: 500 - 599\n",
    "# 2. response body: mesajul cu informatia/resursa ceruta"
   ]
  },
  {
   "cell_type": "code",
   "execution_count": null,
   "id": "60971b3f",
   "metadata": {},
   "outputs": [],
   "source": [
    "# GET requests:\n",
    "# - folosite pentru a cere informatie/resurse de la server\n",
    "# - nu au request body\n",
    "# - informatia apare in URL sub forma de parametrii\n",
    "\n",
    "# POST requests:\n",
    "# - folosite pentru a trimite informatie catre server\n",
    "# - au request body, unde se incarca datele de trimis\n",
    "# - informatia nu apare in URL\n",
    "\n",
    "# DELETE:\n",
    "# - folosite pentru a sterge o resursa\n",
    "\n",
    "# PUT:\n",
    "# - folosite pentru a actualiza integral o resursa (in cazul in care ea nu exista, se poate sau nu crea)\n",
    "# - are fie request body, fie parametrii\n",
    "\n",
    "# PATCH:\n",
    "# - folosite pentru a actualiza partial o resursa (anumite field-uri) de ex: {'username':,... 'password':.., 'age': 21, 'is_logged': False} => actualizam doar 'age' nu si restul"
   ]
  },
  {
   "cell_type": "code",
   "execution_count": null,
   "id": "6cfdf45a",
   "metadata": {},
   "outputs": [],
   "source": [
    "# Cum implementam o functionalitate de login??\n",
    "# username\n",
    "# password\n",
    "\n",
    "\n",
    "# ex de login cu GET\n",
    "# https://my_website.come/login/username=xulescu&password=parolasecreta   => asa nu\n",
    "\n",
    "# ex de login cu POST\n",
    "# https://my_website.come/login/\n",
    "# request body: {\"username\": \"xulescu\", \"password\": \"parolasecreta\"}   => asa da"
   ]
  },
  {
   "cell_type": "code",
   "execution_count": 12,
   "id": "75c7d6e7",
   "metadata": {},
   "outputs": [],
   "source": [
    "# Corespondentii metodelor HTTP in baze de date:\n",
    "\n",
    "# CRUD Operations (Create-Read-Update-Delete) - sunt operatiile ce pot fi facute pe o baza de date si sunt aferente metodelor HTTP "
   ]
  },
  {
   "cell_type": "code",
   "execution_count": 21,
   "id": "77667aa1",
   "metadata": {},
   "outputs": [],
   "source": [
    "# Pt a testa HTTP Requests, in python exista libraria requests\n",
    "import requests\n",
    "# ! requests trebuie instalat cu pip install requests\n",
    "\n",
    "r = requests.get(\"https://official-joke-api.appspot.com/random_joke\")"
   ]
  },
  {
   "cell_type": "code",
   "execution_count": 22,
   "id": "6dfae1ed",
   "metadata": {},
   "outputs": [
    {
     "data": {
      "text/plain": [
       "200"
      ]
     },
     "execution_count": 22,
     "metadata": {},
     "output_type": "execute_result"
    }
   ],
   "source": [
    "r.status_code"
   ]
  },
  {
   "cell_type": "code",
   "execution_count": 23,
   "id": "04e5b8e2",
   "metadata": {},
   "outputs": [
    {
     "data": {
      "text/plain": [
       "b'{\"id\":323,\"type\":\"general\",\"setup\":\"Why can\\xe2\\x80\\x99t you hear a pterodactyl go to the bathroom?\",\"punchline\":\"The p is silent.\"}'"
      ]
     },
     "execution_count": 23,
     "metadata": {},
     "output_type": "execute_result"
    }
   ],
   "source": [
    "r.content"
   ]
  },
  {
   "cell_type": "code",
   "execution_count": 24,
   "id": "c8aceec7",
   "metadata": {},
   "outputs": [
    {
     "data": {
      "text/plain": [
       "'{\"id\":323,\"type\":\"general\",\"setup\":\"Why can’t you hear a pterodactyl go to the bathroom?\",\"punchline\":\"The p is silent.\"}'"
      ]
     },
     "execution_count": 24,
     "metadata": {},
     "output_type": "execute_result"
    }
   ],
   "source": [
    "r.text"
   ]
  },
  {
   "cell_type": "code",
   "execution_count": 25,
   "id": "9c6d4961",
   "metadata": {},
   "outputs": [
    {
     "data": {
      "text/plain": [
       "{'id': 323,\n",
       " 'type': 'general',\n",
       " 'setup': 'Why can’t you hear a pterodactyl go to the bathroom?',\n",
       " 'punchline': 'The p is silent.'}"
      ]
     },
     "execution_count": 25,
     "metadata": {},
     "output_type": "execute_result"
    }
   ],
   "source": [
    "r.json()"
   ]
  },
  {
   "cell_type": "code",
   "execution_count": null,
   "id": "a339704a",
   "metadata": {},
   "outputs": [],
   "source": []
  },
  {
   "cell_type": "code",
   "execution_count": 26,
   "id": "a1455697",
   "metadata": {},
   "outputs": [
    {
     "data": {
      "text/plain": [
       "{'User-Agent': 'python-requests/2.28.1', 'Accept-Encoding': 'gzip, deflate', 'Accept': '*/*', 'Connection': 'keep-alive'}"
      ]
     },
     "execution_count": 26,
     "metadata": {},
     "output_type": "execute_result"
    }
   ],
   "source": [
    "r.request.headers  # headerele trimise cu request`ul"
   ]
  },
  {
   "cell_type": "code",
   "execution_count": 28,
   "id": "08541624",
   "metadata": {},
   "outputs": [
    {
     "data": {
      "text/plain": [
       "{'Content-Type': 'application/json; charset=utf-8', 'Vary': 'Accept-Encoding', 'X-Powered-By': 'Express', 'Access-Control-Allow-Origin': '*', 'ETag': 'W/\"7b-BkL4OtlywttIoTj4sOekITYFLVE\"', 'Content-Encoding': 'gzip', 'X-Cloud-Trace-Context': '72e2c872085493f565bda180b633e000', 'Date': 'Mon, 12 Dec 2022 17:36:08 GMT', 'Server': 'Google Frontend', 'Cache-Control': 'private', 'Alt-Svc': 'h3=\":443\"; ma=2592000,h3-29=\":443\"; ma=2592000,h3-Q050=\":443\"; ma=2592000,h3-Q046=\":443\"; ma=2592000,h3-Q043=\":443\"; ma=2592000,quic=\":443\"; ma=2592000; v=\"46,43\"', 'Transfer-Encoding': 'chunked'}"
      ]
     },
     "execution_count": 28,
     "metadata": {},
     "output_type": "execute_result"
    }
   ],
   "source": [
    "r.headers  # headerele primite pe raspuns"
   ]
  },
  {
   "cell_type": "code",
   "execution_count": 29,
   "id": "e9e2e86f",
   "metadata": {},
   "outputs": [],
   "source": [
    "my_headers = {'User-Agent': 'Mozilla/5.0 (Windows NT 10.0; Win64; x64) AppleWebKit/537.36 (KHTML, like Gecko) Chrome/108.0.0.0 Safari/537.36 Edg/108.0.1462.46',\n",
    "          'Content-type': 'application/json'}"
   ]
  },
  {
   "cell_type": "code",
   "execution_count": 30,
   "id": "b200a764",
   "metadata": {},
   "outputs": [],
   "source": [
    "r = requests.get(url=\"https://official-joke-api.appspot.com/random_joke\", headers=my_headers)"
   ]
  },
  {
   "cell_type": "code",
   "execution_count": 31,
   "id": "15a48638",
   "metadata": {},
   "outputs": [
    {
     "data": {
      "text/plain": [
       "{'id': 185,\n",
       " 'type': 'general',\n",
       " 'setup': 'What did the grape do when he got stepped on?',\n",
       " 'punchline': 'He let out a little wine.'}"
      ]
     },
     "execution_count": 31,
     "metadata": {},
     "output_type": "execute_result"
    }
   ],
   "source": [
    "r.json()"
   ]
  },
  {
   "cell_type": "code",
   "execution_count": 32,
   "id": "b7cf858c",
   "metadata": {},
   "outputs": [
    {
     "data": {
      "text/plain": [
       "{'User-Agent': 'Mozilla/5.0 (Windows NT 10.0; Win64; x64) AppleWebKit/537.36 (KHTML, like Gecko) Chrome/108.0.0.0 Safari/537.36 Edg/108.0.1462.46', 'Accept-Encoding': 'gzip, deflate', 'Accept': '*/*', 'Connection': 'keep-alive', 'Content-type': 'application/json'}"
      ]
     },
     "execution_count": 32,
     "metadata": {},
     "output_type": "execute_result"
    }
   ],
   "source": [
    "r.request.headers"
   ]
  },
  {
   "cell_type": "code",
   "execution_count": 33,
   "id": "25813428",
   "metadata": {},
   "outputs": [
    {
     "data": {
      "text/plain": [
       "'https://official-joke-api.appspot.com/random_joke'"
      ]
     },
     "execution_count": 33,
     "metadata": {},
     "output_type": "execute_result"
    }
   ],
   "source": [
    "r.url"
   ]
  },
  {
   "cell_type": "code",
   "execution_count": 34,
   "id": "29039370",
   "metadata": {},
   "outputs": [
    {
     "data": {
      "text/plain": [
       "requests.models.Response"
      ]
     },
     "execution_count": 34,
     "metadata": {},
     "output_type": "execute_result"
    }
   ],
   "source": [
    "type(r)"
   ]
  },
  {
   "cell_type": "code",
   "execution_count": 35,
   "id": "3209fc64",
   "metadata": {},
   "outputs": [],
   "source": [
    "# requesturile get pot avea si parametrii in URL, acestia sunt in general separati de restul URL printr`un ?\n",
    "# si reprezentati sub forma de key1=value1&key2=value2"
   ]
  },
  {
   "cell_type": "code",
   "execution_count": 36,
   "id": "08a16636",
   "metadata": {},
   "outputs": [
    {
     "name": "stdout",
     "output_type": "stream",
     "text": [
      "200\n",
      "https://api.genderize.io/?name=Vlad\n",
      "{'count': 37719, 'gender': 'male', 'name': 'Vlad', 'probability': 0.98}\n"
     ]
    }
   ],
   "source": [
    "# API care prezice genul unei persoane in functie de nume\n",
    "url = \"https://api.genderize.io/?name=Vlad\"\n",
    "\n",
    "r = requests.get(url)\n",
    "print(r.status_code)\n",
    "print(r.url)\n",
    "print(r.json())"
   ]
  },
  {
   "cell_type": "code",
   "execution_count": 37,
   "id": "4ed5ad32",
   "metadata": {},
   "outputs": [
    {
     "name": "stdout",
     "output_type": "stream",
     "text": [
      "200\n",
      "https://api.genderize.io/?name=Andrea\n",
      "{'count': 1058881, 'gender': 'female', 'name': 'Andrea', 'probability': 0.82}\n"
     ]
    }
   ],
   "source": [
    "url = \"https://api.genderize.io/\"\n",
    "query_params = {\"name\": \"Andrea\"}\n",
    "\n",
    "r = requests.get(url=url, params=query_params)\n",
    "print(r.status_code)\n",
    "print(r.url)\n",
    "print(r.json())"
   ]
  },
  {
   "cell_type": "code",
   "execution_count": 41,
   "id": "7cbfe382",
   "metadata": {},
   "outputs": [],
   "source": [
    "requests.post?"
   ]
  },
  {
   "cell_type": "markdown",
   "id": "cd7eb052",
   "metadata": {},
   "source": [
    "# Flask"
   ]
  },
  {
   "cell_type": "code",
   "execution_count": 42,
   "id": "f0be4f01",
   "metadata": {},
   "outputs": [],
   "source": [
    "# flask e un micro web-framework scris in Python\n",
    "# web-framework-urile sunt librarii care ofera cod (clase, functii) gata implementat pentru a a rezolva anumite \n",
    "# probleme recurente din programarea web, sunt un fel de schita/fundatie pentru a crea app web"
   ]
  },
  {
   "cell_type": "code",
   "execution_count": null,
   "id": "56d7f733",
   "metadata": {},
   "outputs": [],
   "source": [
    "# pt a instala flask, din terminal:\n",
    "# pip install flask"
   ]
  },
  {
   "cell_type": "code",
   "execution_count": null,
   "id": "9a5c61c9",
   "metadata": {},
   "outputs": [],
   "source": [
    "{\n",
    "    \"users\": [\n",
    "        {\n",
    "            \"id\": \"uid1\",\n",
    "            \"username\": \"primul\",\n",
    "            \"password\": \"111\",\n",
    "            \"subscription_type\": \"individual\",\n",
    "            \"email\": \"primul@gmail.ro\",\n",
    "            \"is_logged\": False\n",
    "        },\n",
    "        {\n",
    "            \"id\": \"uid2\",\n",
    "            \"username\": \"second\",\n",
    "            \"password\": \"222\",\n",
    "            \"subscription_type\": \"premium\",\n",
    "            \"email\": \"second@gmail.com\",\n",
    "            \"is_logged\": False\n",
    "        } \n",
    "    ],\n",
    "    \"shows\": [\n",
    "        {\n",
    "            \"id\": \"1231231\",\n",
    "            \"title\": \"Wednesday\"\n",
    "            \"type\": \"tv_series\",\n",
    "            \"providers_id\": [\"puid1\"]\n",
    "        },\n",
    "        {\n",
    "            \"id\": \"23411\",\n",
    "            \"title\": \"Mr. Robot\"\n",
    "            \"type\": \"tv_series\",\n",
    "            \"providers_id\": [\"puid1\"]\n",
    "        },\n",
    "        {\n",
    "            \"id\": \"34125\",\n",
    "            \"title\": \"Interstellar\"\n",
    "            \"type\": \"movie\",\n",
    "            \"providers_id\": [\"puid1\", \"puid2\"]\n",
    "        }\n",
    "    ],\n",
    "    \"providers\": [\n",
    "        {\n",
    "            \"id\": \"puid1\",\n",
    "            \"name\": \"Netflix\"\n",
    "            \"subscription_price\": 65,\n",
    "        },\n",
    "        {\n",
    "            \"id\": \"puid2\",\n",
    "            \"name\": \"HBO Max\"\n",
    "            \"subscription_price\": 30,\n",
    "        }\n",
    "    ]\n",
    "}"
   ]
  },
  {
   "cell_type": "code",
   "execution_count": 43,
   "id": "2f34aa14",
   "metadata": {},
   "outputs": [],
   "source": [
    "# Testam propriile noastre API-uri:\n",
    "\n",
    "r = requests.get(url=\"http://localhost:5000/\")"
   ]
  },
  {
   "cell_type": "code",
   "execution_count": 45,
   "id": "3d4064fc",
   "metadata": {},
   "outputs": [
    {
     "data": {
      "text/plain": [
       "200"
      ]
     },
     "execution_count": 45,
     "metadata": {},
     "output_type": "execute_result"
    }
   ],
   "source": [
    "r.status_code"
   ]
  },
  {
   "cell_type": "code",
   "execution_count": 46,
   "id": "6f80f1c2",
   "metadata": {},
   "outputs": [
    {
     "data": {
      "text/plain": [
       "{'message': 'Hello Pythonistas!!'}"
      ]
     },
     "execution_count": 46,
     "metadata": {},
     "output_type": "execute_result"
    }
   ],
   "source": [
    "r.json()"
   ]
  },
  {
   "cell_type": "code",
   "execution_count": 58,
   "id": "81670ffa",
   "metadata": {},
   "outputs": [],
   "source": [
    "message_to_send = {\"message\": \"Buna seara!!\"}\n",
    "r = requests.post(url=\"http://localhost:5000/display_message\", json=message_to_send)"
   ]
  },
  {
   "cell_type": "code",
   "execution_count": 59,
   "id": "b9683a34",
   "metadata": {},
   "outputs": [
    {
     "data": {
      "text/plain": [
       "200"
      ]
     },
     "execution_count": 59,
     "metadata": {},
     "output_type": "execute_result"
    }
   ],
   "source": [
    "r.status_code"
   ]
  },
  {
   "cell_type": "code",
   "execution_count": 60,
   "id": "fcf1a823",
   "metadata": {},
   "outputs": [
    {
     "data": {
      "text/plain": [
       "'\"Hello, the message to display is: Buna seara!!\"'"
      ]
     },
     "execution_count": 60,
     "metadata": {},
     "output_type": "execute_result"
    }
   ],
   "source": [
    "r.text"
   ]
  },
  {
   "cell_type": "code",
   "execution_count": 61,
   "id": "dbf14d0c",
   "metadata": {},
   "outputs": [
    {
     "data": {
      "text/plain": [
       "'Hello, the message to display is: Buna seara!!'"
      ]
     },
     "execution_count": 61,
     "metadata": {},
     "output_type": "execute_result"
    }
   ],
   "source": [
    "r.json()"
   ]
  },
  {
   "cell_type": "code",
   "execution_count": 64,
   "id": "10887468",
   "metadata": {},
   "outputs": [
    {
     "data": {
      "text/plain": [
       "'{\"message\": \"Buna seara!!\"}'"
      ]
     },
     "execution_count": 64,
     "metadata": {},
     "output_type": "execute_result"
    }
   ],
   "source": [
    "import json\n",
    "message_to_send = {\"message\": \"Buna seara!!\"}\n",
    "json.dumps(message_to_send)"
   ]
  },
  {
   "cell_type": "code",
   "execution_count": 66,
   "id": "9ddd5bd7",
   "metadata": {},
   "outputs": [
    {
     "data": {
      "text/plain": [
       "{'message': 'Buna seara!!'}"
      ]
     },
     "execution_count": 66,
     "metadata": {},
     "output_type": "execute_result"
    }
   ],
   "source": [
    "message_as_str = json.dumps(message_to_send)   # serializare\n",
    "json.loads(message_as_str)                     # deserializare"
   ]
  },
  {
   "cell_type": "code",
   "execution_count": null,
   "id": "b3fd5a8b",
   "metadata": {},
   "outputs": [],
   "source": []
  },
  {
   "cell_type": "code",
   "execution_count": 67,
   "id": "9cee4477",
   "metadata": {},
   "outputs": [
    {
     "data": {
      "text/plain": [
       "[{'id': 'uid1',\n",
       "  'username': 'primul',\n",
       "  'password': '111',\n",
       "  'subscription_type': 'individual',\n",
       "  'email': 'primul@gmail.ro',\n",
       "  'is_logged': False},\n",
       " {'id': 'uid2',\n",
       "  'username': 'second',\n",
       "  'password': '222',\n",
       "  'subscription_type': 'premium',\n",
       "  'email': 'second@gmail.com',\n",
       "  'is_logged': False}]"
      ]
     },
     "execution_count": 67,
     "metadata": {},
     "output_type": "execute_result"
    }
   ],
   "source": [
    "# GET all users\n",
    "r = requests.get(url=\"http://localhost:5000/users\")\n",
    "r.json()"
   ]
  },
  {
   "cell_type": "code",
   "execution_count": 68,
   "id": "166f4b49",
   "metadata": {},
   "outputs": [
    {
     "data": {
      "text/plain": [
       "{'id': 'uid1',\n",
       " 'username': 'primul',\n",
       " 'password': '111',\n",
       " 'subscription_type': 'individual',\n",
       " 'email': 'primul@gmail.ro',\n",
       " 'is_logged': False}"
      ]
     },
     "execution_count": 68,
     "metadata": {},
     "output_type": "execute_result"
    }
   ],
   "source": [
    "# GET user by id\n",
    "r = requests.get(url=\"http://localhost:5000/users/uid1\")\n",
    "r.json()"
   ]
  },
  {
   "cell_type": "code",
   "execution_count": null,
   "id": "bc4ffc98",
   "metadata": {},
   "outputs": [],
   "source": [
    "# TEMA: de terminat implementarea API-urilor ramase in streaming_service_app"
   ]
  },
  {
   "cell_type": "code",
   "execution_count": null,
   "id": "14923d54",
   "metadata": {},
   "outputs": [],
   "source": [
    "# UPDATE user by id\n",
    "update_data = {\"username\": \"primul_updatat\"}\n",
    "r = requests.patch(url=\"http://localhost:5000/users/update_user/uid1\", json=update_data)\n"
   ]
  },
  {
   "cell_type": "code",
   "execution_count": 70,
   "id": "bf1d9a61",
   "metadata": {},
   "outputs": [
    {
     "data": {
      "text/plain": [
       "UUID('4e40aaa3-ba17-49c6-9e68-6c2e7039795a')"
      ]
     },
     "execution_count": 70,
     "metadata": {},
     "output_type": "execute_result"
    }
   ],
   "source": [
    "# PS: pentru a genera id-uri random:\n",
    "import uuid\n",
    "uuid.uuid4() "
   ]
  },
  {
   "cell_type": "code",
   "execution_count": 71,
   "id": "9ffadc9a",
   "metadata": {},
   "outputs": [
    {
     "data": {
      "text/plain": [
       "'3eea2ce5-8b14-4d99-a198-e416c9a9d5c5'"
      ]
     },
     "execution_count": 71,
     "metadata": {},
     "output_type": "execute_result"
    }
   ],
   "source": [
    "str(uuid.uuid4())\n",
    "# astea se numesc UID-uri si sunt un string cu structura asta specifica, utilizate in general pe post de id in baze de date:)"
   ]
  },
  {
   "cell_type": "code",
   "execution_count": null,
   "id": "4ddfcb64",
   "metadata": {},
   "outputs": [],
   "source": [
    "# PPS:  "
   ]
  }
 ],
 "metadata": {
  "kernelspec": {
   "display_name": "Python 3 (ipykernel)",
   "language": "python",
   "name": "python3"
  },
  "language_info": {
   "codemirror_mode": {
    "name": "ipython",
    "version": 3
   },
   "file_extension": ".py",
   "mimetype": "text/x-python",
   "name": "python",
   "nbconvert_exporter": "python",
   "pygments_lexer": "ipython3",
   "version": "3.9.13"
  }
 },
 "nbformat": 4,
 "nbformat_minor": 5
}
