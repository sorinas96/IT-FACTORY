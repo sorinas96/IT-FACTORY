{
 "cells": [
  {
   "cell_type": "code",
   "execution_count": null,
   "id": "2e8bf0bb",
   "metadata": {},
   "outputs": [],
   "source": [
    "# 1.\n"
   ]
  },
  {
   "cell_type": "code",
   "execution_count": null,
   "id": "adbd902b",
   "metadata": {},
   "outputs": [],
   "source": [
    "# 2. Declarati si initializati cate o variabila din fiecare din urmatoarele tipuri:\n",
    "# string, int, float, bool\n",
    "# Valorile le alegeti voi dupa preferinte\n",
    "\n",
    "name = 'Sara'\n",
    "age = 10\n",
    "weight = 22.5\n",
    "is_good_girl = True"
   ]
  },
  {
   "cell_type": "code",
   "execution_count": null,
   "id": "522bc6bb",
   "metadata": {},
   "outputs": [],
   "source": [
    "# 3.Utilizat functia type pentru a verifica daca au tipul de date asteptat\n",
    "print(type(name))\n",
    "print(type(age))\n",
    "print(type(weight))\n",
    "print(type(is_good_girl))"
   ]
  },
  {
   "cell_type": "code",
   "execution_count": null,
   "id": "1d6f388f",
   "metadata": {},
   "outputs": [],
   "source": [
    "# 4. Rotunjiti float-ul folosind functia round() si salvati aceasta modificare in aceeasi variabila (suprascriere)\n",
    "# Verificati tipul acesteia\n",
    "\n",
    "weight = round(weight)\n",
    "print(type(weight))"
   ]
  },
  {
   "cell_type": "code",
   "execution_count": null,
   "id": "21cdfa73",
   "metadata": {},
   "outputs": [],
   "source": [
    "# 5. folositi print() si printati in consola 4 propozitii folosind cele 4 variabile. \n",
    "# (rezolvati nepotrivirile de tip prin ce modalitate doriti)\n",
    "\n",
    "print(f\"My dog`s name is {name}\")\n",
    "print(f\"It is {age} years old\")\n",
    "print(f\"It weights {weight} kg\")\n",
    "print(f\"Is she a good girl?? {is_good_girl}\")"
   ]
  },
  {
   "cell_type": "code",
   "execution_count": null,
   "id": "516c8d9b",
   "metadata": {},
   "outputs": [],
   "source": [
    "# 6. citeste de la tastatura numele\n",
    "# citeste de la tastatura prenumele\n",
    "# afiseaza 'Numele complet are x caractere'\n",
    "last_name = input(\"Introduceti numele: \")\n",
    "first_name = input(\"Introduceti prenumele: \")\n",
    "\n",
    "print(f\"Numele complet are {len(last_name+first_name)} caractere\")"
   ]
  },
  {
   "cell_type": "code",
   "execution_count": null,
   "id": "a1633e27",
   "metadata": {},
   "outputs": [],
   "source": [
    "# 7. citeste de la tastatura lungimea\n",
    "# citeste de la tastatura latimea\n",
    "# afiseaza 'Aria dreptunghiului este x'\n",
    "\n",
    "length = input(\"Introduceti lungimea dreptunghiului: \")\n",
    "width = input(\"Introduceti latime dreptunghiului: \")\n",
    "\n",
    "print(f\"Aria dreptunghiului este: {int(length)*int(width)}\")"
   ]
  },
  {
   "cell_type": "code",
   "execution_count": null,
   "id": "4799ef93",
   "metadata": {},
   "outputs": [],
   "source": [
    "# 8. Avand stringul: 'Coral is either the stupidest animal or the smartest rock'\n",
    "# afisati de cate ori apare cuvantul 'the'\n",
    "\n",
    "the_string = 'Coral is either the stupidest animal or the smartest rock'\n",
    "print(the_string.count(\"the\"))"
   ]
  },
  {
   "cell_type": "code",
   "execution_count": null,
   "id": "4b9cdcf2",
   "metadata": {},
   "outputs": [],
   "source": [
    "# 9.acelasi string\n",
    "# inlocuieste the cu THE peste tot\n",
    "# printeaza rezultatul\n",
    "the_string = 'Coral is either the stupidest animal or the smartest rock'\n",
    "\n",
    "the_string = the_string.replace('the', \"THE\")\n",
    "print(the_string)"
   ]
  },
  {
   "cell_type": "code",
   "execution_count": null,
   "id": "9b11583d",
   "metadata": {},
   "outputs": [],
   "source": [
    "# 10. citeste de la tastatura un string de dimensiune impara\n",
    "# afiseaza caracterul din mijloc\n",
    "the_string = input(\"Introduceti un string de dimensiune impara: \")\n",
    "\n",
    "middle_index = len(the_string) // 2\n",
    "print(f'Caracterul din mijloc este {the_string[middle_index]}')"
   ]
  },
  {
   "cell_type": "code",
   "execution_count": null,
   "id": "e1ba9749",
   "metadata": {},
   "outputs": [],
   "source": [
    "# 11.folosind o singura linie de cod citeste un string de la tastatura (ex: 'alabala portocala')\n",
    "# si salveaza fiecare cuvant intr-o variabila\n",
    "# acum printeaza ambele variabile pentru verificare\n",
    "the_string = input(\"Introduceti un string format din 2 cuvinte: \")\n",
    "\n",
    "# v1\n",
    "space_index = the_string.find(' ')\n",
    "s1 = the_string[:space_index]\n",
    "s2 = the_string[space_index+1:]\n",
    "print(s1,s2)\n",
    "\n",
    "\n",
    "# v2\n",
    "s1, s2 = the_string.split()\n",
    "print(s1, s2)"
   ]
  },
  {
   "cell_type": "code",
   "execution_count": null,
   "id": "195e011e",
   "metadata": {},
   "outputs": [],
   "source": [
    "# 12. citeste un string de la tastatura (eg: alabala portocala)\n",
    "# salveaza primul caracter intr-o variabila (indiferent care este el, incearca cu 2 stringuri diferite) \n",
    "# capitalizeaza acest caracter peste tot, mai putin pentru primul si ultimul caracter\n",
    "# => alAbAlA portocAla\n",
    "the_string = input(\"Introduceti un string: \")\n",
    "\n",
    "first_character = the_string[0]\n",
    "the_string = the_string[0] + the_string[1:-1].replace(first_character, first_character.upper()) + the_string[-1]\n",
    "print(the_string)"
   ]
  },
  {
   "cell_type": "code",
   "execution_count": null,
   "id": "7c04ee86",
   "metadata": {},
   "outputs": [],
   "source": [
    "# 13. citeste un user de la tastatura\n",
    "# citeste o parola\n",
    "# afiseaza: 'Parola pt user x este ***** si are x caractere'\n",
    "# ***** se va calcula dinamic, indiferent de dimensiunea parolei, trebuie sa afiseze corect\n",
    "# eg: parola abc => ***\n",
    "# parola abcd => ****\n",
    "user = input(\"Introduceti user-ul: \")\n",
    "password = input(\"Introduceti parola: \")\n",
    "\n",
    "print(f\"Parola pt user {user} este {len(password) * '*'} si are {len(password)} caractere\")"
   ]
  },
  {
   "cell_type": "code",
   "execution_count": null,
   "id": "ba458958",
   "metadata": {},
   "outputs": [],
   "source": [
    "# 14. TODO_1 de la curs (C01EX01)\n",
    "# Cum facem sa afisam valoare lui pi cu doar 2 zecimale? presupunem pi = 3.146712\n",
    "pi = 3.146712\n",
    "\n",
    "print(round(pi,2))\n",
    "print(str(pi)[:4])\n",
    "print(f\"{pi:.2f}\")"
   ]
  },
  {
   "cell_type": "code",
   "execution_count": null,
   "id": "ae647f2e",
   "metadata": {},
   "outputs": [],
   "source": [
    "# 15. TODO_2 de la curs (C01EX02)\n",
    "# Avand my_string = \"Hello Pythonistas\" , vrem sa afisam stringul: \"eoyoss\"\n",
    "my_string = \"Hello Pythonistas\"\n",
    "\n",
    "print(my_string[1::3])"
   ]
  },
  {
   "cell_type": "code",
   "execution_count": null,
   "id": "5b49622e",
   "metadata": {},
   "outputs": [],
   "source": []
  }
 ],
 "metadata": {
  "kernelspec": {
   "display_name": "Python 3 (ipykernel)",
   "language": "python",
   "name": "python3"
  },
  "language_info": {
   "codemirror_mode": {
    "name": "ipython",
    "version": 3
   },
   "file_extension": ".py",
   "mimetype": "text/x-python",
   "name": "python",
   "nbconvert_exporter": "python",
   "pygments_lexer": "ipython3",
   "version": "3.8.12"
  }
 },
 "nbformat": 4,
 "nbformat_minor": 5
}
