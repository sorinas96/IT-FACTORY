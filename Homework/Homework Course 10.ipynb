{
 "cells": [
  {
   "cell_type": "code",
   "execution_count": 10,
   "id": "68404889",
   "metadata": {},
   "outputs": [
    {
     "name": "stdout",
     "output_type": "stream",
     "text": [
      "a\n",
      "b\n",
      "c\n",
      "d\n",
      "e\n",
      "f\n",
      "g\n",
      "h\n",
      "i\n",
      "j\n",
      "k\n",
      "l\n",
      "m\n",
      "n\n",
      "o\n",
      "p\n",
      "q\n",
      "r\n",
      "s\n",
      "t\n",
      "u\n",
      "v\n",
      "w\n",
      "x\n",
      "y\n",
      "z\n"
     ]
    }
   ],
   "source": [
    "# 1. a) Sa se scrie un iterator (clasa) pentru literele mici din alfabet\n",
    "#    b) Adaugati o functie print_until_letter(the_letter) care sa afiseze doar literele pana la litera data ca argument\n",
    "\n",
    "\n",
    "class AlphabetIterator:\n",
    "    def __init__(self):\n",
    "        # implementarea voastra aici\n",
    "        self.letter = 'a'\n",
    "    \n",
    "    def __iter__(self):\n",
    "        return self\n",
    "    \n",
    "    def __next__(self):\n",
    "        # implementarea voastra aici \n",
    "        current_letter = self.letter\n",
    "        self.letter = chr(ord(self.letter)+1)\n",
    "        if ord(self.letter) > ord('z')+1:\n",
    "            raise StopIteration\n",
    "        return current_letter\n",
    "\n",
    "alphabet_it = AlphabetIterator()\n",
    "for letter in alphabet_it: \n",
    "    print(letter)\n",
    "    # a\n",
    "    # b\n",
    "    # c\n",
    "    # …\n",
    "    # z\n"
   ]
  },
  {
   "cell_type": "code",
   "execution_count": 11,
   "id": "6f6b8a5c",
   "metadata": {},
   "outputs": [
    {
     "name": "stdout",
     "output_type": "stream",
     "text": [
      "a\n",
      "b\n",
      "c\n",
      "d\n",
      "e\n"
     ]
    }
   ],
   "source": [
    "# b)\n",
    "def print_until_letter(the_letter):\n",
    "    alphabet_it_obj = AlphabetIterator()\n",
    "    for character in alphabet_it_obj:\n",
    "        if character <= the_letter:\n",
    "            print(character) \n",
    "\n",
    "print_until_letter('e')"
   ]
  },
  {
   "cell_type": "code",
   "execution_count": 1,
   "id": "d2dba406",
   "metadata": {},
   "outputs": [
    {
     "name": "stdout",
     "output_type": "stream",
     "text": [
      "1\n",
      "2\n",
      "3\n",
      "5\n",
      "7\n",
      "11\n",
      "13\n"
     ]
    }
   ],
   "source": [
    "# 2. Generator pentru primele n nr prime\n",
    "# def prime_gen(n):\n",
    "#     pass\n",
    "\n",
    "# for nr in prime_gen(7):\n",
    "#     print(nr)\n",
    "#     # 1\n",
    "#     # 2\n",
    "#     # 3\n",
    "#     # 5\n",
    "#     # 7\n",
    "#     # 11\n",
    "#     # 13\n",
    "from math import sqrt\n",
    "def is_prime(nr):\n",
    "    \"\"\"Un numar este prim daca se imparte exact numai la 1 si la el insusi.\n",
    "    Deci daca gasim un oricare alt numar de la 2 pana la (inainte de) el insusi,\n",
    "    inseamna ca nu mai e prim!\n",
    "    Pt optimizare se poate cauta de la 2 pana la radacina patrata a sa!\n",
    "    \"\"\"\n",
    "    for i in range(2, int(sqrt(nr)) + 1):  \n",
    "        if nr % i == 0:\n",
    "            return False\n",
    "    return True \n",
    "\n",
    "def prime_gen(n):\n",
    "    generated_numbers = 0\n",
    "    current_number = 1\n",
    "    \n",
    "    while generated_numbers != n:  # cat timp nu am generat exact n nr prime,.....\n",
    "        if is_prime(current_number):\n",
    "            yield current_number\n",
    "            generated_numbers += 1\n",
    "        current_number += 1\n",
    "        \n",
    "for nr in prime_gen(7):\n",
    "    print(nr)"
   ]
  },
  {
   "cell_type": "code",
   "execution_count": 54,
   "id": "5800a9c4",
   "metadata": {},
   "outputs": [
    {
     "name": "stdout",
     "output_type": "stream",
     "text": [
      "\n",
      "v1:\n",
      "[0, 1, 1, 2, 3, 5, 8, 13]\n",
      "\n",
      "v2:\n",
      "[0, 1, 1, 2, 3, 5, 8, 13]\n",
      "\n",
      "v3:\n",
      "[0, 1, 1, 2, 3, 5, 8, 13]\n"
     ]
    }
   ],
   "source": [
    "# 3.  a) Functie pentru primele n nr din sirul lui Fibonacci\n",
    "#     b) Generator pentru primele n nr din sirul lui Fibonacci\n",
    "# Sirul lui Fibonacci: 0,1,1,2,3,5,8,13,21,34.... \n",
    "# Sirul incepe cu 0 si 1, fiecare numar din sir avand proprietatea ca este suma precedentelor 2 (oricare n = n-2 + n-1, de ex 8 = 3 + 5)\n",
    "\n",
    "# a)\n",
    "# v1\n",
    "def fibo(n):\n",
    "    # implementarea voastra aici\n",
    "    if n <= 0:         # nu are sens sa returnam 0 sau mai putine numere din sir \n",
    "        raise ValueError(\"Alegeti un numar > 0\")\n",
    "    if n == 1:         # tratam separat cazul in care vrem sa returnam 1 numar sau 2\n",
    "        return [0]\n",
    "    if n == 2:\n",
    "        return [0, 1]\n",
    "\n",
    "    fibo_numbers = [0, 1]\n",
    "    a, b = 0, 1\n",
    "    generated_numbers = 2\n",
    "\n",
    "    while generated_numbers < n:\n",
    "        fibo_numbers.append(a+b)\n",
    "        a, b = b, a+b\n",
    "        generated_numbers += 1\n",
    "    return fibo_numbers \n",
    "\n",
    "print(\"\\nv1:\")\n",
    "print(fibo(8))\n",
    "\n",
    "# v2 \n",
    "def fibo_v2(n):\n",
    "    if n <= 0:\n",
    "        raise ValueError(\"Alegeti un numar > 0\")\n",
    "    fibo_numbers = []\n",
    "    a = 0\n",
    "    b = 1\n",
    "    for i in range(n):\n",
    "        fibo_numbers.append(a)\n",
    "        a, b = b, a+b  \n",
    "        \n",
    "    return fibo_numbers\n",
    "\n",
    "print(\"\\nv2:\")\n",
    "print(fibo_v2(8))\n",
    "\n",
    "# v3 - cea mai optima\n",
    "def fibo_v3(n):\n",
    "    fibo_numbers = [0, 1]\n",
    "    \n",
    "    if n <= 0:\n",
    "        raise ValueError(\"Alegeti un numar > 0\")\n",
    "    if n == 1:\n",
    "        return [0]\n",
    "    \n",
    "    while len(fibo_numbers) != n:     # sau for _ in range(2, n):\n",
    "        fibo_numbers.append(fibo_numbers[-2] + fibo_numbers[-1])  # sau fibo_numbers.append(sum(fibo_numbers[-2:]))\n",
    "        \n",
    "    return fibo_numbers\n",
    "        \n",
    "print(\"\\nv3:\")\n",
    "print(fibo_v3(8))"
   ]
  },
  {
   "cell_type": "code",
   "execution_count": 12,
   "id": "86d36752",
   "metadata": {},
   "outputs": [
    {
     "name": "stdout",
     "output_type": "stream",
     "text": [
      "0\n",
      "1\n",
      "1\n",
      "2\n",
      "3\n",
      "5\n",
      "8\n",
      "13\n"
     ]
    }
   ],
   "source": [
    "# b)\n",
    "def fibo_gen(n):\n",
    "    a = 0\n",
    "    b = 1\n",
    "    for i in range(n):\n",
    "        yield a\n",
    "        a, b = b, a+b    \n",
    "\n",
    "for val in fibo_gen(8):\n",
    "    print(val)"
   ]
  }
 ],
 "metadata": {
  "kernelspec": {
   "display_name": "Python 3 (ipykernel)",
   "language": "python",
   "name": "python3"
  },
  "language_info": {
   "codemirror_mode": {
    "name": "ipython",
    "version": 3
   },
   "file_extension": ".py",
   "mimetype": "text/x-python",
   "name": "python",
   "nbconvert_exporter": "python",
   "pygments_lexer": "ipython3",
   "version": "3.9.13"
  }
 },
 "nbformat": 4,
 "nbformat_minor": 5
}
