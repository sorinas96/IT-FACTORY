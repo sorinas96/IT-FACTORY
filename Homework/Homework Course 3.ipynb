{
 "cells": [
  {
   "cell_type": "markdown",
   "id": "1900ce83",
   "metadata": {},
   "source": [
    "# Propunere de solutii Tema03"
   ]
  },
  {
   "cell_type": "code",
   "execution_count": 3,
   "id": "8f292b03",
   "metadata": {},
   "outputs": [
    {
     "name": "stdout",
     "output_type": "stream",
     "text": [
      "['do', 're', 'mi', 'fa', 'sol', 'la', 'si', 'do']\n",
      "['do', 'si', 'la', 'sol', 'fa', 'mi', 're', 'do']\n",
      "['do', 're', 'mi', 'fa', 'sol', 'la', 'si', 'do']\n"
     ]
    }
   ],
   "source": [
    "# 1. Declara o lista note_muzicale in care sa pui do re mi etc pana la do\n",
    "# a) Afiseaz-o\n",
    "# b) Inverseaza ordinea folosind slicing si suprascrie aceasta lista\n",
    "# c) Printeaza varianta actuala (inversata)\n",
    "# d) Pe aceasta lista, aplica o metoda care banuiesti ca face acelasi lucru, adica sa ii\n",
    "# inverseze ordinea. (Nu trebuie sa o suprascrii in acest caz, deoarece metoda face asta\n",
    "# automat)\n",
    "# e) Printeaza varianta actuala a listei. Practic ai ajuns inapoi la varianta initiala\n",
    "# Concluzii: slicing e temporar, daca vrei sa pastrezi noua varianta va trebuie sa suprascrii lista\n",
    "# sau sa o salvezi intr-o lista noua. Metoda gasita de tine, face suprascrierea automat si\n",
    "# permanentizeaza aceste modificari. Ambele variante isi gasesc utilitatea in functie de ce ne\n",
    "# dorim in acel moment.\n",
    "note_muzicale = ['do', 're', 'mi', 'fa', 'sol', 'la', 'si', 'do']\n",
    "\n",
    "# a)\n",
    "print(note_muzicale)\n",
    "\n",
    "# b)\n",
    "note_muzicale = note_muzicale[::-1]\n",
    "\n",
    "# c)\n",
    "print(note_muzicale)\n",
    "\n",
    "# d)\n",
    "note_muzicale.reverse()\n",
    "\n",
    "# e)\n",
    "print(note_muzicale)"
   ]
  },
  {
   "cell_type": "code",
   "execution_count": 6,
   "id": "dbff606c",
   "metadata": {},
   "outputs": [
    {
     "name": "stdout",
     "output_type": "stream",
     "text": [
      "2\n"
     ]
    }
   ],
   "source": [
    "# 2. Utilizand aceeasi lista, de cate ori apare 'do'?\n",
    "note_muzicale = ['do', 're', 'mi', 'fa', 'sol', 'la', 'si', 'do']\n",
    "\n",
    "print(note_muzicale.count('do'))"
   ]
  },
  {
   "cell_type": "code",
   "execution_count": 8,
   "id": "971c8ab3",
   "metadata": {},
   "outputs": [
    {
     "name": "stdout",
     "output_type": "stream",
     "text": [
      "[3, 1, 0, 2, 6, 5, 4]\n",
      "[3, 1, 0, 2, 6, 5, 4]\n"
     ]
    }
   ],
   "source": [
    "# 3. Avand 2 liste, [3, 1, 0, 2] si [6, 5, 4]\n",
    "# Gasiti 2 variante sa le uniti intr-o singura lista.\n",
    "l1 = [3, 1, 0, 2]\n",
    "l2 = [6, 5, 4]\n",
    "\n",
    "l3 = l1 + l2 \n",
    "print(l3)\n",
    "l1.extend(l2)\n",
    "print(l1)"
   ]
  },
  {
   "cell_type": "code",
   "execution_count": 12,
   "id": "1d50990d",
   "metadata": {},
   "outputs": [
    {
     "name": "stdout",
     "output_type": "stream",
     "text": [
      "Lista inainte de sortare: [3, 1, 0, 2, 6, 5, 4]\n",
      "Lista dupa sortare:       [0, 1, 2, 3, 4, 5, 6]\n",
      "Lista fara numarul 0:     [1, 2, 3, 4, 5, 6]\n"
     ]
    }
   ],
   "source": [
    "# 4. Sortati si afisati lista generata la ex anterior. Stergeti numarul 0 folosind o functie. Afisati iar lista\n",
    "l1 = [3, 1, 0, 2]\n",
    "l2 = [6, 5, 4]\n",
    "\n",
    "l3 = l1 + l2 \n",
    "print(f\"Lista inainte de sortare: {l3}\")\n",
    "l3.sort()\n",
    "print(f\"Lista dupa sortare:       {l3}\")\n",
    "\n",
    "l3.remove(0)\n",
    "print(f\"Lista fara numarul 0:     {l3}\")"
   ]
  },
  {
   "cell_type": "code",
   "execution_count": 17,
   "id": "686741e2",
   "metadata": {},
   "outputs": [
    {
     "name": "stdout",
     "output_type": "stream",
     "text": [
      "Lista nu este goala\n",
      "Lista este goala\n"
     ]
    }
   ],
   "source": [
    "# 5. Folosind un if verificati lista generata la ex3 si afisati:\n",
    "#  - Lista este goala\n",
    "#  - Lista nu este goala\n",
    "l = [3, 1, 0, 2, 6, 5, 4]\n",
    "\n",
    "if l:   # sau if len(l1)!=0:\n",
    "    print('Lista nu este goala')\n",
    "else:\n",
    "    print('Lista este goala')\n",
    "    \n",
    "l = []\n",
    "if l:   # sau if len(l1)!=0:\n",
    "    print('Lista nu este goala')\n",
    "else:\n",
    "    print('Lista este goala')\n"
   ]
  },
  {
   "cell_type": "code",
   "execution_count": 37,
   "id": "51b4a852",
   "metadata": {},
   "outputs": [
    {
     "name": "stdout",
     "output_type": "stream",
     "text": [
      "Lista inainte de golire: [3, 1, 0, 2, 6, 5, 4]\n",
      "Lista dupa golire: []\n"
     ]
    }
   ],
   "source": [
    "# 6. Folositi o functie care sa goleasca lista de la ex3\n",
    "l = [3, 1, 0, 2, 6, 5, 4]\n",
    "print(f\"Lista inainte de golire: {l}\")\n",
    "l.clear()  # del l[:]\n",
    "print(f\"Lista dupa golire: {l}\")"
   ]
  },
  {
   "cell_type": "code",
   "execution_count": 34,
   "id": "e72c8e70",
   "metadata": {},
   "outputs": [
    {
     "name": "stdout",
     "output_type": "stream",
     "text": [
      "Lista este goala\n"
     ]
    }
   ],
   "source": [
    "# 7. Copy paste la ex 5. Verificati inca o data. Acum ar trebui sa se afiseze ca lista e goala.\n",
    "if l:\n",
    "    print('Lista nu este goala')\n",
    "else:\n",
    "    print('Lista este goala')"
   ]
  },
  {
   "cell_type": "code",
   "execution_count": 36,
   "id": "2de0903d",
   "metadata": {},
   "outputs": [
    {
     "name": "stdout",
     "output_type": "stream",
     "text": [
      "['Ana', 'Gigel', 'Dorel']\n"
     ]
    }
   ],
   "source": [
    "# 8.Avand dictionarul dict1 = {'Ana' : 8, 'Gigel' : 10, 'Dorel' : 5}. Folositi o functie ca sa afisati Elevii (cheile)\n",
    "dict1 = {'Ana' : 8, 'Gigel' : 10, 'Dorel' : 5}\n",
    "\n",
    "print(list(dict1.keys()))"
   ]
  },
  {
   "cell_type": "code",
   "execution_count": 41,
   "id": "972e8615",
   "metadata": {},
   "outputs": [
    {
     "name": "stdout",
     "output_type": "stream",
     "text": [
      "Ana a luat nota 8\n",
      "Gigel a luat nota 10\n",
      "Dorel a luat nota 5\n",
      "Ana a luat nota 8\n",
      "Gigel a luat nota 10\n",
      "Dorel a luat nota 5\n"
     ]
    }
   ],
   "source": [
    "# 9. Printati cei 3 elevi si notele lor.\n",
    "# Ex: ‘Ana a luat nota {x}’\n",
    "# Doar nota o veti lua folosindu-va de cheie.\n",
    "\n",
    "# v1 afisarea pentru un elev introdus de la tastatura\n",
    "student = input(\"Introduceti numele elevului pentru care vreti nota: \")\n",
    "print(f\"{student} a luat nota {dict1[student]}\")\n",
    "\n",
    "# v2 (afisarea notelor tuturor cu for pe care inca nu l`am invatat :D)\n",
    "dict1 = {'Ana' : 8, 'Gigel' : 10, 'Dorel' : 5}\n",
    "for key in dict1:\n",
    "    print(f\"{key} a luat nota {dict1[key]}\")\n",
    "\n",
    "# sau    \n",
    "for elev, nota in dict1.items():\n",
    "    print(f'{elev} a luat nota {nota}')"
   ]
  },
  {
   "cell_type": "code",
   "execution_count": 42,
   "id": "4759f27a",
   "metadata": {},
   "outputs": [
    {
     "name": "stdout",
     "output_type": "stream",
     "text": [
      "6\n"
     ]
    }
   ],
   "source": [
    "# 10. Dorel a facut contestatie si a primit 6. Modificati nota lui Dorel in 6. Printati nota dupa modificare.\n",
    "dict1 = {'Ana' : 8, 'Gigel' : 10, 'Dorel' : 5}\n",
    "\n",
    "dict1['Dorel'] = 6\n",
    "print(dict1['Dorel'])"
   ]
  },
  {
   "cell_type": "code",
   "execution_count": 43,
   "id": "ca9ae1b6",
   "metadata": {},
   "outputs": [
    {
     "name": "stdout",
     "output_type": "stream",
     "text": [
      "{'Ana': 8, 'Dorel': 6, 'Ionica': 9}\n"
     ]
    }
   ],
   "source": [
    "# 11.Gigel se transfera din clasa. Cautati o functie care sa il stearga. Vine un coleg nou. Adaugati Ionica, cu nota 9.\n",
    "# Printati noii elevi.\n",
    "dict1 = {'Ana' : 8, 'Gigel' : 10, 'Dorel' : 6}\n",
    "\n",
    "del dict1['Gigel']\n",
    "dict1['Ionica'] = 9\n",
    "print(dict1)"
   ]
  },
  {
   "cell_type": "code",
   "execution_count": 44,
   "id": "3d16b191",
   "metadata": {},
   "outputs": [
    {
     "name": "stdout",
     "output_type": "stream",
     "text": [
      "{'luni', 'vineri', 'marti', 'sambata', 'miercuri', 'joi', 'duminica'}\n"
     ]
    }
   ],
   "source": [
    "# 12. Set zile_sapt = {'luni', 'marti', 'miercuri', 'joi', 'vineri', 'sambata', 'duminica'}, weekend = {'sambata', 'duminica'}.\n",
    "# Adaugati in zilele_sapt ‘luni’. Afisati zile_sapt\n",
    "zile_sapt = {'luni', 'marti', 'miercuri', 'joi', 'vineri', 'sambata', 'duminica'}\n",
    "weekend = {'sambata', 'duminica'}\n",
    "\n",
    "zile_sapt.add('luni')\n",
    "print(zile_sapt)"
   ]
  },
  {
   "cell_type": "code",
   "execution_count": 45,
   "id": "fb46d717",
   "metadata": {},
   "outputs": [
    {
     "name": "stdout",
     "output_type": "stream",
     "text": [
      "Weekend e subset al zile_sapt\n"
     ]
    }
   ],
   "source": [
    "# 13.Folositi un if si verificati daca:\n",
    "# - Weekend este un subset al zilelor din sapt\n",
    "# - Weekend nu este un subset al zilelor din sapt\n",
    "zile_sapt = {'luni', 'marti', 'miercuri', 'joi', 'vineri', 'sambata', 'duminica'}\n",
    "weekend = {'sambata', 'duminica'}\n",
    "\n",
    "if weekend.issubset(zile_sapt):\n",
    "    print(f\"Weekend e subset al zile_sapt\")\n",
    "else:\n",
    "    print(f\"Weekend nu e subset al zile_sapt\")    "
   ]
  },
  {
   "cell_type": "code",
   "execution_count": 53,
   "id": "53ce450b",
   "metadata": {},
   "outputs": [
    {
     "name": "stdout",
     "output_type": "stream",
     "text": [
      "{'luni', 'marti', 'miercuri', 'vineri', 'joi'}\n",
      "{'luni', 'marti', 'miercuri', 'vineri', 'joi'}\n"
     ]
    }
   ],
   "source": [
    "# 14. Afisati diferentele dintre aceste 2 seturi\n",
    "zile_sapt = {'luni', 'marti', 'miercuri', 'joi', 'vineri', 'sambata', 'duminica'}\n",
    "weekend = {'sambata', 'duminica'}\n",
    "\n",
    "print(zile_sapt - weekend)\n",
    "\n",
    "# sau\n",
    "print(zile_sapt.difference(weekend))"
   ]
  },
  {
   "cell_type": "code",
   "execution_count": 52,
   "id": "1ff86630",
   "metadata": {},
   "outputs": [
    {
     "name": "stdout",
     "output_type": "stream",
     "text": [
      "{'sambata', 'duminica'}\n",
      "{'sambata', 'duminica'}\n",
      "{'sambata', 'duminica'}\n"
     ]
    }
   ],
   "source": [
    "# 15. Afisati intersectia elementelor din aceste 2 seturi\n",
    "zile_sapt = {'luni', 'marti', 'miercuri', 'joi', 'vineri', 'sambata', 'duminica'}\n",
    "weekend = {'sambata', 'duminica'}\n",
    "\n",
    "print(zile_sapt & weekend)\n",
    "\n",
    "# sau\n",
    "print(weekend.intersection(zile_sapt))\n",
    "print(zile_sapt.intersection(weekend))"
   ]
  },
  {
   "cell_type": "code",
   "execution_count": 64,
   "id": "7b6162b7",
   "metadata": {},
   "outputs": [
    {
     "name": "stdout",
     "output_type": "stream",
     "text": [
      "Introduceti cate schimbari au fost efectuate pana acum dintr-un maxim de 3: 3\n",
      "Introduceti numele unui jucator pe care sa il schimbati dintre ['Leo', 'Cristiano', 'Erling', 'Kylian', 'Gianluigi']:Cristiano\n",
      "Mai aveti 0 schimbari \n"
     ]
    }
   ],
   "source": [
    "# 16. Ne imaginam o echipa de fotbal pt teren sintetic. 3 Schimbari maxime admise.\n",
    "# Declara o Lista cu 5 jucatori\n",
    "# Schimbari_efectuate = va jucati voi cu valori diferite\n",
    "# Schimbari_max = 3\n",
    "\n",
    "# Daca Jucatorul x e in teren si mai avem schimbari la dispozitie\n",
    "# Efectuam schimbarea \n",
    "# Stergem jucatorul scos din lista\n",
    "# Adaugam jucatorul intrat\n",
    "# Afisam a intra x, a iesit y, mai aveti z schimbari\n",
    "# Daca jucatorul nu e in teren:\n",
    "# Afisati ‘ nu se poate efectua schimbarea deoarece jucatorul x nu e in teren’\n",
    "# Afisati ‘mai aveti z schimbari’\n",
    "\n",
    "# Testati codul cu diferite valori\n",
    "\n",
    "# Google search hint\n",
    "# “how to check if item is in list python”\n",
    "playing = [\"Leo\", \"Cristiano\", \"Erling\", \"Kylian\", \"Gianluigi\"]\n",
    "substitutes = [\"Sergi\", \"Ferran\", \"Memphis\", \"Ansu\", \"Frenkie\"] \n",
    "substitutes_max = 3\n",
    "\n",
    "substitutes_done = int(input(\"Introduceti cate schimbari au fost efectuate pana acum dintr-un maxim de 3: \"))\n",
    "player_to_change = input(f\"Introduceti numele unui jucator pe care sa il schimbati dintre {playing}:\")\n",
    "if player_to_change in playing:\n",
    "    if substitutes_done < substitutes_max:\n",
    "        player_in = substitutes.pop()\n",
    "        playing.remove(player_to_change)\n",
    "        playing.append(player_in)\n",
    "        print(f\"A intrat {player_in}, a iesit {player_to_change}, mai aveti {substitutes_max - substitutes_done} schimbari\")\n",
    "    print(f\"Mai aveti {substitutes_max - substitutes_done} schimbari \")\n",
    "else:\n",
    "    print(f\"Nu se poate efectua schimbarea, deoarece jucatorul {player_to_change} nu e in teren!\")"
   ]
  }
 ],
 "metadata": {
  "kernelspec": {
   "display_name": "Python 3 (ipykernel)",
   "language": "python",
   "name": "python3"
  },
  "language_info": {
   "codemirror_mode": {
    "name": "ipython",
    "version": 3
   },
   "file_extension": ".py",
   "mimetype": "text/x-python",
   "name": "python",
   "nbconvert_exporter": "python",
   "pygments_lexer": "ipython3",
   "version": "3.8.12"
  }
 },
 "nbformat": 4,
 "nbformat_minor": 5
}
