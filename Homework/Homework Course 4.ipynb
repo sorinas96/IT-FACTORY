{
 "cells": [
  {
   "cell_type": "code",
   "execution_count": 29,
   "id": "ada04392",
   "metadata": {},
   "outputs": [],
   "source": [
    "# 1. Avand lista\n",
    "masini = ['Audi', 'Volvo', 'BMW', 'Mercedes', 'Aston Martin', 'Lastun', 'Fiat', 'Trabant', 'Opel'] \n",
    "\n",
    "# A. Folositi un for ca sa iterati prin toata lista cu ajutorul indexilor si sa afisati\n",
    "# ‘Masina mea preferata este x’\n",
    "# B. Faceti acelasi lucru cu un for each\n",
    "# C. Faceti acelasi lucru cu un while\n",
    "\n",
    "# A.\n",
    "for idx in range(len(masini)):\n",
    "    print(f\"Masina mea preferata este {masini[idx]}\")\n",
    "    \n",
    "# B.\n",
    "for masina in masini:\n",
    "    print(f\"Masina mea preferata este {masina}\")\n",
    "\n",
    "# C.\n",
    "idx = 0\n",
    "while idx < len(masini):\n",
    "    print(f\"Masina mea preferata este {masini[idx]}\")\n",
    "    idx += 1"
   ]
  },
  {
   "cell_type": "code",
   "execution_count": 1,
   "id": "1e56fb70",
   "metadata": {},
   "outputs": [
    {
     "name": "stdout",
     "output_type": "stream",
     "text": [
      "['aUDi', 'vOLVo', 'bMw', 'mERCEDEs', 'aSTON MARTIn', 'lASTUn', 'fIAt', 'tRABANt', 'oPEl']\n",
      "['aUDi', 'vOLVo', 'bMw', 'mERCEDEs', 'aSTON MARTIn', 'lASTUn', 'fIAt', 'tRABANt', 'oPEl']\n",
      "['aUDi', 'vOLVo', 'bMw', 'mERCEDEs', 'aSTON MARTIn', 'lASTUn', 'fIAt', 'tRABANt', 'oPEl']\n",
      "['aUDi', 'vOLVo', 'bMw', 'mERCEDEs', 'aSTON MARTIn', 'lASTUn', 'fIAt', 'tRABANt', 'oPEl']\n",
      "['audi', 'VOLVO', 'BMW', 'MERCEDES', 'ASTON MARTIN', 'LASTUN', 'FIAT', 'TRABANT', 'opel']\n",
      "['audi', 'VOLVO', 'BMW', 'MERCEDES', 'ASTON MARTIN', 'LASTUN', 'FIAT', 'TRABANT', 'opel']\n"
     ]
    }
   ],
   "source": [
    "# 2. Aceeasi lista. Folositi un for in for. \n",
    "# Modificati elementele din lista astfel incat sa fie scrie cu majuscule, exceptand primul si ultimul (v1 - caracter, v2 - element)\n",
    "# Printati varianta finala a listei. \n",
    "# Incercati sa rezolvati atat v1 => output: ['aUDi', 'vOLVo', 'bMw', 'mERCEDEs', 'aSTON MARTIn', 'lASTUn', 'fIAt', 'tRABANt', 'oPEl']\n",
    "# Cat si v2 => output: ['audi', 'VOLVO', 'BMW', 'MERCEDES', 'ASTON MARTIN', 'LASTUN', 'FIAT', 'TRABANT', 'opel']\n",
    "\n",
    "masini = ['Audi', 'Volvo', 'BMW', 'Mercedes', 'Aston Martin', 'Lastun', 'Fiat', 'Trabant', 'Opel'] \n",
    "\n",
    "# v1 => ['aUDi', 'vOLVo', 'bMw', 'mERCEDEs', 'aSTON MARTIn', 'lASTUn', 'fIAt', 'tRABANt', 'oPEl']  - using enumerate\n",
    "for idx_masina, masina in enumerate(masini):\n",
    "    masina_modif = ''\n",
    "    for idx, caracter in enumerate(masina):\n",
    "        if idx == 0 or idx == len(masina)-1:\n",
    "            masina_modif += caracter.lower()\n",
    "        else:\n",
    "            masina_modif += caracter.upper()\n",
    "    masini[idx_masina] = masina_modif\n",
    "print(masini)\n",
    "\n",
    "\n",
    "# v1 - using only indexes\n",
    "for idx_masina in range(len(masini)):\n",
    "    masina_modif = ''\n",
    "    for idx_caracter in range(len(masini[idx_masina])):\n",
    "        if idx_caracter == 0 or idx_caracter == len(masini[idx_masina])-1:\n",
    "            masina_modif += masini[idx_masina][idx_caracter].lower()\n",
    "        else:\n",
    "            masina_modif += masini[idx_masina][idx_caracter].upper()\n",
    "    masini[idx_masina] = masina_modif\n",
    "print(masini)\n",
    "\n",
    "\n",
    "# v1 - using only one for\n",
    "for idx, masina in enumerate(masini):\n",
    "    masini[idx] = masina[0].lower() + masina[1:-1].upper() + masina[-1]    \n",
    "print(masini)\n",
    "\n",
    "\n",
    "# v1 - 1 for and building a new list, not modifing the initial one\n",
    "masini_final = []\n",
    "for masina in masini:\n",
    "    masina_modif = masina[0].lower() + masina[1:-1].upper() + masina[-1]\n",
    "    masini_final.append(masina_modif)\n",
    "print(masini_final)\n",
    "\n",
    "\n",
    "# v2 => ['audi', 'VOLVO', 'BMW', 'MERCEDES', 'ASTON MARTIN', 'LASTUN', 'FIAT', 'TRABANT', 'opel']  - using enumerate\n",
    "for idx, masina in enumerate(masini):\n",
    "    if idx == 0 or idx == len(masini)-1:\n",
    "        masini[idx] = masina.lower()\n",
    "    else:\n",
    "        masini[idx] = masina.upper()\n",
    "print(masini)\n",
    "\n",
    "# v2 - using only indexes\n",
    "for idx in range(len(masini)):\n",
    "    if idx == 0 or idx == len(masini)-1:\n",
    "        masini[idx] = masini[idx].lower()\n",
    "    else:\n",
    "        masini[idx] = masini[idx].upper()\n",
    "print(masini)        "
   ]
  },
  {
   "cell_type": "code",
   "execution_count": 30,
   "id": "1b0876a3",
   "metadata": {},
   "outputs": [
    {
     "name": "stdout",
     "output_type": "stream",
     "text": [
      "Am gasit masina Audi. Mai cautam...\n",
      "Am gasit masina Volvo. Mai cautam...\n",
      "Am gasit masina BMW. Mai cautam...\n",
      "Am gasit masina dorita de dvs!\n"
     ]
    }
   ],
   "source": [
    "# 3. Aceeasi lista, \n",
    "# Vine un cumparator care doreste sa cumpere un Mercedes\n",
    "# Iterati prin ea cu for\n",
    "# Daca masina e mercedes (if)\n",
    "#    Printam ‘am gasit masina dorita de dvs’\n",
    "#    Iesim din ciclu folosind un cuvant cheie care face acest lucru\n",
    "# Altfel:   \n",
    "#    Printam Am gasit masina X. Mai cautam\n",
    "masini = ['Audi', 'Volvo', 'BMW', 'Mercedes', 'Aston Martin', 'Lastun', 'Fiat', 'Trabant', 'Opel'] \n",
    "\n",
    "for masina in masini:\n",
    "    if masina == 'Mercedes':\n",
    "        print(\"Am gasit masina dorita de dvs!\")\n",
    "        break\n",
    "    else:\n",
    "        print(f\"Am gasit masina {masina}. Mai cautam...\")"
   ]
  },
  {
   "cell_type": "code",
   "execution_count": 32,
   "id": "f2839870",
   "metadata": {},
   "outputs": [],
   "source": [
    "# 4. Aceasi lista. \n",
    "# Vine un cumparator bogat dar indecis. Ii vom prezenta toate masinile cu exceptia Trabant si Lastun. \n",
    "# Daca masina e Trabant sau Lastun\n",
    "#    Folositi un cuvant cheie care sa dea skip la ce urmeaza\n",
    "# Printati S-ar putea sa va placa masina x\n",
    "masini = ['Audi', 'Volvo', 'BMW', 'Mercedes', 'Aston Martin', 'Lastun', 'Fiat', 'Trabant', 'Opel'] \n",
    "\n",
    "for masina in masini:\n",
    "    if masina in ('Trabant', 'Lastun'):\n",
    "        continue\n",
    "    print(f\"S-ar putea sa va placa masina {masina}\") "
   ]
  },
  {
   "cell_type": "code",
   "execution_count": 33,
   "id": "881387f7",
   "metadata": {},
   "outputs": [
    {
     "name": "stdout",
     "output_type": "stream",
     "text": [
      "Modele vechi: ['Lastun', 'Trabant']\n",
      "Modele noi: ['Audi', 'Volvo', 'BMW', 'Mercedes', 'Aston Martin', 'Tesla', 'Fiat', 'Tesla', 'Opel']\n"
     ]
    }
   ],
   "source": [
    "# 5. Modernizati parcul de masini. Creati o lista goala, masini_vechi. Iterati prin masini.\n",
    "# Cand gasiti Lastun sau Trabant: \n",
    "#     Salvati aceste masini in masini_vechi\n",
    "#     Suprascrieti-le cu ‘Tesla’ (in lista initiala de masini)\n",
    "# Printati Modele vechi: x\n",
    "# Modele noi: x\n",
    "masini = ['Audi', 'Volvo', 'BMW', 'Mercedes', 'Aston Martin', 'Lastun', 'Fiat', 'Trabant', 'Opel'] \n",
    "\n",
    "masini_vechi = []\n",
    "for idx in range(len(masini)):\n",
    "    if masini[idx] in ('Trabant', 'Lastun'):\n",
    "        masini_vechi.append(masini[idx])\n",
    "        masini[idx] = 'Tesla'\n",
    "print(f\"Modele vechi: {masini_vechi}\")\n",
    "print(f\"Modele noi: {masini}\")"
   ]
  },
  {
   "cell_type": "code",
   "execution_count": 36,
   "id": "f6f3c4cf",
   "metadata": {},
   "outputs": [
    {
     "name": "stdout",
     "output_type": "stream",
     "text": [
      "Puteti alege masina: Dacia\n",
      "Puteti alege masina: Lastun\n",
      "Puteti alege masina: Opel\n"
     ]
    }
   ],
   "source": [
    "# 6. Avand dict:\n",
    "# pret_masini = {\n",
    "#     'Dacia': 6800,\n",
    "#     'Lastun': 500,\n",
    "#     'Opel': 1100,\n",
    "#     'Audi': 19000,\n",
    "#     'BMW': 23000\n",
    "# }\n",
    "# Vine un client cu un buget de 15000 euro\n",
    "# Prezentati doar masinile care se incadreaza in acest buget\n",
    "# Iterati prin dict.items() si accesati masina si pretul\n",
    "# Printati Pentru un buget de sub 15000 euro puteti alege masina x\n",
    "# Iterati prin lista\n",
    "\n",
    "pret_masini = {\n",
    "    'Dacia': 6800,\n",
    "    'Lastun': 500,\n",
    "    'Opel': 1100,\n",
    "    'Audi': 19000,\n",
    "    'BMW': 23000\n",
    "}\n",
    "\n",
    "for masina, pret in pret_masini.items():\n",
    "    if pret < 15000:\n",
    "        print(f\"Puteti alege masina: {masina}\")"
   ]
  },
  {
   "cell_type": "code",
   "execution_count": 40,
   "id": "ac60f79a",
   "metadata": {},
   "outputs": [
    {
     "name": "stdout",
     "output_type": "stream",
     "text": [
      "Nr 3 apare de 4 ori\n"
     ]
    }
   ],
   "source": [
    "# 7. Avand lista\n",
    "# numere = [5, 7, 3, 9, 3, 3, 1, 0, -4, 3]\n",
    "# Iterati prin ea\n",
    "# Afisati de cate ori apare 3\n",
    "# (nu aveti voie sa folositi count)\n",
    "numere = [5, 7, 3, 9, 3, 3, 1, 0, -4, 3]\n",
    "\n",
    "counter_3 = 0\n",
    "for n in numere:\n",
    "    if n == 3:\n",
    "        counter_3 += 1\n",
    "print(f\"Nr 3 apare de {counter_3} ori\")"
   ]
  },
  {
   "cell_type": "code",
   "execution_count": 38,
   "id": "2ef7d1bc",
   "metadata": {},
   "outputs": [
    {
     "name": "stdout",
     "output_type": "stream",
     "text": [
      "Suma numerelor este: 30\n"
     ]
    }
   ],
   "source": [
    "# 8. Aceeasi lista. Iterati prin ea.\n",
    "# Calculati si afisati suma numerelor\n",
    "# (nu aveti voie sa folositi sum)\n",
    "numere = [5, 7, 3, 9, 3, 3, 1, 0, -4, 3]\n",
    "\n",
    "suma = 0\n",
    "for n in numere:\n",
    "    suma += n\n",
    "print(f\"Suma numerelor este: {suma}\")"
   ]
  },
  {
   "cell_type": "code",
   "execution_count": 41,
   "id": "30a18bed",
   "metadata": {},
   "outputs": [
    {
     "name": "stdout",
     "output_type": "stream",
     "text": [
      "Maximul listei este: 9\n"
     ]
    }
   ],
   "source": [
    "# 9. Aceeasi lista. Iterati prin ea. \n",
    "# Afisati cel mai mare numar\n",
    "# (nu aveti voie sa folositi max)\n",
    "numere = [5, 7, 3, 9, 3, 3, 1, 0, -4, 3]\n",
    "\n",
    "maxim = numere[0]\n",
    "for n in numere[1:]:  # o mica optimizare :) pt a nu mai verifica inca o data primul numar din lista\n",
    "    if n > maxim:\n",
    "        maxim = n\n",
    "print(f\"Maximul listei este: {maxim}\")"
   ]
  },
  {
   "cell_type": "code",
   "execution_count": 44,
   "id": "94f47727",
   "metadata": {},
   "outputs": [
    {
     "name": "stdout",
     "output_type": "stream",
     "text": [
      "[-5, -7, -3, -9, -3, -3, -1, 0, -4, -3]\n",
      "[-5, -7, -3, -9, -3, -3, -1, 0, -4, -3]\n"
     ]
    }
   ],
   "source": [
    "# 10. Aceeasi lista. Iterati prin ea.\n",
    "# Daca numarul e pozitiv, inlocuiti-l cu valoarea lui negativa\n",
    "# Ex: daca e 3, sa devina -3\n",
    "# Afisati noua lista\n",
    "numere = [5, 7, 3, 9, 3, 3, 1, 0, -4, 3]\n",
    "\n",
    "# v1\n",
    "for idx in range(len(numere)):\n",
    "    if numere[idx] > 0:\n",
    "        numere[idx] = -numere[idx]\n",
    "print(numere)\n",
    "\n",
    "# v2 - gasita la voi, good one ;)\n",
    "for idx in range(len(numere)):\n",
    "    numere[idx] = -abs(numere[idx])\n",
    "print(numere)"
   ]
  },
  {
   "cell_type": "code",
   "execution_count": 47,
   "id": "457947e8",
   "metadata": {},
   "outputs": [
    {
     "name": "stdout",
     "output_type": "stream",
     "text": [
      "Numere pare:     [2, 12, -6, -4]\n",
      "Numere impare:   [-5, 7, 9, 3, 1, 3]\n",
      "Numere pozitive: [7, 2, 9, 12, 3, 1, 3]\n",
      "Numere negative: [-5, -6, -4]\n"
     ]
    }
   ],
   "source": [
    "# 11. alte_numere = [-5, 7, 2, 9, 12, 3, 1, -6, -4, 3]\n",
    "# numere_pare = []\n",
    "# numere_impare = []\n",
    "# numere_pozitive = []\n",
    "# numere_negative = []\n",
    "# Iterati prin lista alte_numere \n",
    "# Populati corect celelalte liste\n",
    "# Afisati cele 4 liste la final\n",
    "alte_numere = [-5, 7, 2, 9, 12, 3, 1, -6, -4, 3]\n",
    "numere_pare = []\n",
    "numere_impare = []\n",
    "numere_pozitive = []\n",
    "numere_negative = []\n",
    "\n",
    "for n in alte_numere:\n",
    "    if n % 2 == 0:\n",
    "        numere_pare.append(n)\n",
    "    else:\n",
    "        numere_impare.append(n)\n",
    "    if n > 0:\n",
    "        numere_pozitive.append(n)\n",
    "    else:\n",
    "        numere_negative.append(n)\n",
    "print(f\"Numere pare:     {numere_pare}\")\n",
    "print(f\"Numere impare:   {numere_impare}\")\n",
    "print(f\"Numere pozitive: {numere_pozitive}\")\n",
    "print(f\"Numere negative: {numere_negative}\")\n"
   ]
  },
  {
   "cell_type": "code",
   "execution_count": 48,
   "id": "35f77ace",
   "metadata": {},
   "outputs": [
    {
     "name": "stdout",
     "output_type": "stream",
     "text": [
      "[-6, -5, -4, 1, 2, 3, 3, 7, 9, 12]\n"
     ]
    }
   ],
   "source": [
    "# 12. Aceeasi lista. Ordonati crescator lista fara sa folositi sort\n",
    "# Va puteti inspira vizual de aici\n",
    "# https://www.youtube.com/watch?v=lyZQPjUT5B4\n",
    "lst = [-5, 7, 2, 9, 12, 3, 1, -6, -4, 3]\n",
    "\n",
    "for i in range(0, len(lst)-1):\n",
    "    for j in range(i+1, len(lst)):\n",
    "        if lst[j] < lst[i]:\n",
    "            lst[i], lst[j] = lst[j], lst[i]\n",
    "print(lst)\n",
    "\n",
    "\n",
    "# Exemplu al executiei pas cu pas pt lst = [5,1,3,4,2]:\n",
    "#lst = [5,1,3,4,2]\n",
    "#idx    0 1 2 3 4\n",
    "\n",
    "# i = 0 > 1 > 2 > 3\n",
    "# j = 1 > 2 > 3 > 4 > 2 > 3 > 4 > 3 > 4 > 4\n",
    "# lst = [5,1,3,4,2] > [1,5,3,4,2] > [1,3,5,4,2] > [1,2,5,4,3] > [1,2,4,5,3] > [1,2,3,5,4] > [1,2,3,4,5]\n"
   ]
  },
  {
   "cell_type": "code",
   "execution_count": 14,
   "id": "f0e25daa",
   "metadata": {},
   "outputs": [
    {
     "name": "stdout",
     "output_type": "stream",
     "text": [
      "Ghiceste un nr intre 1 si 30: 15\n",
      "Nr secret e mai mare!\n",
      "Ghiceste un nr intre 1 si 30: 22\n",
      "Nr secret e mai mare!\n",
      "Ghiceste un nr intre 1 si 30: 26\n",
      "Nr secret e mai mare!\n",
      "Ghiceste un nr intre 1 si 30: 28\n",
      "Nr secret e mai mare!\n",
      "Ghiceste un nr intre 1 si 30: 29\n",
      "Felicitari! Ai ghicit!\n"
     ]
    }
   ],
   "source": [
    "# 13. Ghicitoare de numar. \n",
    "# numar_secret = Generati un numar random intre 1 si 30\n",
    "# Numar_ghicit = None\n",
    "# Folosind un while\n",
    "#    User alege un numar\n",
    "#    Programul ii spune:\n",
    "# Nr secret e mai mare\n",
    "# Nr secret e mai mic\n",
    "# Felicitari! Ai ghicit!\n",
    "import random\n",
    "secret_nr = random.randint(1,30)\n",
    "guessed_nr = None\n",
    "\n",
    "while guessed_nr != secret_nr:\n",
    "    guessed_nr = int(input(\"Ghiceste un nr intre 1 si 30: \"))\n",
    "    if guessed_nr == secret_nr:\n",
    "        print(\"Felicitari! Ai ghicit!\")\n",
    "    elif guessed_nr < secret_nr:\n",
    "        print(\"Nr secret e mai mare!\")\n",
    "    else:\n",
    "        print(\"Nr secret e mai mic!\")"
   ]
  },
  {
   "cell_type": "code",
   "execution_count": 20,
   "id": "9e2caf5e",
   "metadata": {},
   "outputs": [
    {
     "name": "stdout",
     "output_type": "stream",
     "text": [
      "Introduceti un numar pentru a genera piramida: 4\n",
      "1\n",
      "22\n",
      "333\n",
      "4444\n"
     ]
    }
   ],
   "source": [
    "# 14. Alegeti un numar de la tastatura\n",
    "# Ex:7\n",
    "# Scrieti un program care sa genereze in consola urmatoarea piramida\n",
    "# 1\n",
    "# 22\n",
    "# 333\n",
    "# 4444\n",
    "# 55555\n",
    "# 666666\n",
    "# 7777777\n",
    "\n",
    "x = int(input(\"Introduceti un numar pentru a genera piramida: \"))\n",
    "for i in range(1,x+1):\n",
    "    print(i*str(i))"
   ]
  },
  {
   "cell_type": "code",
   "execution_count": 17,
   "id": "d4ee7066",
   "metadata": {},
   "outputs": [
    {
     "name": "stdout",
     "output_type": "stream",
     "text": [
      "Cifra curenta este 1\n",
      "Cifra curenta este 2\n",
      "Cifra curenta este 3\n",
      "Cifra curenta este 4\n",
      "Cifra curenta este 5\n",
      "Cifra curenta este 6\n",
      "Cifra curenta este 7\n",
      "Cifra curenta este 8\n",
      "Cifra curenta este 9\n",
      "Cifra curenta este 0\n"
     ]
    }
   ],
   "source": [
    "# 15. tastatura_telefon = [\n",
    "#   [1, 2, 3],\n",
    "#   [4, 5, 6],\n",
    "#   [7, 8, 9],\n",
    "#   [0]\n",
    "# ]\n",
    "# Iterati prin lista 2d\n",
    "# Printati ‘Cifra curenta este x’\n",
    "# (hint: nested for - adica for in for)\n",
    "\n",
    "tastatura_telefon = [\n",
    "  [1, 2, 3],\n",
    "  [4, 5, 6],\n",
    "  [7, 8, 9],\n",
    "  [0]\n",
    "]\n",
    "\n",
    "for rand in tastatura_telefon:\n",
    "    for tasta in rand:\n",
    "        print(f\"Cifra curenta este {tasta}\")"
   ]
  },
  {
   "cell_type": "code",
   "execution_count": null,
   "id": "43e280a0",
   "metadata": {},
   "outputs": [],
   "source": []
  }
 ],
 "metadata": {
  "kernelspec": {
   "display_name": "Python 3 (ipykernel)",
   "language": "python",
   "name": "python3"
  },
  "language_info": {
   "codemirror_mode": {
    "name": "ipython",
    "version": 3
   },
   "file_extension": ".py",
   "mimetype": "text/x-python",
   "name": "python",
   "nbconvert_exporter": "python",
   "pygments_lexer": "ipython3",
   "version": "3.8.12"
  }
 },
 "nbformat": 4,
 "nbformat_minor": 5
}
