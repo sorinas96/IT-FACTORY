{
 "cells": [
  {
   "cell_type": "code",
   "execution_count": null,
   "id": "bcbfecb0",
   "metadata": {},
   "outputs": [],
   "source": [
    "# 1. Functie care sa calculeze si sa returneze suma a 2 numere\n",
    "def sum_2(a, b):\n",
    "    return a+b\n",
    "\n",
    "print(sum_2(7,12))"
   ]
  },
  {
   "cell_type": "code",
   "execution_count": null,
   "id": "eeda8da8",
   "metadata": {},
   "outputs": [],
   "source": [
    "# 2. Functie care sa returneze TRUE daca un numar este par, FALSE pt impar\n",
    "def is_even(nr):\n",
    "    return nr % 2 == 0\n",
    "\n",
    "\n",
    "print(is_even(8))"
   ]
  },
  {
   "cell_type": "code",
   "execution_count": null,
   "id": "b898b748",
   "metadata": {},
   "outputs": [],
   "source": [
    "# 3. Functie care returneaza numarul total de caractere din numele tau complet.\n",
    "# (nume, prenume, nume_mijlociu) \n",
    "def name_length(last, middle, first):\n",
    "    return len(last+middle+first)\n",
    "\n",
    "print(name_length(\"Badea\", \"Gheorghe\", \"Ioan\"))"
   ]
  },
  {
   "cell_type": "code",
   "execution_count": null,
   "id": "2560317b",
   "metadata": {},
   "outputs": [],
   "source": [
    "# 4. Functie care returneaza aria dreptunghiului\n",
    "\n",
    "def rectangle_area(length, width):\n",
    "    return length*width\n",
    "\n",
    "print(rectangle_area(2,4))"
   ]
  },
  {
   "cell_type": "code",
   "execution_count": null,
   "id": "573a8b9b",
   "metadata": {},
   "outputs": [],
   "source": [
    "# 5. Functie care returneaza aria cercului\n",
    "from math import pi\n",
    "\n",
    "def circle_area(radius):\n",
    "    return pi * radius**2\n",
    "\n",
    "print(circle_area(3))"
   ]
  },
  {
   "cell_type": "code",
   "execution_count": null,
   "id": "79904744",
   "metadata": {},
   "outputs": [],
   "source": [
    "# 6. Functie care returneaza True daca un caracter x se gaseste intr-un string dat. Fasle daca nu\n",
    "def is_char_in_str(x, string):\n",
    "    return x in string\n",
    "\n",
    "print(is_char_in_str('a', 'My test string'))"
   ]
  },
  {
   "cell_type": "code",
   "execution_count": null,
   "id": "4ddf82b6",
   "metadata": {},
   "outputs": [],
   "source": [
    "# 7. Functie fara return, primeste un string si printeaza pe ecran:\n",
    "# Nr de caractere lower case este x\n",
    "# Nr de caractere upper case exte y \n",
    "def lower_upper_count(string):\n",
    "    upper_lower = {'upper': 0, 'lower': 0}\n",
    "    for c in string:\n",
    "        if c.isupper():\n",
    "            upper_lower['upper'] += 1\n",
    "        elif c.islower():\n",
    "            upper_lower['lower'] += 1\n",
    "            \n",
    "    return upper_lower\n",
    "\n",
    "print(lower_upper_count(\"Hello Pythonistas!\"))"
   ]
  },
  {
   "cell_type": "code",
   "execution_count": null,
   "id": "d495630c",
   "metadata": {},
   "outputs": [],
   "source": [
    "# 8. Functie care primeste o LISTA de numere si returneaza o LISTA doar cu numerele pozitive\n",
    "def list_of_positives(lst):\n",
    "    res_list = []\n",
    "    for n in lst:\n",
    "        if n>0:\n",
    "            res_list.append(n)\n",
    "\n",
    "    return res_list\n",
    "            \n",
    "print(list_of_positives([1,-6,-4,22,5,3,-9]))"
   ]
  },
  {
   "cell_type": "code",
   "execution_count": null,
   "id": "d37855e5",
   "metadata": {},
   "outputs": [],
   "source": [
    "# 9. Functie care nu returneaza nimic. Primeste 2 numere si PRINTEAZA\n",
    "# Primul numar x este mai mare decat al doilea nr y\n",
    "# Al doilea nr y este mai mare decat primul nr x\n",
    "# Numerele sunt egale. \n",
    "def about_2_numbers(x, y):\n",
    "    if x > y:\n",
    "        print(f\"Primul numar {x} este mai mare decat al doilea nr {y}\")\n",
    "    elif x < y:\n",
    "        print(f\"Al doilea numar {y} este mai mare decat primul nr {x}\")\n",
    "    else:\n",
    "        print(\"Numerele sunt egale\")\n",
    "        \n",
    "about_2_numbers(7, 3)"
   ]
  },
  {
   "cell_type": "code",
   "execution_count": null,
   "id": "54254eca",
   "metadata": {},
   "outputs": [],
   "source": [
    "# 10. Functie care primeste un numar si un set de numere.\n",
    "# Printeaza ‘am adaugat numarul nou in set’ + returneaza True\n",
    "# Sau Printeaza ‘nu am adaugat numarul in set. Acesta exista deja’ + returneaza False\n",
    "def add_to_set(n, numbers_set):\n",
    "    if n in numbers_set:\n",
    "        print('Nu am adaugat numarul in set. Acesta exista deja')\n",
    "        return False\n",
    "    else:\n",
    "        numbers_set.add(n)\n",
    "        print('Am adaugat numarul in set')\n",
    "        return True\n",
    "    \n",
    "print(add_to_set(3, {1,2,4,5}))"
   ]
  },
  {
   "cell_type": "code",
   "execution_count": null,
   "id": "3701af2a",
   "metadata": {},
   "outputs": [],
   "source": [
    "# 11. Functie care primeste o luna din an si returneaza cate zile are acea luna\n",
    "from calendar import monthrange\n",
    "\n",
    "def month_days_number(month):\n",
    "    return monthrange(2022, month)[1]  # ar trebui sa acceptam ca parametru si anul ca sa putem diferentia an bisect sau nu... dar presupunem an curent\n",
    "    \n",
    "print(month_days_number(9))"
   ]
  },
  {
   "cell_type": "code",
   "execution_count": null,
   "id": "173c41dd",
   "metadata": {},
   "outputs": [],
   "source": [
    "# 12. Functie calculator care sa returneze 4 valori \n",
    "# Suma, diferenta, inmultirea, impartirea a 2 numere\n",
    "\n",
    "# In final vei putea face:\n",
    "# a, b, c, d = calculator(10, 2)\n",
    "# print(\"Suma: \", a)\n",
    "# print(\"Diferenta: \", b)\n",
    "# print(\"Inmultirea: \", c)\n",
    "# print(\"Impartirea: \", d)\n",
    "def calculator(x, y):\n",
    "    return x+y, x-y, x*y, x/y\n",
    "\n",
    "a, b, c, d = calculator(10, 2)\n",
    "print(\"Suma: \", a)\n",
    "print(\"Diferenta: \", b)\n",
    "print(\"Inmultirea: \", c)\n",
    "print(\"Impartirea: \", d)"
   ]
  },
  {
   "cell_type": "code",
   "execution_count": null,
   "id": "bd2d04c7",
   "metadata": {},
   "outputs": [],
   "source": [
    "# 13. Functie care primeste o lista de cifre (adica doar 0-9)\n",
    "# Ex: [1, 3, 1, 5, 9, 7, 7, 5, 5]\n",
    "# Returneaza un DICT care ne spune de cate ori apare fiecare cifra\n",
    "# => dict {\n",
    "# 0: 0\n",
    "# 1 :2\n",
    "# 2: 0\n",
    "# 3: 1\n",
    "# 4: 0\n",
    "# 5: 3\n",
    "# 6: 0\n",
    "# 7: 2\n",
    "# 8: 0\n",
    "# 9: 1\n",
    "# }\n",
    "\n",
    "# v1\n",
    "def digits_count_v1(digits):\n",
    "    digits_count_dict = {0: 0, 1: 0, 2: 0, 3: 0, 4: 0, 5: 0, 6: 0, 7: 0, 8: 0, 9: 0}\n",
    "    for d in digits:\n",
    "        digits_count_dict[d] += 1\n",
    "    \n",
    "    return digits_count_dict\n",
    "\n",
    "print(digits_count_v1([1, 3, 1, 5, 9, 7, 7, 5, 5]))\n",
    "\n",
    "\n",
    "# v2\n",
    "from collections import Counter\n",
    "def digits_count_v2(digits):\n",
    "    return dict(Counter(digits)) \n",
    "    \n",
    "    return digits_count_dict\n",
    "\n",
    "print(digits_count_v2([1, 3, 1, 5, 9, 7, 7, 5, 5]))"
   ]
  },
  {
   "cell_type": "code",
   "execution_count": null,
   "id": "30d71984",
   "metadata": {},
   "outputs": [],
   "source": [
    "# 14. Functie care primeste 3 numere\n",
    "# Returneaza valoarea maxima dintre ele\n",
    "def max_3(x, y, z):\n",
    "    return max(x, y, z)\n",
    "\n",
    "print(max_3(5, 3, 7))"
   ]
  },
  {
   "cell_type": "code",
   "execution_count": null,
   "id": "d7f5a911",
   "metadata": {},
   "outputs": [],
   "source": [
    "# 15. Functie care sa primeasca un numar si sa retunreze suma tuturor numerelor de la 0 la acel numar\n",
    "# Ex: daca dam nr 3\n",
    "# Suma va fi 6 (0+1+2+3)\n",
    "def sum_til_nr(nr):\n",
    "    s = 0\n",
    "    for x in range(nr+1):\n",
    "        s += x\n",
    "    return s\n",
    "\n",
    "print(sum_til_nr(3))"
   ]
  },
  {
   "cell_type": "code",
   "execution_count": null,
   "id": "eff970b3",
   "metadata": {},
   "outputs": [],
   "source": [
    "# 16. Functie care nu primeste argumente, dar cere un input de la tastatura si va printa\n",
    "# “Numarul ales este pozitiv” sau “Numarul ales este negativ” sau “Numarul ales este 0”, dupa caz, iar daca nu introducem un numar, sa se afiseze “Nu ati ales un numar valid”; la final sa se afiseze “Sfarsitul functiei” indiferent de caz.\n",
    "def number_type():\n",
    "    nr = input(\"Pick a number: \")\n",
    "    try:\n",
    "        nr = float(nr)\n",
    "    except ValueError:\n",
    "        print(\"Nu ati ales un numar valid\")\n",
    "    else:\n",
    "        if nr > 0: \n",
    "            print(\"Numarul ales este pozitiv\")\n",
    "        elif nr < 0:\n",
    "            print(\"Numarul ales este negativ\")\n",
    "        else:\n",
    "            print(\"Numarul ales este 0\")\n",
    "    finally:\n",
    "        print(\"Sfarsitul functiei\")\n",
    "        \n",
    "number_type()"
   ]
  },
  {
   "cell_type": "code",
   "execution_count": null,
   "id": "de387d31",
   "metadata": {},
   "outputs": [],
   "source": [
    "# 17. Functie care primesete 2 liste de numere (numerele pot fi dublate)\n",
    "# Returnati numerele comune \n",
    "\n",
    "# Ex:\n",
    "# list1 = [1, 1, 2, 3]\n",
    "# list2 = [2, 2, 3, 4]\n",
    "# Raspuns: {2, 3}\n",
    "def common_numbers(lst1, lst2):\n",
    "    return set(lst1) & set(lst2)\n",
    "\n",
    "print(common_numbers([1, 1, 2, 3],[2, 2, 3, 4]))"
   ]
  },
  {
   "cell_type": "code",
   "execution_count": null,
   "id": "e7be2a2a",
   "metadata": {},
   "outputs": [],
   "source": [
    "# 18. Functie care sa aplice o reducere de pret. Daca apelul functiei nu primeste valoarea reducerii, sa ia valoarea default 10%.\n",
    "# Daca produsul costa 100 lei si aplicam reducere de 10%\n",
    "# Pretul va fi 90\n",
    "# Tratati cazurile in care reducerea e invalida. De ex o reducere de 110% e invalida\n",
    "def discount(price, discount_percent=10):\n",
    "    if discount_percent in range(0, 100):\n",
    "        return price - price * discount_percent/100\n",
    "    else:\n",
    "        print(\"Reducerea aplicata nu este valida\")\n",
    "        \n",
    "print(discount(100, 50))\n",
    "print(discount(100))"
   ]
  },
  {
   "cell_type": "code",
   "execution_count": 6,
   "id": "5f70f99b",
   "metadata": {},
   "outputs": [],
   "source": [
    "# 19. Functie care sa afiseze data si ora curenta din ro\n",
    "# (bonus: afisati si data si ora curenta din China)\n",
    "from datetime import datetime, timedelta, timezone\n",
    "\n",
    "# v1\n",
    "def display_date_time_v1():       \n",
    "    now = datetime.now()\n",
    "    print(f\"Date and time Romania: {now}\")\n",
    "    print(f\"Date and time China: {now + timedelta(hours=5)}\")   # stim ca diferenta Cn - Ro e de 5h...\n",
    "    \n",
    "display_date_time_v1()\n",
    "\n",
    "\n",
    "# v2\n",
    "import pytz    # cred ca trebuie instalat cu pip install...\n",
    "def display_date_time_v2():\n",
    "    timezone_ro = pytz.timezone('Europe/Bucharest')  # pt v2, trebuie stiute timezone-uri sau aflate (print(pytz.all_timezones)) \n",
    "    now = datetime.now(timezone_ro)\n",
    "    print(f\"Date and time Romania: {now}\")\n",
    "\n",
    "    timezone_cn = pytz.timezone('Asia/Hong_Kong') \n",
    "    now = datetime.now(timezone_cn)\n",
    "    print(f\"Date and time China: {now}\")\n",
    "\n",
    "display_date_time_v2()"
   ]
  },
  {
   "cell_type": "code",
   "execution_count": null,
   "id": "cb1f7a54",
   "metadata": {},
   "outputs": [],
   "source": [
    "# 20. Functie care sa afiseze cate zile mai sunt pana la ziua ta / sau pana la craciun daca nu vrei sa ne zici cand e ziua ta :)\n",
    "from datetime import datetime\n",
    "\n",
    "def days_til_birthday(birthday_date=\"25.12.2022\"):   # am ales sa dau ca argument o data sub forma de string, ca: \"zz.ll.aaaa\"\n",
    "    birthday_date = datetime.strptime(s, \"%d.%m.%Y\")\n",
    "    today = datetime.today()\n",
    "    \n",
    "    days_left = (birthday_date - today).days\n",
    "    print(days_left)\n",
    "\n",
    "days_til_birthday()"
   ]
  },
  {
   "cell_type": "code",
   "execution_count": null,
   "id": "e71bebf7",
   "metadata": {},
   "outputs": [],
   "source": [
    "# 21. Functie in care sa dai un nume romanesc si sa iti printeze pe ecran\n",
    "# ‘Numele este de baiat’ sau ‘Numele este de fata’\n",
    "def name_type(name):\n",
    "    if name[-1] == 'a' or name in ('Carmen',):     # probabil mai sunt si alte nume de fata care nu incep cu 'a', dar v-ati prins de idee\n",
    "        print('Numele este de fata')\n",
    "    else:\n",
    "        print('Numele este de baiat')\n",
    "        \n",
    "name_type(\"Andreea\")\n",
    "name_type(\"Andrei\")"
   ]
  }
 ],
 "metadata": {
  "kernelspec": {
   "display_name": "Python 3 (ipykernel)",
   "language": "python",
   "name": "python3"
  },
  "language_info": {
   "codemirror_mode": {
    "name": "ipython",
    "version": 3
   },
   "file_extension": ".py",
   "mimetype": "text/x-python",
   "name": "python",
   "nbconvert_exporter": "python",
   "pygments_lexer": "ipython3",
   "version": "3.8.12"
  }
 },
 "nbformat": 4,
 "nbformat_minor": 5
}
